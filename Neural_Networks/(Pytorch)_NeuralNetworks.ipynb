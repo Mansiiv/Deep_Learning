{
  "nbformat": 4,
  "nbformat_minor": 0,
  "metadata": {
    "colab": {
      "provenance": [],
      "toc_visible": true
    },
    "kernelspec": {
      "name": "python3",
      "display_name": "Python 3"
    },
    "language_info": {
      "name": "python"
    },
    "widgets": {
      "application/vnd.jupyter.widget-state+json": {
        "e6c846e896b04de3aaadefa57f987d3d": {
          "model_module": "@jupyter-widgets/controls",
          "model_name": "HBoxModel",
          "model_module_version": "1.5.0",
          "state": {
            "_dom_classes": [],
            "_model_module": "@jupyter-widgets/controls",
            "_model_module_version": "1.5.0",
            "_model_name": "HBoxModel",
            "_view_count": null,
            "_view_module": "@jupyter-widgets/controls",
            "_view_module_version": "1.5.0",
            "_view_name": "HBoxView",
            "box_style": "",
            "children": [
              "IPY_MODEL_47d2cc0f934549b5b54c25e4b64f15de",
              "IPY_MODEL_6f3a17a32145423ea8c86694266e0101",
              "IPY_MODEL_4f5fcd0077f44f03a7fb5379b08a39f9"
            ],
            "layout": "IPY_MODEL_5c550ddab4f748d68c47c7f6eff28ce3"
          }
        },
        "47d2cc0f934549b5b54c25e4b64f15de": {
          "model_module": "@jupyter-widgets/controls",
          "model_name": "HTMLModel",
          "model_module_version": "1.5.0",
          "state": {
            "_dom_classes": [],
            "_model_module": "@jupyter-widgets/controls",
            "_model_module_version": "1.5.0",
            "_model_name": "HTMLModel",
            "_view_count": null,
            "_view_module": "@jupyter-widgets/controls",
            "_view_module_version": "1.5.0",
            "_view_name": "HTMLView",
            "description": "",
            "description_tooltip": null,
            "layout": "IPY_MODEL_2967df6c9b3f4ec88eee8f91acbf72e2",
            "placeholder": "​",
            "style": "IPY_MODEL_fc5c7fa707734b229bf8c375e668bf19",
            "value": "Epoch 999: 100%"
          }
        },
        "6f3a17a32145423ea8c86694266e0101": {
          "model_module": "@jupyter-widgets/controls",
          "model_name": "FloatProgressModel",
          "model_module_version": "1.5.0",
          "state": {
            "_dom_classes": [],
            "_model_module": "@jupyter-widgets/controls",
            "_model_module_version": "1.5.0",
            "_model_name": "FloatProgressModel",
            "_view_count": null,
            "_view_module": "@jupyter-widgets/controls",
            "_view_module_version": "1.5.0",
            "_view_name": "ProgressView",
            "bar_style": "success",
            "description": "",
            "description_tooltip": null,
            "layout": "IPY_MODEL_f78d464f3ee64fc6ae27a78f969bfebc",
            "max": 4,
            "min": 0,
            "orientation": "horizontal",
            "style": "IPY_MODEL_50e67e67a69e4f528b3d150d8fdf006f",
            "value": 4
          }
        },
        "4f5fcd0077f44f03a7fb5379b08a39f9": {
          "model_module": "@jupyter-widgets/controls",
          "model_name": "HTMLModel",
          "model_module_version": "1.5.0",
          "state": {
            "_dom_classes": [],
            "_model_module": "@jupyter-widgets/controls",
            "_model_module_version": "1.5.0",
            "_model_name": "HTMLModel",
            "_view_count": null,
            "_view_module": "@jupyter-widgets/controls",
            "_view_module_version": "1.5.0",
            "_view_name": "HTMLView",
            "description": "",
            "description_tooltip": null,
            "layout": "IPY_MODEL_bc65d099cb4044e08334d17637f22a92",
            "placeholder": "​",
            "style": "IPY_MODEL_2699eca308454dba93800d4721c933ce",
            "value": " 4/4 [00:00&lt;00:00, 50.33it/s, v_num=0]"
          }
        },
        "5c550ddab4f748d68c47c7f6eff28ce3": {
          "model_module": "@jupyter-widgets/base",
          "model_name": "LayoutModel",
          "model_module_version": "1.2.0",
          "state": {
            "_model_module": "@jupyter-widgets/base",
            "_model_module_version": "1.2.0",
            "_model_name": "LayoutModel",
            "_view_count": null,
            "_view_module": "@jupyter-widgets/base",
            "_view_module_version": "1.2.0",
            "_view_name": "LayoutView",
            "align_content": null,
            "align_items": null,
            "align_self": null,
            "border": null,
            "bottom": null,
            "display": "inline-flex",
            "flex": null,
            "flex_flow": "row wrap",
            "grid_area": null,
            "grid_auto_columns": null,
            "grid_auto_flow": null,
            "grid_auto_rows": null,
            "grid_column": null,
            "grid_gap": null,
            "grid_row": null,
            "grid_template_areas": null,
            "grid_template_columns": null,
            "grid_template_rows": null,
            "height": null,
            "justify_content": null,
            "justify_items": null,
            "left": null,
            "margin": null,
            "max_height": null,
            "max_width": null,
            "min_height": null,
            "min_width": null,
            "object_fit": null,
            "object_position": null,
            "order": null,
            "overflow": null,
            "overflow_x": null,
            "overflow_y": null,
            "padding": null,
            "right": null,
            "top": null,
            "visibility": null,
            "width": "100%"
          }
        },
        "2967df6c9b3f4ec88eee8f91acbf72e2": {
          "model_module": "@jupyter-widgets/base",
          "model_name": "LayoutModel",
          "model_module_version": "1.2.0",
          "state": {
            "_model_module": "@jupyter-widgets/base",
            "_model_module_version": "1.2.0",
            "_model_name": "LayoutModel",
            "_view_count": null,
            "_view_module": "@jupyter-widgets/base",
            "_view_module_version": "1.2.0",
            "_view_name": "LayoutView",
            "align_content": null,
            "align_items": null,
            "align_self": null,
            "border": null,
            "bottom": null,
            "display": null,
            "flex": null,
            "flex_flow": null,
            "grid_area": null,
            "grid_auto_columns": null,
            "grid_auto_flow": null,
            "grid_auto_rows": null,
            "grid_column": null,
            "grid_gap": null,
            "grid_row": null,
            "grid_template_areas": null,
            "grid_template_columns": null,
            "grid_template_rows": null,
            "height": null,
            "justify_content": null,
            "justify_items": null,
            "left": null,
            "margin": null,
            "max_height": null,
            "max_width": null,
            "min_height": null,
            "min_width": null,
            "object_fit": null,
            "object_position": null,
            "order": null,
            "overflow": null,
            "overflow_x": null,
            "overflow_y": null,
            "padding": null,
            "right": null,
            "top": null,
            "visibility": null,
            "width": null
          }
        },
        "fc5c7fa707734b229bf8c375e668bf19": {
          "model_module": "@jupyter-widgets/controls",
          "model_name": "DescriptionStyleModel",
          "model_module_version": "1.5.0",
          "state": {
            "_model_module": "@jupyter-widgets/controls",
            "_model_module_version": "1.5.0",
            "_model_name": "DescriptionStyleModel",
            "_view_count": null,
            "_view_module": "@jupyter-widgets/base",
            "_view_module_version": "1.2.0",
            "_view_name": "StyleView",
            "description_width": ""
          }
        },
        "f78d464f3ee64fc6ae27a78f969bfebc": {
          "model_module": "@jupyter-widgets/base",
          "model_name": "LayoutModel",
          "model_module_version": "1.2.0",
          "state": {
            "_model_module": "@jupyter-widgets/base",
            "_model_module_version": "1.2.0",
            "_model_name": "LayoutModel",
            "_view_count": null,
            "_view_module": "@jupyter-widgets/base",
            "_view_module_version": "1.2.0",
            "_view_name": "LayoutView",
            "align_content": null,
            "align_items": null,
            "align_self": null,
            "border": null,
            "bottom": null,
            "display": null,
            "flex": "2",
            "flex_flow": null,
            "grid_area": null,
            "grid_auto_columns": null,
            "grid_auto_flow": null,
            "grid_auto_rows": null,
            "grid_column": null,
            "grid_gap": null,
            "grid_row": null,
            "grid_template_areas": null,
            "grid_template_columns": null,
            "grid_template_rows": null,
            "height": null,
            "justify_content": null,
            "justify_items": null,
            "left": null,
            "margin": null,
            "max_height": null,
            "max_width": null,
            "min_height": null,
            "min_width": null,
            "object_fit": null,
            "object_position": null,
            "order": null,
            "overflow": null,
            "overflow_x": null,
            "overflow_y": null,
            "padding": null,
            "right": null,
            "top": null,
            "visibility": null,
            "width": null
          }
        },
        "50e67e67a69e4f528b3d150d8fdf006f": {
          "model_module": "@jupyter-widgets/controls",
          "model_name": "ProgressStyleModel",
          "model_module_version": "1.5.0",
          "state": {
            "_model_module": "@jupyter-widgets/controls",
            "_model_module_version": "1.5.0",
            "_model_name": "ProgressStyleModel",
            "_view_count": null,
            "_view_module": "@jupyter-widgets/base",
            "_view_module_version": "1.2.0",
            "_view_name": "StyleView",
            "bar_color": null,
            "description_width": ""
          }
        },
        "bc65d099cb4044e08334d17637f22a92": {
          "model_module": "@jupyter-widgets/base",
          "model_name": "LayoutModel",
          "model_module_version": "1.2.0",
          "state": {
            "_model_module": "@jupyter-widgets/base",
            "_model_module_version": "1.2.0",
            "_model_name": "LayoutModel",
            "_view_count": null,
            "_view_module": "@jupyter-widgets/base",
            "_view_module_version": "1.2.0",
            "_view_name": "LayoutView",
            "align_content": null,
            "align_items": null,
            "align_self": null,
            "border": null,
            "bottom": null,
            "display": null,
            "flex": null,
            "flex_flow": null,
            "grid_area": null,
            "grid_auto_columns": null,
            "grid_auto_flow": null,
            "grid_auto_rows": null,
            "grid_column": null,
            "grid_gap": null,
            "grid_row": null,
            "grid_template_areas": null,
            "grid_template_columns": null,
            "grid_template_rows": null,
            "height": null,
            "justify_content": null,
            "justify_items": null,
            "left": null,
            "margin": null,
            "max_height": null,
            "max_width": null,
            "min_height": null,
            "min_width": null,
            "object_fit": null,
            "object_position": null,
            "order": null,
            "overflow": null,
            "overflow_x": null,
            "overflow_y": null,
            "padding": null,
            "right": null,
            "top": null,
            "visibility": null,
            "width": null
          }
        },
        "2699eca308454dba93800d4721c933ce": {
          "model_module": "@jupyter-widgets/controls",
          "model_name": "DescriptionStyleModel",
          "model_module_version": "1.5.0",
          "state": {
            "_model_module": "@jupyter-widgets/controls",
            "_model_module_version": "1.5.0",
            "_model_name": "DescriptionStyleModel",
            "_view_count": null,
            "_view_module": "@jupyter-widgets/base",
            "_view_module_version": "1.2.0",
            "_view_name": "StyleView",
            "description_width": ""
          }
        }
      }
    }
  },
  "cells": [
    {
      "cell_type": "markdown",
      "source": [
        "# Part A- 3 layer neural network"
      ],
      "metadata": {
        "id": "nkzhC2N_JAMf"
      }
    },
    {
      "cell_type": "markdown",
      "source": [
        "Step 1: Import Necessary Libraries\n"
      ],
      "metadata": {
        "id": "MiDN5QnTJDSl"
      }
    },
    {
      "cell_type": "code",
      "source": [
        "import numpy as np\n",
        "import pandas as pd\n",
        "import matplotlib.pyplot as plt"
      ],
      "metadata": {
        "id": "cdjNoaRSJJ0_"
      },
      "execution_count": null,
      "outputs": []
    },
    {
      "cell_type": "markdown",
      "source": [
        "Step 2: Define Neural Network Components"
      ],
      "metadata": {
        "id": "p13lsy_HJMtJ"
      }
    },
    {
      "cell_type": "markdown",
      "source": [
        "We will define the components of our neural network: Linear, ReLU, MSE, and the Model itself.\n",
        "\n",
        "Linear Layer Code:"
      ],
      "metadata": {
        "id": "emYchxxgJPg5"
      }
    },
    {
      "cell_type": "code",
      "source": [
        "class Linear:\n",
        "    def __init__(self, input_dim, num_hidden):\n",
        "        self.weights = np.random.randn(input_dim, num_hidden) * np.sqrt(2. / input_dim)\n",
        "        self.bias = np.zeros((1, num_hidden))\n",
        "\n",
        "    def __call__(self, x):\n",
        "        self.x = x\n",
        "        return x @ self.weights + self.bias\n",
        "\n",
        "    def backward(self, gradient):\n",
        "        self.weights_gradient = self.x.T @ gradient / self.x.shape[0]\n",
        "        self.bias_gradient = np.mean(gradient, axis=0, keepdims=True)\n",
        "        return gradient @ self.weights.T\n",
        "\n",
        "    def update(self, lr):\n",
        "        self.weights -= lr * self.weights_gradient\n",
        "        self.bias -= lr * self.bias_gradient"
      ],
      "metadata": {
        "id": "chTGj5ZQJNaK"
      },
      "execution_count": null,
      "outputs": []
    },
    {
      "cell_type": "markdown",
      "source": [
        "ReLU Activation Code:"
      ],
      "metadata": {
        "id": "gd9ha8JfJTtq"
      }
    },
    {
      "cell_type": "code",
      "source": [
        "class Relu:\n",
        "    def __call__(self, input_):\n",
        "        self.input_ = input_\n",
        "        return np.maximum(0, input_)\n",
        "\n",
        "    def backward(self, output_gradient):\n",
        "        return (self.input_ > 0) * output_gradient"
      ],
      "metadata": {
        "id": "_fVIlmZfJUMO"
      },
      "execution_count": null,
      "outputs": []
    },
    {
      "cell_type": "markdown",
      "source": [
        "Mean Squared Error (MSE) Loss Code:"
      ],
      "metadata": {
        "id": "VqTZRQjsJXru"
      }
    },
    {
      "cell_type": "code",
      "source": [
        "class MSE:\n",
        "    def __call__(self, y_pred, y_true):\n",
        "        self.y_pred = y_pred\n",
        "        self.y_true = y_true\n",
        "        return np.mean((y_pred - y_true) ** 2)\n",
        "\n",
        "    def backward(self):\n",
        "        return 2. * (self.y_pred - self.y_true) / self.y_pred.shape[0]"
      ],
      "metadata": {
        "id": "-i8cvizJJYKB"
      },
      "execution_count": null,
      "outputs": []
    },
    {
      "cell_type": "markdown",
      "source": [
        "Model Code:"
      ],
      "metadata": {
        "id": "hzmw8_wJJbLV"
      }
    },
    {
      "cell_type": "code",
      "source": [
        "class Model:\n",
        "    def __init__(self, input_dim, num_hidden1, num_hidden2):\n",
        "        self.linear1 = Linear(input_dim, num_hidden1)\n",
        "        self.relu1 = Relu()\n",
        "        self.linear2 = Linear(num_hidden1, num_hidden2)\n",
        "        self.relu2 = Relu()\n",
        "        self.linear3 = Linear(num_hidden2, 1)\n",
        "\n",
        "    def __call__(self, x):\n",
        "        x = self.linear1(x)\n",
        "        x = self.relu1(x)\n",
        "        x = self.linear2(x)\n",
        "        x = self.relu2(x)\n",
        "        x = self.linear3(x)\n",
        "        return x\n",
        "\n",
        "    def backward(self, output_gradient):\n",
        "        gradient = self.linear3.backward(output_gradient)\n",
        "        gradient = self.relu2.backward(gradient)\n",
        "        gradient = self.linear2.backward(gradient)\n",
        "        gradient = self.relu1.backward(gradient)\n",
        "        self.linear1.backward(gradient)\n",
        "\n",
        "    def update(self, lr):\n",
        "        self.linear1.update(lr)\n",
        "        self.linear2.update(lr)\n",
        "        self.linear3.update(lr)"
      ],
      "metadata": {
        "id": "N-T2KpKaJbnc"
      },
      "execution_count": null,
      "outputs": []
    },
    {
      "cell_type": "markdown",
      "source": [
        "Step 3: Generate the Dataset\n"
      ],
      "metadata": {
        "id": "4F6qF6c8JvN5"
      }
    },
    {
      "cell_type": "markdown",
      "source": [
        "We'll create a synthetic dataset using NumPy. This dataset will have features a, b, and c and a target variable y, which is a nonlinear combination of the features."
      ],
      "metadata": {
        "id": "6X9muTlKKI8A"
      }
    },
    {
      "cell_type": "code",
      "source": [
        "np.random.seed(7)  # Ensure reproducibility\n",
        "\n",
        "# Generate random values\n",
        "a_values = np.random.uniform(-10, 10, 500)\n",
        "b_values = np.random.uniform(-10, 10, 500)\n",
        "c_values = np.random.uniform(-10, 10, 500)\n",
        "y_values = 5*a_values**2 + 2*b_values**2 + 4*c_values**2 + 7\n",
        "\n",
        "df = pd.DataFrame({'a': a_values, 'b': b_values, 'c': c_values, 'y': y_values})"
      ],
      "metadata": {
        "id": "hA8nCbv6JwGj"
      },
      "execution_count": null,
      "outputs": []
    },
    {
      "cell_type": "markdown",
      "source": [
        "Step 4: Prepare the Data for Training"
      ],
      "metadata": {
        "id": "P4QeolYZJycX"
      }
    },
    {
      "cell_type": "markdown",
      "source": [
        "We'll split our dataset into features (x) and targets (y) to prepare it for training."
      ],
      "metadata": {
        "id": "UFiVpEy_KGzw"
      }
    },
    {
      "cell_type": "code",
      "source": [
        "x = df.drop('y', axis=1).to_numpy()  # Features\n",
        "y = df['y'].to_numpy().reshape(-1, 1)  # Target variable"
      ],
      "metadata": {
        "id": "mRBNSwUjJzgG"
      },
      "execution_count": null,
      "outputs": []
    },
    {
      "cell_type": "markdown",
      "source": [
        "Step 5: Train the Model"
      ],
      "metadata": {
        "id": "IqymnyJAKCb_"
      }
    },
    {
      "cell_type": "markdown",
      "source": [
        "Now, we will define a function to train our model using the dataset. This includes performing forward and backward passes and updating the model's parameters.\n"
      ],
      "metadata": {
        "id": "0BM6irTGKEXa"
      }
    },
    {
      "cell_type": "code",
      "source": [
        "def fit(x, y, model, loss, lr, num_epochs):\n",
        "    for epoch in range(num_epochs):\n",
        "        y_pred = model(x)  # Forward pass\n",
        "        loss_value = loss(y_pred, y)  # Calculate loss\n",
        "        gradient_from_loss = loss.backward()  # Backpropagation\n",
        "        model.backward(gradient_from_loss)  # Backpropagation\n",
        "        model.update(lr)  # Update model parameters\n",
        "\n",
        "        if epoch % 100 == 0:\n",
        "            print(f'Epoch {epoch}, Loss: {loss_value}')"
      ],
      "metadata": {
        "id": "WRQYdTnBKANh"
      },
      "execution_count": null,
      "outputs": []
    },
    {
      "cell_type": "markdown",
      "source": [
        "Running the Training Process\n",
        "\n",
        "Finally, we initialize our model, loss function, and start the training process. Given that full training might be time-consuming, let's start with a smaller number of epochs."
      ],
      "metadata": {
        "id": "bUVHw_GyKQPn"
      }
    },
    {
      "cell_type": "code",
      "source": [
        "model = Model(3, 20, 20)  # Initialize the model\n",
        "loss = MSE()  # Initialize the loss function\n",
        "\n",
        "# Train the model for a smaller number of epochs for demonstration\n",
        "fit(x, y, model, loss, lr=0.01, num_epochs=1000)"
      ],
      "metadata": {
        "colab": {
          "base_uri": "https://localhost:8080/"
        },
        "id": "dKwwP1xZKSjd",
        "outputId": "9cae6195-500f-43e5-f7c7-cef92f35f90c"
      },
      "execution_count": null,
      "outputs": [
        {
          "output_type": "stream",
          "name": "stdout",
          "text": [
            "Epoch 0, Loss: 184735.52993080404\n",
            "Epoch 100, Loss: 5157.166075002514\n",
            "Epoch 200, Loss: 4659.1099540953055\n",
            "Epoch 300, Loss: 4316.2891711410075\n",
            "Epoch 400, Loss: 4002.253949891425\n",
            "Epoch 500, Loss: 3706.1788877859713\n",
            "Epoch 600, Loss: 3406.780360649313\n",
            "Epoch 700, Loss: 3080.492184659687\n",
            "Epoch 800, Loss: 2747.3604971898103\n",
            "Epoch 900, Loss: 2411.698918950176\n"
          ]
        }
      ]
    },
    {
      "cell_type": "markdown",
      "source": [
        "Step 6: Predictions and Evaluation"
      ],
      "metadata": {
        "id": "347rNHtOK2-o"
      }
    },
    {
      "cell_type": "code",
      "source": [
        "# Use the trained model to make predictions\n",
        "y_pred = model(x)\n",
        "\n",
        "# Plotting the actual vs predicted values\n",
        "plt.figure(figsize=(10, 6))\n",
        "plt.scatter(y, y_pred, alpha=0.5)\n",
        "plt.title('Actual vs. Predicted Values')\n",
        "plt.xlabel('Actual Values')\n",
        "plt.ylabel('Predicted Values')\n",
        "plt.grid(True)\n",
        "plt.show()"
      ],
      "metadata": {
        "colab": {
          "base_uri": "https://localhost:8080/",
          "height": 564
        },
        "id": "GqOsCji3K4_0",
        "outputId": "351163cc-4f2d-4bb5-ea0d-e6ae3d905a0f"
      },
      "execution_count": null,
      "outputs": [
        {
          "output_type": "display_data",
          "data": {
            "text/plain": [
              "<Figure size 1000x600 with 1 Axes>"
            ],
            "image/png": "[encoded data removed]"
          },
          "metadata": {}
        }
      ]
    },
    {
      "cell_type": "markdown",
      "source": [
        "To improve the model, we'll implement some of the strategies mentioned previously. We will add more complexity to the model, tuning some hyperparameters, and normalizing our data."
      ],
      "metadata": {
        "id": "wXM81YlNbQSy"
      }
    },
    {
      "cell_type": "code",
      "source": [
        "from sklearn.preprocessing import StandardScaler\n",
        "\n",
        "# Initialize the scaler\n",
        "scaler = StandardScaler()\n",
        "# Fit the scaler to the data and transform it\n",
        "x_scaled = scaler.fit_transform(x)"
      ],
      "metadata": {
        "id": "24YJz67pbR0d"
      },
      "execution_count": null,
      "outputs": []
    },
    {
      "cell_type": "code",
      "source": [
        "class Model:\n",
        "    def __init__(self, input_dim, num_hidden1, num_hidden2, num_hidden3):\n",
        "        self.linear1 = Linear(input_dim, num_hidden1)\n",
        "        self.relu1 = Relu()\n",
        "        self.linear2 = Linear(num_hidden1, num_hidden2)\n",
        "        self.relu2 = Relu()\n",
        "        self.linear3 = Linear(num_hidden2, num_hidden3)\n",
        "        self.relu3 = Relu()\n",
        "        self.linear4 = Linear(num_hidden3, 1)\n",
        "\n",
        "    def __call__(self, x):\n",
        "        x = self.linear1(x)\n",
        "        x = self.relu1(x)\n",
        "        x = self.linear2(x)\n",
        "        x = self.relu2(x)\n",
        "        x = self.linear3(x)\n",
        "        x = self.relu3(x)\n",
        "        x = self.linear4(x)\n",
        "        return x\n",
        "\n",
        "    def backward(self, output_gradient):\n",
        "        gradient = self.linear4.backward(output_gradient)\n",
        "        gradient = self.relu3.backward(gradient)\n",
        "        gradient = self.linear3.backward(gradient)\n",
        "        gradient = self.relu2.backward(gradient)\n",
        "        gradient = self.linear2.backward(gradient)\n",
        "        gradient = self.relu1.backward(gradient)\n",
        "        self.linear1.backward(gradient)\n",
        "\n",
        "    def update(self, lr):\n",
        "        self.linear1.update(lr)\n",
        "        self.linear2.update(lr)\n",
        "        self.linear3.update(lr)\n",
        "        self.linear4.update(lr)\n",
        "\n",
        "# Increase the number of neurons in each layer\n",
        "model = Model(input_dim=3, num_hidden1=64, num_hidden2=64, num_hidden3=64)\n",
        "\n",
        "# Train the model with the normalized features\n",
        "fit(x_scaled, y, model, loss, lr=0.001, num_epochs=5000)\n"
      ],
      "metadata": {
        "colab": {
          "base_uri": "https://localhost:8080/"
        },
        "id": "Z46mYxcebU1B",
        "outputId": "4652bd25-6977-4bb1-9657-b4845d2b6d25"
      },
      "execution_count": null,
      "outputs": [
        {
          "output_type": "stream",
          "name": "stdout",
          "text": [
            "Epoch 0, Loss: 183767.47809723992\n",
            "Epoch 100, Loss: 142433.33623006786\n",
            "Epoch 200, Loss: 10727.882324888467\n",
            "Epoch 300, Loss: 8087.6610374332295\n",
            "Epoch 400, Loss: 6675.280622502078\n",
            "Epoch 500, Loss: 5668.457290996845\n",
            "Epoch 600, Loss: 4914.739730787154\n",
            "Epoch 700, Loss: 4322.3212369102785\n",
            "Epoch 800, Loss: 3826.8132185477084\n",
            "Epoch 900, Loss: 3395.399299910602\n",
            "Epoch 1000, Loss: 3021.594749822227\n",
            "Epoch 1100, Loss: 2692.2450583648238\n",
            "Epoch 1200, Loss: 2399.46443532226\n",
            "Epoch 1300, Loss: 2139.1771560992047\n",
            "Epoch 1400, Loss: 1909.388542839814\n",
            "Epoch 1500, Loss: 1705.7433046078527\n",
            "Epoch 1600, Loss: 1525.3674469505297\n",
            "Epoch 1700, Loss: 1365.0784589179764\n",
            "Epoch 1800, Loss: 1224.1456969724934\n",
            "Epoch 1900, Loss: 1102.576854107534\n",
            "Epoch 2000, Loss: 997.9334593573046\n",
            "Epoch 2100, Loss: 906.6248651014859\n",
            "Epoch 2200, Loss: 828.9748003613472\n",
            "Epoch 2300, Loss: 762.9779135628887\n",
            "Epoch 2400, Loss: 706.3013881907957\n",
            "Epoch 2500, Loss: 657.8154765990081\n",
            "Epoch 2600, Loss: 616.7627736422667\n",
            "Epoch 2700, Loss: 581.5566432581785\n",
            "Epoch 2800, Loss: 551.3118519350999\n",
            "Epoch 2900, Loss: 525.19597005982\n",
            "Epoch 3000, Loss: 503.10657975621933\n",
            "Epoch 3100, Loss: 483.98387458887396\n",
            "Epoch 3200, Loss: 467.4686326332744\n",
            "Epoch 3300, Loss: 453.0971522281259\n",
            "Epoch 3400, Loss: 440.4390201478909\n",
            "Epoch 3500, Loss: 429.11332784918915\n",
            "Epoch 3600, Loss: 418.65973143782753\n",
            "Epoch 3700, Loss: 408.9897765620661\n",
            "Epoch 3800, Loss: 400.2917746437917\n",
            "Epoch 3900, Loss: 392.33486669831126\n",
            "Epoch 4000, Loss: 384.80147493683666\n",
            "Epoch 4100, Loss: 377.66519508073105\n",
            "Epoch 4200, Loss: 371.1188935971666\n",
            "Epoch 4300, Loss: 365.10366696482396\n",
            "Epoch 4400, Loss: 359.29920488200185\n",
            "Epoch 4500, Loss: 353.7864765122636\n",
            "Epoch 4600, Loss: 348.2406785723631\n",
            "Epoch 4700, Loss: 343.0979116312036\n",
            "Epoch 4800, Loss: 338.05405442663215\n",
            "Epoch 4900, Loss: 333.1902404975846\n"
          ]
        }
      ]
    },
    {
      "cell_type": "code",
      "source": [
        "# Assuming that the `fit` function and the loss are already defined as before, we start training\n",
        "fit(x_scaled, y, model, loss, lr=0.001, num_epochs=5000)\n"
      ],
      "metadata": {
        "colab": {
          "base_uri": "https://localhost:8080/"
        },
        "id": "xlhqZ1izbZv9",
        "outputId": "1027a44b-a86a-40d1-97c9-28bb2fd64242"
      },
      "execution_count": null,
      "outputs": [
        {
          "output_type": "stream",
          "name": "stdout",
          "text": [
            "Epoch 0, Loss: 328.6791921181595\n",
            "Epoch 100, Loss: 324.4554416207336\n",
            "Epoch 200, Loss: 320.43840052635767\n",
            "Epoch 300, Loss: 316.53839989709434\n",
            "Epoch 400, Loss: 312.67798410290976\n",
            "Epoch 500, Loss: 308.99406536961453\n",
            "Epoch 600, Loss: 305.366184446572\n",
            "Epoch 700, Loss: 301.784528571367\n",
            "Epoch 800, Loss: 298.3788175975349\n",
            "Epoch 900, Loss: 295.0914146695619\n",
            "Epoch 1000, Loss: 291.90124265157885\n",
            "Epoch 1100, Loss: 288.8174572134337\n",
            "Epoch 1200, Loss: 285.88490582593414\n",
            "Epoch 1300, Loss: 283.0790891978088\n",
            "Epoch 1400, Loss: 280.3569229469503\n",
            "Epoch 1500, Loss: 277.72715485210205\n",
            "Epoch 1600, Loss: 275.10909295063806\n",
            "Epoch 1700, Loss: 272.51051039940927\n",
            "Epoch 1800, Loss: 269.88777107352956\n",
            "Epoch 1900, Loss: 267.2883336624028\n",
            "Epoch 2000, Loss: 264.74619834379746\n",
            "Epoch 2100, Loss: 262.27653310413365\n",
            "Epoch 2200, Loss: 259.8751728142668\n",
            "Epoch 2300, Loss: 257.50627693013405\n",
            "Epoch 2400, Loss: 255.1608654558394\n",
            "Epoch 2500, Loss: 252.87318039847347\n",
            "Epoch 2600, Loss: 250.62821226894397\n",
            "Epoch 2700, Loss: 248.4325688039299\n",
            "Epoch 2800, Loss: 246.28428376682294\n",
            "Epoch 2900, Loss: 244.20217860780664\n",
            "Epoch 3000, Loss: 242.1160959331048\n",
            "Epoch 3100, Loss: 239.9149834065634\n",
            "Epoch 3200, Loss: 237.72825042954705\n",
            "Epoch 3300, Loss: 235.51501640365422\n",
            "Epoch 3400, Loss: 233.32223154313047\n",
            "Epoch 3500, Loss: 231.19035303852823\n",
            "Epoch 3600, Loss: 229.04380650368944\n",
            "Epoch 3700, Loss: 226.88428024619031\n",
            "Epoch 3800, Loss: 224.7455416486536\n",
            "Epoch 3900, Loss: 222.68405047378985\n",
            "Epoch 4000, Loss: 220.60848538435667\n",
            "Epoch 4100, Loss: 218.54554714264196\n",
            "Epoch 4200, Loss: 216.5082160378041\n",
            "Epoch 4300, Loss: 214.50781621295957\n",
            "Epoch 4400, Loss: 212.51400075288822\n",
            "Epoch 4500, Loss: 210.51785470719508\n",
            "Epoch 4600, Loss: 208.55295759748591\n",
            "Epoch 4700, Loss: 206.57441956603833\n",
            "Epoch 4800, Loss: 204.62104311402788\n",
            "Epoch 4900, Loss: 202.7048660669758\n"
          ]
        }
      ]
    },
    {
      "cell_type": "code",
      "source": [
        "# Use the trained model to make predictions on the normalized features\n",
        "y_pred_improved = model(x_scaled)\n",
        "\n",
        "# Plotting the actual vs predicted values for the improved model\n",
        "plt.figure(figsize=(10, 6))\n",
        "plt.scatter(y, y_pred_improved, alpha=0.5)\n",
        "plt.plot([y.min(), y.max()], [y.min(), y.max()], 'k--', lw=4)  # Diagonal line for reference\n",
        "plt.title('Actual vs. Predicted Values (Improved Model)')\n",
        "plt.xlabel('Actual Values')\n",
        "plt.ylabel('Predicted Values')\n",
        "plt.grid(True)\n",
        "plt.show()\n"
      ],
      "metadata": {
        "colab": {
          "base_uri": "https://localhost:8080/",
          "height": 564
        },
        "id": "zKPgqDCsgI87",
        "outputId": "13e4b73f-422a-4425-9baf-3bad1e6db994"
      },
      "execution_count": null,
      "outputs": [
        {
          "output_type": "display_data",
          "data": {
            "text/plain": [
              "<Figure size 1000x600 with 1 Axes>"
            ],
            "image/png": "[encoded data removed]"
          },
          "metadata": {}
        }
      ]
    },
    {
      "cell_type": "code",
      "source": [
        "from sklearn.metrics import mean_squared_error, mean_absolute_error, r2_score\n",
        "\n",
        "# Calculate metrics for the original model\n",
        "rmse_original = mean_squared_error(y, y_pred, squared=False)  # Pass squared=False for RMSE\n",
        "mae_original = mean_absolute_error(y, y_pred)\n",
        "r2_original = r2_score(y, y_pred)\n",
        "\n",
        "# Calculate metrics for the improved model\n",
        "rmse_improved = mean_squared_error(y, y_pred_improved, squared=False)\n",
        "mae_improved = mean_absolute_error(y, y_pred_improved)\n",
        "r2_improved = r2_score(y, y_pred_improved)\n",
        "\n",
        "# Print out the metrics for comparison\n",
        "print(\"Original Model:\")\n",
        "print(f\"RMSE: {rmse_original:.2f}\")\n",
        "print(f\"MAE: {mae_original:.2f}\")\n",
        "print(f\"R²: {r2_original:.2f}\")\n",
        "\n",
        "print(\"\\nImproved Model:\")\n",
        "print(f\"RMSE: {rmse_improved:.2f}\")\n",
        "print(f\"MAE: {mae_improved:.2f}\")\n",
        "print(f\"R²: {r2_improved:.2f}\")\n"
      ],
      "metadata": {
        "colab": {
          "base_uri": "https://localhost:8080/"
        },
        "id": "PIkropu_sLMi",
        "outputId": "697f6dd7-0c26-4ccd-8410-157bd351e73e"
      },
      "execution_count": null,
      "outputs": [
        {
          "output_type": "stream",
          "name": "stdout",
          "text": [
            "Original Model:\n",
            "RMSE: 45.45\n",
            "MAE: 36.74\n",
            "R²: 0.95\n",
            "\n",
            "Improved Model:\n",
            "RMSE: 14.17\n",
            "MAE: 10.53\n",
            "R²: 0.99\n"
          ]
        }
      ]
    },
    {
      "cell_type": "markdown",
      "source": [
        "**Root Mean Square Error (RMSE):**\n",
        "\n",
        "Original Model: RMSE of 45.45 suggests that, on average, the model's predictions were about 45.45 units away from the actual values.\n",
        "Improved Model: RMSE of 14.17 is a significant improvement, indicating that the improved model's predictions are, on average, much closer to the actual values.\n",
        "\n",
        "**Mean Absolute Error (MAE):**\n",
        "\n",
        "Original Model: MAE of 36.74 means that the average absolute error of the predictions was 36.74 units from the actual values.\n",
        "Improved Model: MAE of 10.53 is substantially lower, showing that the improved model has a much tighter average error.\n",
        "\n",
        "**Coefficient of Determination (R²):**\n",
        "\n",
        "Original Model: An R² of 0.95 indicates that 95% of the variance in the target variable was predictable from the features using the original model. This is considered quite high.\n",
        "Improved Model: An R² of 0.99 is closer to the maximum value of 1, signifying that 99% of the variance is predictable, which means the improved model has an excellent fit to the data and is able to explain more of the variability in the target variable."
      ],
      "metadata": {
        "id": "zkvn3A6wugoq"
      }
    },
    {
      "cell_type": "markdown",
      "source": [
        "### Conclusion"
      ],
      "metadata": {
        "id": "w9AkNJvszwUI"
      }
    },
    {
      "cell_type": "markdown",
      "source": [
        "These improvements in the metrics indicate that the changes made to the model (such as increasing complexity, normalizing data, etc.) have had a positive effect on the model's performance. The improved model is more accurate and provides predictions that are closer to the actual values with less error. This is a significant enhancement in the model's predictive ability."
      ],
      "metadata": {
        "id": "rcDcSzVksg5X"
      }
    },
    {
      "cell_type": "markdown",
      "source": [
        "# Part B : Used tensorflow einsum\n",
        "\n",
        " We will define a three-layer neural network with TensorFlow's einsum for efficient matrix multiplication, generate synthetic non-linear data, and train the model."
      ],
      "metadata": {
        "id": "vJdr9ZA-vF2j"
      }
    },
    {
      "cell_type": "code",
      "source": [
        "import numpy as np\n",
        "import pandas as pd\n",
        "import tensorflow as tf\n"
      ],
      "metadata": {
        "id": "h-GAHSOWvHfU"
      },
      "execution_count": 27,
      "outputs": []
    },
    {
      "cell_type": "markdown",
      "source": [
        "Step 2: Generate the Synthetic data\n",
        "\n",
        "We generate synthetic data based on the non-linear equation."
      ],
      "metadata": {
        "id": "w_XItdHNwqyH"
      }
    },
    {
      "cell_type": "code",
      "source": [
        "# Seed for reproducibility\n",
        "np.random.seed(42)\n",
        "\n",
        "# Generate features\n",
        "a_values = np.random.normal(0, 2, 500)\n",
        "b_values = np.random.normal(0, 2, 500)\n",
        "c_values = np.random.normal(0, 2, 500)\n",
        "\n",
        "# Non-linear equation for target variable y\n",
        "y_values = 5 * a_values**2 + 2 * b_values**3 - 3 * c_values + 7\n",
        "\n",
        "# Stack features into a single array\n",
        "features = np.stack([a_values, b_values, c_values], axis=1)\n"
      ],
      "metadata": {
        "id": "zqxQAigZwtLo"
      },
      "execution_count": 28,
      "outputs": []
    },
    {
      "cell_type": "markdown",
      "source": [
        "Step 3: Create a Custom Model Using TensorFlow's einsum"
      ],
      "metadata": {
        "id": "UNxKRrIvAfmb"
      }
    },
    {
      "cell_type": "markdown",
      "source": [
        "We define a custom model that uses einsum for its linear layers."
      ],
      "metadata": {
        "id": "VF1ISSyRAjQE"
      }
    },
    {
      "cell_type": "code",
      "source": [
        "class CustomModel(tf.keras.Model):\n",
        "    def __init__(self):\n",
        "        super(CustomModel, self).__init__()\n",
        "        # Initialize weights and biases\n",
        "        self.W1 = tf.Variable(tf.random.normal([3, 64]))\n",
        "        self.b1 = tf.Variable(tf.zeros([64]))\n",
        "        self.W2 = tf.Variable(tf.random.normal([64, 64]))\n",
        "        self.b2 = tf.Variable(tf.zeros([64]))\n",
        "        self.W3 = tf.Variable(tf.random.normal([64, 1]))\n",
        "        self.b3 = tf.Variable(tf.zeros([1]))\n",
        "\n",
        "    def call(self, inputs):\n",
        "        # First layer\n",
        "        x = tf.einsum('ij,jk->ik', inputs, self.W1) + self.b1\n",
        "        x = tf.nn.relu(x)\n",
        "        # Second layer\n",
        "        x = tf.einsum('ij,jk->ik', x, self.W2) + self.b2\n",
        "        x = tf.nn.relu(x)\n",
        "        # Output layer\n",
        "        x = tf.einsum('ij,jk->ik', x, self.W3) + self.b3\n",
        "        return x\n",
        "\n",
        "# Instantiate the custom model\n",
        "model = CustomModel()\n"
      ],
      "metadata": {
        "id": "a4LTm3epAf81"
      },
      "execution_count": 29,
      "outputs": []
    },
    {
      "cell_type": "markdown",
      "source": [
        "Step 4: compile the model\n"
      ],
      "metadata": {
        "id": "5DNYJ0iYwvll"
      }
    },
    {
      "cell_type": "code",
      "source": [
        "model.compile(optimizer='adam', loss='mean_squared_error')"
      ],
      "metadata": {
        "id": "qUdE9KPSw81P"
      },
      "execution_count": 30,
      "outputs": []
    },
    {
      "cell_type": "markdown",
      "source": [
        "Step 4: Build and Compile the Neural Network Model\n"
      ],
      "metadata": {
        "id": "HA-ipAYn0DX_"
      }
    },
    {
      "cell_type": "code",
      "source": [
        "# Define the neural network model\n",
        "model = tf.keras.Sequential([\n",
        "    tf.keras.layers.Dense(64, activation='relu', input_shape=(3,)),\n",
        "    tf.keras.layers.Dense(64, activation='relu'),\n",
        "    tf.keras.layers.Dense(1)\n",
        "])\n",
        "\n",
        "# Compile the model with an optimizer and loss function\n",
        "model.compile(optimizer='adam', loss='mean_squared_error')\n"
      ],
      "metadata": {
        "id": "nNqtFB7s0Dyg"
      },
      "execution_count": 20,
      "outputs": []
    },
    {
      "cell_type": "markdown",
      "source": [
        "Step 5: Train the Model\n"
      ],
      "metadata": {
        "id": "kvhXcCMB1ItW"
      }
    },
    {
      "cell_type": "code",
      "source": [
        "# Convert targets to a TensorFlow tensor\n",
        "targets = tf.convert_to_tensor(y_values, dtype=tf.float32)\n",
        "\n",
        "# Run the training loop\n",
        "model.fit(features, targets, epochs=1000)\n"
      ],
      "metadata": {
        "colab": {
          "base_uri": "https://localhost:8080/"
        },
        "id": "1wjfxOne0FuG",
        "outputId": "2c656f90-d78a-4359-8b18-26e76b14ff8d"
      },
      "execution_count": 31,
      "outputs": [
        {
          "output_type": "stream",
          "name": "stdout",
          "text": [
            "Epoch 1/1000\n",
            "16/16 [==============================] - 1s 2ms/step - loss: 3004.5237\n",
            "Epoch 2/1000\n",
            "16/16 [==============================] - 0s 2ms/step - loss: 2372.4504\n",
            "Epoch 3/1000\n",
            "16/16 [==============================] - 0s 2ms/step - loss: 2004.6239\n",
            "Epoch 4/1000\n",
            "16/16 [==============================] - 0s 2ms/step - loss: 1724.5901\n",
            "Epoch 5/1000\n",
            "16/16 [==============================] - 0s 2ms/step - loss: 1559.4868\n",
            "Epoch 6/1000\n",
            "16/16 [==============================] - 0s 2ms/step - loss: 1411.1034\n",
            "Epoch 7/1000\n",
            "16/16 [==============================] - 0s 2ms/step - loss: 1312.0148\n",
            "Epoch 8/1000\n",
            "16/16 [==============================] - 0s 2ms/step - loss: 1229.7025\n",
            "Epoch 9/1000\n",
            "16/16 [==============================] - 0s 2ms/step - loss: 1150.5381\n",
            "Epoch 10/1000\n",
            "16/16 [==============================] - 0s 2ms/step - loss: 1100.4369\n",
            "Epoch 11/1000\n",
            "16/16 [==============================] - 0s 2ms/step - loss: 1054.9351\n",
            "Epoch 12/1000\n",
            "16/16 [==============================] - 0s 2ms/step - loss: 1002.1694\n",
            "Epoch 13/1000\n",
            "16/16 [==============================] - 0s 2ms/step - loss: 968.5082\n",
            "Epoch 14/1000\n",
            "16/16 [==============================] - 0s 2ms/step - loss: 924.9897\n",
            "Epoch 15/1000\n",
            "16/16 [==============================] - 0s 2ms/step - loss: 901.6746\n",
            "Epoch 16/1000\n",
            "16/16 [==============================] - 0s 2ms/step - loss: 869.4578\n",
            "Epoch 17/1000\n",
            "16/16 [==============================] - 0s 2ms/step - loss: 848.9745\n",
            "Epoch 18/1000\n",
            "16/16 [==============================] - 0s 2ms/step - loss: 822.9480\n",
            "Epoch 19/1000\n",
            "16/16 [==============================] - 0s 2ms/step - loss: 801.9441\n",
            "Epoch 20/1000\n",
            "16/16 [==============================] - 0s 2ms/step - loss: 778.5812\n",
            "Epoch 21/1000\n",
            "16/16 [==============================] - 0s 2ms/step - loss: 759.0360\n",
            "Epoch 22/1000\n",
            "16/16 [==============================] - 0s 3ms/step - loss: 739.4240\n",
            "Epoch 23/1000\n",
            "16/16 [==============================] - 0s 2ms/step - loss: 719.4455\n",
            "Epoch 24/1000\n",
            "16/16 [==============================] - 0s 2ms/step - loss: 704.9151\n",
            "Epoch 25/1000\n",
            "16/16 [==============================] - 0s 2ms/step - loss: 690.2590\n",
            "Epoch 26/1000\n",
            "16/16 [==============================] - 0s 2ms/step - loss: 670.7303\n",
            "Epoch 27/1000\n",
            "16/16 [==============================] - 0s 2ms/step - loss: 662.2715\n",
            "Epoch 28/1000\n",
            "16/16 [==============================] - 0s 2ms/step - loss: 644.4860\n",
            "Epoch 29/1000\n",
            "16/16 [==============================] - 0s 3ms/step - loss: 633.6005\n",
            "Epoch 30/1000\n",
            "16/16 [==============================] - 0s 2ms/step - loss: 629.2992\n",
            "Epoch 31/1000\n",
            "16/16 [==============================] - 0s 3ms/step - loss: 608.8353\n",
            "Epoch 32/1000\n",
            "16/16 [==============================] - 0s 3ms/step - loss: 608.5745\n",
            "Epoch 33/1000\n",
            "16/16 [==============================] - 0s 3ms/step - loss: 598.6124\n",
            "Epoch 34/1000\n",
            "16/16 [==============================] - 0s 3ms/step - loss: 583.0975\n",
            "Epoch 35/1000\n",
            "16/16 [==============================] - 0s 3ms/step - loss: 580.2833\n",
            "Epoch 36/1000\n",
            "16/16 [==============================] - 0s 3ms/step - loss: 565.5413\n",
            "Epoch 37/1000\n",
            "16/16 [==============================] - 0s 2ms/step - loss: 553.9734\n",
            "Epoch 38/1000\n",
            "16/16 [==============================] - 0s 2ms/step - loss: 543.3230\n",
            "Epoch 39/1000\n",
            "16/16 [==============================] - 0s 3ms/step - loss: 538.5751\n",
            "Epoch 40/1000\n",
            "16/16 [==============================] - 0s 3ms/step - loss: 529.8386\n",
            "Epoch 41/1000\n",
            "16/16 [==============================] - 0s 2ms/step - loss: 519.3683\n",
            "Epoch 42/1000\n",
            "16/16 [==============================] - 0s 3ms/step - loss: 514.8772\n",
            "Epoch 43/1000\n",
            "16/16 [==============================] - 0s 3ms/step - loss: 502.1083\n",
            "Epoch 44/1000\n",
            "16/16 [==============================] - 0s 3ms/step - loss: 497.5686\n",
            "Epoch 45/1000\n",
            "16/16 [==============================] - 0s 2ms/step - loss: 491.5608\n",
            "Epoch 46/1000\n",
            "16/16 [==============================] - 0s 2ms/step - loss: 480.5075\n",
            "Epoch 47/1000\n",
            "16/16 [==============================] - 0s 2ms/step - loss: 474.8707\n",
            "Epoch 48/1000\n",
            "16/16 [==============================] - 0s 3ms/step - loss: 464.1931\n",
            "Epoch 49/1000\n",
            "16/16 [==============================] - 0s 2ms/step - loss: 457.8592\n",
            "Epoch 50/1000\n",
            "16/16 [==============================] - 0s 2ms/step - loss: 452.9641\n",
            "Epoch 51/1000\n",
            "16/16 [==============================] - 0s 2ms/step - loss: 448.0511\n",
            "Epoch 52/1000\n",
            "16/16 [==============================] - 0s 2ms/step - loss: 439.4934\n",
            "Epoch 53/1000\n",
            "16/16 [==============================] - 0s 2ms/step - loss: 434.2055\n",
            "Epoch 54/1000\n",
            "16/16 [==============================] - 0s 2ms/step - loss: 426.6435\n",
            "Epoch 55/1000\n",
            "16/16 [==============================] - 0s 2ms/step - loss: 425.0026\n",
            "Epoch 56/1000\n",
            "16/16 [==============================] - 0s 3ms/step - loss: 421.9825\n",
            "Epoch 57/1000\n",
            "16/16 [==============================] - 0s 2ms/step - loss: 406.6226\n",
            "Epoch 58/1000\n",
            "16/16 [==============================] - 0s 2ms/step - loss: 404.0927\n",
            "Epoch 59/1000\n",
            "16/16 [==============================] - 0s 2ms/step - loss: 399.5430\n",
            "Epoch 60/1000\n",
            "16/16 [==============================] - 0s 2ms/step - loss: 389.4875\n",
            "Epoch 61/1000\n",
            "16/16 [==============================] - 0s 2ms/step - loss: 388.1566\n",
            "Epoch 62/1000\n",
            "16/16 [==============================] - 0s 2ms/step - loss: 383.0536\n",
            "Epoch 63/1000\n",
            "16/16 [==============================] - 0s 3ms/step - loss: 375.0652\n",
            "Epoch 64/1000\n",
            "16/16 [==============================] - 0s 4ms/step - loss: 373.4921\n",
            "Epoch 65/1000\n",
            "16/16 [==============================] - 0s 2ms/step - loss: 367.4936\n",
            "Epoch 66/1000\n",
            "16/16 [==============================] - 0s 2ms/step - loss: 358.1509\n",
            "Epoch 67/1000\n",
            "16/16 [==============================] - 0s 2ms/step - loss: 358.0292\n",
            "Epoch 68/1000\n",
            "16/16 [==============================] - 0s 3ms/step - loss: 354.9219\n",
            "Epoch 69/1000\n",
            "16/16 [==============================] - 0s 2ms/step - loss: 359.0046\n",
            "Epoch 70/1000\n",
            "16/16 [==============================] - 0s 3ms/step - loss: 344.4053\n",
            "Epoch 71/1000\n",
            "16/16 [==============================] - 0s 3ms/step - loss: 350.1762\n",
            "Epoch 72/1000\n",
            "16/16 [==============================] - 0s 3ms/step - loss: 336.8576\n",
            "Epoch 73/1000\n",
            "16/16 [==============================] - 0s 3ms/step - loss: 333.4687\n",
            "Epoch 74/1000\n",
            "16/16 [==============================] - 0s 3ms/step - loss: 327.5727\n",
            "Epoch 75/1000\n",
            "16/16 [==============================] - 0s 2ms/step - loss: 326.9446\n",
            "Epoch 76/1000\n",
            "16/16 [==============================] - 0s 3ms/step - loss: 318.1125\n",
            "Epoch 77/1000\n",
            "16/16 [==============================] - 0s 2ms/step - loss: 316.1685\n",
            "Epoch 78/1000\n",
            "16/16 [==============================] - 0s 2ms/step - loss: 310.8607\n",
            "Epoch 79/1000\n",
            "16/16 [==============================] - 0s 3ms/step - loss: 304.6422\n",
            "Epoch 80/1000\n",
            "16/16 [==============================] - 0s 3ms/step - loss: 302.6747\n",
            "Epoch 81/1000\n",
            "16/16 [==============================] - 0s 2ms/step - loss: 295.4346\n",
            "Epoch 82/1000\n",
            "16/16 [==============================] - 0s 3ms/step - loss: 297.8915\n",
            "Epoch 83/1000\n",
            "16/16 [==============================] - 0s 2ms/step - loss: 288.8974\n",
            "Epoch 84/1000\n",
            "16/16 [==============================] - 0s 4ms/step - loss: 281.5668\n",
            "Epoch 85/1000\n",
            "16/16 [==============================] - 0s 2ms/step - loss: 278.5749\n",
            "Epoch 86/1000\n",
            "16/16 [==============================] - 0s 3ms/step - loss: 274.8931\n",
            "Epoch 87/1000\n",
            "16/16 [==============================] - 0s 3ms/step - loss: 270.2615\n",
            "Epoch 88/1000\n",
            "16/16 [==============================] - 0s 2ms/step - loss: 268.4968\n",
            "Epoch 89/1000\n",
            "16/16 [==============================] - 0s 2ms/step - loss: 266.4340\n",
            "Epoch 90/1000\n",
            "16/16 [==============================] - 0s 2ms/step - loss: 262.4322\n",
            "Epoch 91/1000\n",
            "16/16 [==============================] - 0s 2ms/step - loss: 257.6440\n",
            "Epoch 92/1000\n",
            "16/16 [==============================] - 0s 2ms/step - loss: 255.5660\n",
            "Epoch 93/1000\n",
            "16/16 [==============================] - 0s 2ms/step - loss: 258.6047\n",
            "Epoch 94/1000\n",
            "16/16 [==============================] - 0s 2ms/step - loss: 255.3734\n",
            "Epoch 95/1000\n",
            "16/16 [==============================] - 0s 2ms/step - loss: 248.3352\n",
            "Epoch 96/1000\n",
            "16/16 [==============================] - 0s 3ms/step - loss: 243.2925\n",
            "Epoch 97/1000\n",
            "16/16 [==============================] - 0s 3ms/step - loss: 247.3208\n",
            "Epoch 98/1000\n",
            "16/16 [==============================] - 0s 2ms/step - loss: 235.0239\n",
            "Epoch 99/1000\n",
            "16/16 [==============================] - 0s 3ms/step - loss: 233.0660\n",
            "Epoch 100/1000\n",
            "16/16 [==============================] - 0s 3ms/step - loss: 236.0442\n",
            "Epoch 101/1000\n",
            "16/16 [==============================] - 0s 2ms/step - loss: 232.0214\n",
            "Epoch 102/1000\n",
            "16/16 [==============================] - 0s 3ms/step - loss: 224.3257\n",
            "Epoch 103/1000\n",
            "16/16 [==============================] - 0s 2ms/step - loss: 218.1476\n",
            "Epoch 104/1000\n",
            "16/16 [==============================] - 0s 3ms/step - loss: 217.4140\n",
            "Epoch 105/1000\n",
            "16/16 [==============================] - 0s 3ms/step - loss: 212.8302\n",
            "Epoch 106/1000\n",
            "16/16 [==============================] - 0s 2ms/step - loss: 218.1314\n",
            "Epoch 107/1000\n",
            "16/16 [==============================] - 0s 3ms/step - loss: 208.3150\n",
            "Epoch 108/1000\n",
            "16/16 [==============================] - 0s 3ms/step - loss: 206.2113\n",
            "Epoch 109/1000\n",
            "16/16 [==============================] - 0s 2ms/step - loss: 201.9453\n",
            "Epoch 110/1000\n",
            "16/16 [==============================] - 0s 2ms/step - loss: 198.0918\n",
            "Epoch 111/1000\n",
            "16/16 [==============================] - 0s 2ms/step - loss: 196.5237\n",
            "Epoch 112/1000\n",
            "16/16 [==============================] - 0s 3ms/step - loss: 192.1609\n",
            "Epoch 113/1000\n",
            "16/16 [==============================] - 0s 2ms/step - loss: 190.5785\n",
            "Epoch 114/1000\n",
            "16/16 [==============================] - 0s 3ms/step - loss: 188.0983\n",
            "Epoch 115/1000\n",
            "16/16 [==============================] - 0s 2ms/step - loss: 191.7320\n",
            "Epoch 116/1000\n",
            "16/16 [==============================] - 0s 2ms/step - loss: 189.2710\n",
            "Epoch 117/1000\n",
            "16/16 [==============================] - 0s 3ms/step - loss: 182.0807\n",
            "Epoch 118/1000\n",
            "16/16 [==============================] - 0s 3ms/step - loss: 179.2435\n",
            "Epoch 119/1000\n",
            "16/16 [==============================] - 0s 3ms/step - loss: 176.4964\n",
            "Epoch 120/1000\n",
            "16/16 [==============================] - 0s 3ms/step - loss: 177.3319\n",
            "Epoch 121/1000\n",
            "16/16 [==============================] - 0s 3ms/step - loss: 173.7443\n",
            "Epoch 122/1000\n",
            "16/16 [==============================] - 0s 3ms/step - loss: 169.1446\n",
            "Epoch 123/1000\n",
            "16/16 [==============================] - 0s 3ms/step - loss: 169.1837\n",
            "Epoch 124/1000\n",
            "16/16 [==============================] - 0s 3ms/step - loss: 168.7683\n",
            "Epoch 125/1000\n",
            "16/16 [==============================] - 0s 4ms/step - loss: 162.9506\n",
            "Epoch 126/1000\n",
            "16/16 [==============================] - 0s 3ms/step - loss: 162.0884\n",
            "Epoch 127/1000\n",
            "16/16 [==============================] - 0s 3ms/step - loss: 158.2936\n",
            "Epoch 128/1000\n",
            "16/16 [==============================] - 0s 2ms/step - loss: 155.6937\n",
            "Epoch 129/1000\n",
            "16/16 [==============================] - 0s 3ms/step - loss: 161.2776\n",
            "Epoch 130/1000\n",
            "16/16 [==============================] - 0s 3ms/step - loss: 155.0261\n",
            "Epoch 131/1000\n",
            "16/16 [==============================] - 0s 3ms/step - loss: 157.3848\n",
            "Epoch 132/1000\n",
            "16/16 [==============================] - 0s 3ms/step - loss: 148.8422\n",
            "Epoch 133/1000\n",
            "16/16 [==============================] - 0s 2ms/step - loss: 151.0714\n",
            "Epoch 134/1000\n",
            "16/16 [==============================] - 0s 2ms/step - loss: 150.5004\n",
            "Epoch 135/1000\n",
            "16/16 [==============================] - 0s 3ms/step - loss: 144.5344\n",
            "Epoch 136/1000\n",
            "16/16 [==============================] - 0s 2ms/step - loss: 140.6614\n",
            "Epoch 137/1000\n",
            "16/16 [==============================] - 0s 2ms/step - loss: 140.4970\n",
            "Epoch 138/1000\n",
            "16/16 [==============================] - 0s 3ms/step - loss: 138.2820\n",
            "Epoch 139/1000\n",
            "16/16 [==============================] - 0s 3ms/step - loss: 138.3245\n",
            "Epoch 140/1000\n",
            "16/16 [==============================] - 0s 3ms/step - loss: 135.7677\n",
            "Epoch 141/1000\n",
            "16/16 [==============================] - 0s 3ms/step - loss: 133.0741\n",
            "Epoch 142/1000\n",
            "16/16 [==============================] - 0s 3ms/step - loss: 130.4712\n",
            "Epoch 143/1000\n",
            "16/16 [==============================] - 0s 3ms/step - loss: 134.4777\n",
            "Epoch 144/1000\n",
            "16/16 [==============================] - 0s 3ms/step - loss: 131.5260\n",
            "Epoch 145/1000\n",
            "16/16 [==============================] - 0s 4ms/step - loss: 129.9141\n",
            "Epoch 146/1000\n",
            "16/16 [==============================] - 0s 3ms/step - loss: 128.0185\n",
            "Epoch 147/1000\n",
            "16/16 [==============================] - 0s 2ms/step - loss: 125.3865\n",
            "Epoch 148/1000\n",
            "16/16 [==============================] - 0s 3ms/step - loss: 121.1912\n",
            "Epoch 149/1000\n",
            "16/16 [==============================] - 0s 3ms/step - loss: 121.2242\n",
            "Epoch 150/1000\n",
            "16/16 [==============================] - 0s 3ms/step - loss: 123.1940\n",
            "Epoch 151/1000\n",
            "16/16 [==============================] - 0s 5ms/step - loss: 120.3989\n",
            "Epoch 152/1000\n",
            "16/16 [==============================] - 0s 4ms/step - loss: 118.1929\n",
            "Epoch 153/1000\n",
            "16/16 [==============================] - 0s 5ms/step - loss: 117.6852\n",
            "Epoch 154/1000\n",
            "16/16 [==============================] - 0s 5ms/step - loss: 113.3412\n",
            "Epoch 155/1000\n",
            "16/16 [==============================] - 0s 5ms/step - loss: 115.2683\n",
            "Epoch 156/1000\n",
            "16/16 [==============================] - 0s 6ms/step - loss: 110.1287\n",
            "Epoch 157/1000\n",
            "16/16 [==============================] - 0s 5ms/step - loss: 109.7237\n",
            "Epoch 158/1000\n",
            "16/16 [==============================] - 0s 4ms/step - loss: 108.9376\n",
            "Epoch 159/1000\n",
            "16/16 [==============================] - 0s 5ms/step - loss: 106.5289\n",
            "Epoch 160/1000\n",
            "16/16 [==============================] - 0s 4ms/step - loss: 107.8036\n",
            "Epoch 161/1000\n",
            "16/16 [==============================] - 0s 3ms/step - loss: 105.4476\n",
            "Epoch 162/1000\n",
            "16/16 [==============================] - 0s 3ms/step - loss: 105.1434\n",
            "Epoch 163/1000\n",
            "16/16 [==============================] - 0s 3ms/step - loss: 107.4488\n",
            "Epoch 164/1000\n",
            "16/16 [==============================] - 0s 3ms/step - loss: 101.7729\n",
            "Epoch 165/1000\n",
            "16/16 [==============================] - 0s 3ms/step - loss: 99.6368\n",
            "Epoch 166/1000\n",
            "16/16 [==============================] - 0s 3ms/step - loss: 102.0713\n",
            "Epoch 167/1000\n",
            "16/16 [==============================] - 0s 3ms/step - loss: 99.7149\n",
            "Epoch 168/1000\n",
            "16/16 [==============================] - 0s 3ms/step - loss: 97.4595\n",
            "Epoch 169/1000\n",
            "16/16 [==============================] - 0s 3ms/step - loss: 95.7656\n",
            "Epoch 170/1000\n",
            "16/16 [==============================] - 0s 3ms/step - loss: 94.4979\n",
            "Epoch 171/1000\n",
            "16/16 [==============================] - 0s 3ms/step - loss: 94.8181\n",
            "Epoch 172/1000\n",
            "16/16 [==============================] - 0s 4ms/step - loss: 92.8830\n",
            "Epoch 173/1000\n",
            "16/16 [==============================] - 0s 3ms/step - loss: 90.9592\n",
            "Epoch 174/1000\n",
            "16/16 [==============================] - 0s 3ms/step - loss: 89.8311\n",
            "Epoch 175/1000\n",
            "16/16 [==============================] - 0s 3ms/step - loss: 89.8010\n",
            "Epoch 176/1000\n",
            "16/16 [==============================] - 0s 4ms/step - loss: 90.3731\n",
            "Epoch 177/1000\n",
            "16/16 [==============================] - 0s 3ms/step - loss: 89.0432\n",
            "Epoch 178/1000\n",
            "16/16 [==============================] - 0s 3ms/step - loss: 93.3279\n",
            "Epoch 179/1000\n",
            "16/16 [==============================] - 0s 4ms/step - loss: 86.2463\n",
            "Epoch 180/1000\n",
            "16/16 [==============================] - 0s 4ms/step - loss: 86.8406\n",
            "Epoch 181/1000\n",
            "16/16 [==============================] - 0s 4ms/step - loss: 84.3546\n",
            "Epoch 182/1000\n",
            "16/16 [==============================] - 0s 5ms/step - loss: 83.8527\n",
            "Epoch 183/1000\n",
            "16/16 [==============================] - 0s 5ms/step - loss: 82.1987\n",
            "Epoch 184/1000\n",
            "16/16 [==============================] - 0s 5ms/step - loss: 81.2879\n",
            "Epoch 185/1000\n",
            "16/16 [==============================] - 0s 6ms/step - loss: 84.6702\n",
            "Epoch 186/1000\n",
            "16/16 [==============================] - 0s 5ms/step - loss: 81.4273\n",
            "Epoch 187/1000\n",
            "16/16 [==============================] - 0s 5ms/step - loss: 79.2317\n",
            "Epoch 188/1000\n",
            "16/16 [==============================] - 0s 4ms/step - loss: 80.6478\n",
            "Epoch 189/1000\n",
            "16/16 [==============================] - 0s 4ms/step - loss: 82.0928\n",
            "Epoch 190/1000\n",
            "16/16 [==============================] - 0s 5ms/step - loss: 76.7128\n",
            "Epoch 191/1000\n",
            "16/16 [==============================] - 0s 5ms/step - loss: 79.5093\n",
            "Epoch 192/1000\n",
            "16/16 [==============================] - 0s 6ms/step - loss: 78.0511\n",
            "Epoch 193/1000\n",
            "16/16 [==============================] - 0s 4ms/step - loss: 75.2218\n",
            "Epoch 194/1000\n",
            "16/16 [==============================] - 0s 4ms/step - loss: 76.6633\n",
            "Epoch 195/1000\n",
            "16/16 [==============================] - 0s 5ms/step - loss: 72.1226\n",
            "Epoch 196/1000\n",
            "16/16 [==============================] - 0s 4ms/step - loss: 71.0656\n",
            "Epoch 197/1000\n",
            "16/16 [==============================] - 0s 6ms/step - loss: 74.5851\n",
            "Epoch 198/1000\n",
            "16/16 [==============================] - 0s 5ms/step - loss: 71.9777\n",
            "Epoch 199/1000\n",
            "16/16 [==============================] - 0s 4ms/step - loss: 69.9040\n",
            "Epoch 200/1000\n",
            "16/16 [==============================] - 0s 5ms/step - loss: 68.8097\n",
            "Epoch 201/1000\n",
            "16/16 [==============================] - 0s 4ms/step - loss: 68.2880\n",
            "Epoch 202/1000\n",
            "16/16 [==============================] - 0s 3ms/step - loss: 68.0396\n",
            "Epoch 203/1000\n",
            "16/16 [==============================] - 0s 2ms/step - loss: 66.0821\n",
            "Epoch 204/1000\n",
            "16/16 [==============================] - 0s 2ms/step - loss: 66.7174\n",
            "Epoch 205/1000\n",
            "16/16 [==============================] - 0s 4ms/step - loss: 66.6603\n",
            "Epoch 206/1000\n",
            "16/16 [==============================] - 0s 3ms/step - loss: 68.7570\n",
            "Epoch 207/1000\n",
            "16/16 [==============================] - 0s 3ms/step - loss: 66.0893\n",
            "Epoch 208/1000\n",
            "16/16 [==============================] - 0s 3ms/step - loss: 65.3037\n",
            "Epoch 209/1000\n",
            "16/16 [==============================] - 0s 2ms/step - loss: 63.8487\n",
            "Epoch 210/1000\n",
            "16/16 [==============================] - 0s 3ms/step - loss: 63.9049\n",
            "Epoch 211/1000\n",
            "16/16 [==============================] - 0s 2ms/step - loss: 64.1550\n",
            "Epoch 212/1000\n",
            "16/16 [==============================] - 0s 2ms/step - loss: 64.1964\n",
            "Epoch 213/1000\n",
            "16/16 [==============================] - 0s 2ms/step - loss: 60.6275\n",
            "Epoch 214/1000\n",
            "16/16 [==============================] - 0s 3ms/step - loss: 59.0348\n",
            "Epoch 215/1000\n",
            "16/16 [==============================] - 0s 3ms/step - loss: 60.2338\n",
            "Epoch 216/1000\n",
            "16/16 [==============================] - 0s 3ms/step - loss: 60.6564\n",
            "Epoch 217/1000\n",
            "16/16 [==============================] - 0s 2ms/step - loss: 57.9125\n",
            "Epoch 218/1000\n",
            "16/16 [==============================] - 0s 2ms/step - loss: 57.2456\n",
            "Epoch 219/1000\n",
            "16/16 [==============================] - 0s 3ms/step - loss: 57.6746\n",
            "Epoch 220/1000\n",
            "16/16 [==============================] - 0s 3ms/step - loss: 57.4211\n",
            "Epoch 221/1000\n",
            "16/16 [==============================] - 0s 2ms/step - loss: 57.4954\n",
            "Epoch 222/1000\n",
            "16/16 [==============================] - 0s 3ms/step - loss: 56.8703\n",
            "Epoch 223/1000\n",
            "16/16 [==============================] - 0s 2ms/step - loss: 55.1559\n",
            "Epoch 224/1000\n",
            "16/16 [==============================] - 0s 3ms/step - loss: 56.1648\n",
            "Epoch 225/1000\n",
            "16/16 [==============================] - 0s 3ms/step - loss: 58.0148\n",
            "Epoch 226/1000\n",
            "16/16 [==============================] - 0s 3ms/step - loss: 53.9993\n",
            "Epoch 227/1000\n",
            "16/16 [==============================] - 0s 3ms/step - loss: 54.9039\n",
            "Epoch 228/1000\n",
            "16/16 [==============================] - 0s 2ms/step - loss: 53.8812\n",
            "Epoch 229/1000\n",
            "16/16 [==============================] - 0s 2ms/step - loss: 53.9051\n",
            "Epoch 230/1000\n",
            "16/16 [==============================] - 0s 3ms/step - loss: 51.7919\n",
            "Epoch 231/1000\n",
            "16/16 [==============================] - 0s 3ms/step - loss: 52.2282\n",
            "Epoch 232/1000\n",
            "16/16 [==============================] - 0s 3ms/step - loss: 53.2167\n",
            "Epoch 233/1000\n",
            "16/16 [==============================] - 0s 2ms/step - loss: 53.0423\n",
            "Epoch 234/1000\n",
            "16/16 [==============================] - 0s 2ms/step - loss: 52.3714\n",
            "Epoch 235/1000\n",
            "16/16 [==============================] - 0s 3ms/step - loss: 51.9013\n",
            "Epoch 236/1000\n",
            "16/16 [==============================] - 0s 3ms/step - loss: 52.1525\n",
            "Epoch 237/1000\n",
            "16/16 [==============================] - 0s 2ms/step - loss: 49.6818\n",
            "Epoch 238/1000\n",
            "16/16 [==============================] - 0s 2ms/step - loss: 48.1164\n",
            "Epoch 239/1000\n",
            "16/16 [==============================] - 0s 3ms/step - loss: 49.6524\n",
            "Epoch 240/1000\n",
            "16/16 [==============================] - 0s 2ms/step - loss: 48.5339\n",
            "Epoch 241/1000\n",
            "16/16 [==============================] - 0s 3ms/step - loss: 47.2515\n",
            "Epoch 242/1000\n",
            "16/16 [==============================] - 0s 3ms/step - loss: 48.5434\n",
            "Epoch 243/1000\n",
            "16/16 [==============================] - 0s 3ms/step - loss: 46.8878\n",
            "Epoch 244/1000\n",
            "16/16 [==============================] - 0s 3ms/step - loss: 46.5423\n",
            "Epoch 245/1000\n",
            "16/16 [==============================] - 0s 3ms/step - loss: 45.4094\n",
            "Epoch 246/1000\n",
            "16/16 [==============================] - 0s 4ms/step - loss: 46.1849\n",
            "Epoch 247/1000\n",
            "16/16 [==============================] - 0s 3ms/step - loss: 45.1812\n",
            "Epoch 248/1000\n",
            "16/16 [==============================] - 0s 2ms/step - loss: 45.6273\n",
            "Epoch 249/1000\n",
            "16/16 [==============================] - 0s 3ms/step - loss: 44.7258\n",
            "Epoch 250/1000\n",
            "16/16 [==============================] - 0s 3ms/step - loss: 43.6695\n",
            "Epoch 251/1000\n",
            "16/16 [==============================] - 0s 3ms/step - loss: 42.7922\n",
            "Epoch 252/1000\n",
            "16/16 [==============================] - 0s 2ms/step - loss: 42.8795\n",
            "Epoch 253/1000\n",
            "16/16 [==============================] - 0s 2ms/step - loss: 43.6903\n",
            "Epoch 254/1000\n",
            "16/16 [==============================] - 0s 2ms/step - loss: 43.9945\n",
            "Epoch 255/1000\n",
            "16/16 [==============================] - 0s 3ms/step - loss: 41.7429\n",
            "Epoch 256/1000\n",
            "16/16 [==============================] - 0s 2ms/step - loss: 42.5871\n",
            "Epoch 257/1000\n",
            "16/16 [==============================] - 0s 3ms/step - loss: 41.4823\n",
            "Epoch 258/1000\n",
            "16/16 [==============================] - 0s 3ms/step - loss: 42.3959\n",
            "Epoch 259/1000\n",
            "16/16 [==============================] - 0s 3ms/step - loss: 42.0118\n",
            "Epoch 260/1000\n",
            "16/16 [==============================] - 0s 3ms/step - loss: 42.3743\n",
            "Epoch 261/1000\n",
            "16/16 [==============================] - 0s 2ms/step - loss: 39.7444\n",
            "Epoch 262/1000\n",
            "16/16 [==============================] - 0s 3ms/step - loss: 42.6652\n",
            "Epoch 263/1000\n",
            "16/16 [==============================] - 0s 3ms/step - loss: 38.6955\n",
            "Epoch 264/1000\n",
            "16/16 [==============================] - 0s 3ms/step - loss: 38.9895\n",
            "Epoch 265/1000\n",
            "16/16 [==============================] - 0s 3ms/step - loss: 37.4117\n",
            "Epoch 266/1000\n",
            "16/16 [==============================] - 0s 4ms/step - loss: 38.5310\n",
            "Epoch 267/1000\n",
            "16/16 [==============================] - 0s 3ms/step - loss: 38.6017\n",
            "Epoch 268/1000\n",
            "16/16 [==============================] - 0s 3ms/step - loss: 37.8811\n",
            "Epoch 269/1000\n",
            "16/16 [==============================] - 0s 3ms/step - loss: 38.3849\n",
            "Epoch 270/1000\n",
            "16/16 [==============================] - 0s 2ms/step - loss: 36.5393\n",
            "Epoch 271/1000\n",
            "16/16 [==============================] - 0s 2ms/step - loss: 35.7732\n",
            "Epoch 272/1000\n",
            "16/16 [==============================] - 0s 3ms/step - loss: 36.3939\n",
            "Epoch 273/1000\n",
            "16/16 [==============================] - 0s 3ms/step - loss: 37.7528\n",
            "Epoch 274/1000\n",
            "16/16 [==============================] - 0s 3ms/step - loss: 36.6482\n",
            "Epoch 275/1000\n",
            "16/16 [==============================] - 0s 3ms/step - loss: 35.1367\n",
            "Epoch 276/1000\n",
            "16/16 [==============================] - 0s 2ms/step - loss: 35.1693\n",
            "Epoch 277/1000\n",
            "16/16 [==============================] - 0s 3ms/step - loss: 34.5082\n",
            "Epoch 278/1000\n",
            "16/16 [==============================] - 0s 3ms/step - loss: 34.0565\n",
            "Epoch 279/1000\n",
            "16/16 [==============================] - 0s 3ms/step - loss: 34.9938\n",
            "Epoch 280/1000\n",
            "16/16 [==============================] - 0s 3ms/step - loss: 33.0742\n",
            "Epoch 281/1000\n",
            "16/16 [==============================] - 0s 3ms/step - loss: 34.8049\n",
            "Epoch 282/1000\n",
            "16/16 [==============================] - 0s 3ms/step - loss: 33.5879\n",
            "Epoch 283/1000\n",
            "16/16 [==============================] - 0s 3ms/step - loss: 34.0133\n",
            "Epoch 284/1000\n",
            "16/16 [==============================] - 0s 2ms/step - loss: 34.7277\n",
            "Epoch 285/1000\n",
            "16/16 [==============================] - 0s 3ms/step - loss: 32.7725\n",
            "Epoch 286/1000\n",
            "16/16 [==============================] - 0s 2ms/step - loss: 31.5500\n",
            "Epoch 287/1000\n",
            "16/16 [==============================] - 0s 2ms/step - loss: 32.7872\n",
            "Epoch 288/1000\n",
            "16/16 [==============================] - 0s 2ms/step - loss: 31.6277\n",
            "Epoch 289/1000\n",
            "16/16 [==============================] - 0s 2ms/step - loss: 32.0264\n",
            "Epoch 290/1000\n",
            "16/16 [==============================] - 0s 3ms/step - loss: 32.2622\n",
            "Epoch 291/1000\n",
            "16/16 [==============================] - 0s 2ms/step - loss: 30.7184\n",
            "Epoch 292/1000\n",
            "16/16 [==============================] - 0s 2ms/step - loss: 31.1209\n",
            "Epoch 293/1000\n",
            "16/16 [==============================] - 0s 2ms/step - loss: 30.6849\n",
            "Epoch 294/1000\n",
            "16/16 [==============================] - 0s 3ms/step - loss: 30.3967\n",
            "Epoch 295/1000\n",
            "16/16 [==============================] - 0s 2ms/step - loss: 30.9317\n",
            "Epoch 296/1000\n",
            "16/16 [==============================] - 0s 2ms/step - loss: 31.5327\n",
            "Epoch 297/1000\n",
            "16/16 [==============================] - 0s 2ms/step - loss: 32.6994\n",
            "Epoch 298/1000\n",
            "16/16 [==============================] - 0s 2ms/step - loss: 31.4077\n",
            "Epoch 299/1000\n",
            "16/16 [==============================] - 0s 2ms/step - loss: 29.6886\n",
            "Epoch 300/1000\n",
            "16/16 [==============================] - 0s 2ms/step - loss: 30.1233\n",
            "Epoch 301/1000\n",
            "16/16 [==============================] - 0s 2ms/step - loss: 28.3455\n",
            "Epoch 302/1000\n",
            "16/16 [==============================] - 0s 2ms/step - loss: 30.0014\n",
            "Epoch 303/1000\n",
            "16/16 [==============================] - 0s 2ms/step - loss: 29.1054\n",
            "Epoch 304/1000\n",
            "16/16 [==============================] - 0s 3ms/step - loss: 28.2841\n",
            "Epoch 305/1000\n",
            "16/16 [==============================] - 0s 2ms/step - loss: 27.3013\n",
            "Epoch 306/1000\n",
            "16/16 [==============================] - 0s 2ms/step - loss: 27.2653\n",
            "Epoch 307/1000\n",
            "16/16 [==============================] - 0s 2ms/step - loss: 26.9522\n",
            "Epoch 308/1000\n",
            "16/16 [==============================] - 0s 3ms/step - loss: 27.2436\n",
            "Epoch 309/1000\n",
            "16/16 [==============================] - 0s 2ms/step - loss: 26.7255\n",
            "Epoch 310/1000\n",
            "16/16 [==============================] - 0s 3ms/step - loss: 26.7010\n",
            "Epoch 311/1000\n",
            "16/16 [==============================] - 0s 2ms/step - loss: 25.8752\n",
            "Epoch 312/1000\n",
            "16/16 [==============================] - 0s 2ms/step - loss: 26.6944\n",
            "Epoch 313/1000\n",
            "16/16 [==============================] - 0s 2ms/step - loss: 26.1456\n",
            "Epoch 314/1000\n",
            "16/16 [==============================] - 0s 2ms/step - loss: 28.1151\n",
            "Epoch 315/1000\n",
            "16/16 [==============================] - 0s 3ms/step - loss: 27.5603\n",
            "Epoch 316/1000\n",
            "16/16 [==============================] - 0s 2ms/step - loss: 25.6339\n",
            "Epoch 317/1000\n",
            "16/16 [==============================] - 0s 3ms/step - loss: 26.5513\n",
            "Epoch 318/1000\n",
            "16/16 [==============================] - 0s 3ms/step - loss: 25.2149\n",
            "Epoch 319/1000\n",
            "16/16 [==============================] - 0s 2ms/step - loss: 24.8614\n",
            "Epoch 320/1000\n",
            "16/16 [==============================] - 0s 3ms/step - loss: 26.3539\n",
            "Epoch 321/1000\n",
            "16/16 [==============================] - 0s 3ms/step - loss: 25.1050\n",
            "Epoch 322/1000\n",
            "16/16 [==============================] - 0s 3ms/step - loss: 23.9633\n",
            "Epoch 323/1000\n",
            "16/16 [==============================] - 0s 3ms/step - loss: 24.7513\n",
            "Epoch 324/1000\n",
            "16/16 [==============================] - 0s 3ms/step - loss: 23.7009\n",
            "Epoch 325/1000\n",
            "16/16 [==============================] - 0s 3ms/step - loss: 22.9929\n",
            "Epoch 326/1000\n",
            "16/16 [==============================] - 0s 3ms/step - loss: 24.4097\n",
            "Epoch 327/1000\n",
            "16/16 [==============================] - 0s 3ms/step - loss: 22.6508\n",
            "Epoch 328/1000\n",
            "16/16 [==============================] - 0s 4ms/step - loss: 22.4713\n",
            "Epoch 329/1000\n",
            "16/16 [==============================] - 0s 3ms/step - loss: 22.6943\n",
            "Epoch 330/1000\n",
            "16/16 [==============================] - 0s 3ms/step - loss: 22.7479\n",
            "Epoch 331/1000\n",
            "16/16 [==============================] - 0s 3ms/step - loss: 22.9959\n",
            "Epoch 332/1000\n",
            "16/16 [==============================] - 0s 3ms/step - loss: 23.2727\n",
            "Epoch 333/1000\n",
            "16/16 [==============================] - 0s 3ms/step - loss: 26.0267\n",
            "Epoch 334/1000\n",
            "16/16 [==============================] - 0s 3ms/step - loss: 24.1141\n",
            "Epoch 335/1000\n",
            "16/16 [==============================] - 0s 3ms/step - loss: 22.5457\n",
            "Epoch 336/1000\n",
            "16/16 [==============================] - 0s 3ms/step - loss: 21.7210\n",
            "Epoch 337/1000\n",
            "16/16 [==============================] - 0s 3ms/step - loss: 23.0199\n",
            "Epoch 338/1000\n",
            "16/16 [==============================] - 0s 3ms/step - loss: 21.9168\n",
            "Epoch 339/1000\n",
            "16/16 [==============================] - 0s 2ms/step - loss: 21.5023\n",
            "Epoch 340/1000\n",
            "16/16 [==============================] - 0s 3ms/step - loss: 20.6625\n",
            "Epoch 341/1000\n",
            "16/16 [==============================] - 0s 3ms/step - loss: 20.4354\n",
            "Epoch 342/1000\n",
            "16/16 [==============================] - 0s 3ms/step - loss: 20.8812\n",
            "Epoch 343/1000\n",
            "16/16 [==============================] - 0s 3ms/step - loss: 20.0715\n",
            "Epoch 344/1000\n",
            "16/16 [==============================] - 0s 2ms/step - loss: 20.9743\n",
            "Epoch 345/1000\n",
            "16/16 [==============================] - 0s 2ms/step - loss: 19.7519\n",
            "Epoch 346/1000\n",
            "16/16 [==============================] - 0s 2ms/step - loss: 19.7063\n",
            "Epoch 347/1000\n",
            "16/16 [==============================] - 0s 3ms/step - loss: 19.8182\n",
            "Epoch 348/1000\n",
            "16/16 [==============================] - 0s 3ms/step - loss: 19.9965\n",
            "Epoch 349/1000\n",
            "16/16 [==============================] - 0s 2ms/step - loss: 19.1348\n",
            "Epoch 350/1000\n",
            "16/16 [==============================] - 0s 2ms/step - loss: 20.8021\n",
            "Epoch 351/1000\n",
            "16/16 [==============================] - 0s 2ms/step - loss: 20.2149\n",
            "Epoch 352/1000\n",
            "16/16 [==============================] - 0s 2ms/step - loss: 18.6909\n",
            "Epoch 353/1000\n",
            "16/16 [==============================] - 0s 3ms/step - loss: 19.0506\n",
            "Epoch 354/1000\n",
            "16/16 [==============================] - 0s 2ms/step - loss: 19.5005\n",
            "Epoch 355/1000\n",
            "16/16 [==============================] - 0s 2ms/step - loss: 19.0271\n",
            "Epoch 356/1000\n",
            "16/16 [==============================] - 0s 3ms/step - loss: 20.0065\n",
            "Epoch 357/1000\n",
            "16/16 [==============================] - 0s 2ms/step - loss: 19.7300\n",
            "Epoch 358/1000\n",
            "16/16 [==============================] - 0s 2ms/step - loss: 18.4900\n",
            "Epoch 359/1000\n",
            "16/16 [==============================] - 0s 2ms/step - loss: 18.6890\n",
            "Epoch 360/1000\n",
            "16/16 [==============================] - 0s 3ms/step - loss: 18.2724\n",
            "Epoch 361/1000\n",
            "16/16 [==============================] - 0s 3ms/step - loss: 19.6888\n",
            "Epoch 362/1000\n",
            "16/16 [==============================] - 0s 3ms/step - loss: 17.7864\n",
            "Epoch 363/1000\n",
            "16/16 [==============================] - 0s 3ms/step - loss: 18.0828\n",
            "Epoch 364/1000\n",
            "16/16 [==============================] - 0s 3ms/step - loss: 17.8041\n",
            "Epoch 365/1000\n",
            "16/16 [==============================] - 0s 2ms/step - loss: 17.6785\n",
            "Epoch 366/1000\n",
            "16/16 [==============================] - 0s 3ms/step - loss: 17.2752\n",
            "Epoch 367/1000\n",
            "16/16 [==============================] - 0s 2ms/step - loss: 18.5222\n",
            "Epoch 368/1000\n",
            "16/16 [==============================] - 0s 4ms/step - loss: 17.2824\n",
            "Epoch 369/1000\n",
            "16/16 [==============================] - 0s 3ms/step - loss: 16.6277\n",
            "Epoch 370/1000\n",
            "16/16 [==============================] - 0s 3ms/step - loss: 17.4889\n",
            "Epoch 371/1000\n",
            "16/16 [==============================] - 0s 2ms/step - loss: 17.7460\n",
            "Epoch 372/1000\n",
            "16/16 [==============================] - 0s 3ms/step - loss: 17.9084\n",
            "Epoch 373/1000\n",
            "16/16 [==============================] - 0s 2ms/step - loss: 16.8147\n",
            "Epoch 374/1000\n",
            "16/16 [==============================] - 0s 3ms/step - loss: 15.9079\n",
            "Epoch 375/1000\n",
            "16/16 [==============================] - 0s 2ms/step - loss: 15.4241\n",
            "Epoch 376/1000\n",
            "16/16 [==============================] - 0s 2ms/step - loss: 16.3262\n",
            "Epoch 377/1000\n",
            "16/16 [==============================] - 0s 2ms/step - loss: 17.1697\n",
            "Epoch 378/1000\n",
            "16/16 [==============================] - 0s 3ms/step - loss: 16.1996\n",
            "Epoch 379/1000\n",
            "16/16 [==============================] - 0s 3ms/step - loss: 15.9172\n",
            "Epoch 380/1000\n",
            "16/16 [==============================] - 0s 3ms/step - loss: 15.5763\n",
            "Epoch 381/1000\n",
            "16/16 [==============================] - 0s 3ms/step - loss: 16.5552\n",
            "Epoch 382/1000\n",
            "16/16 [==============================] - 0s 3ms/step - loss: 16.0083\n",
            "Epoch 383/1000\n",
            "16/16 [==============================] - 0s 3ms/step - loss: 15.3496\n",
            "Epoch 384/1000\n",
            "16/16 [==============================] - 0s 2ms/step - loss: 15.5598\n",
            "Epoch 385/1000\n",
            "16/16 [==============================] - 0s 3ms/step - loss: 15.2101\n",
            "Epoch 386/1000\n",
            "16/16 [==============================] - 0s 3ms/step - loss: 15.3186\n",
            "Epoch 387/1000\n",
            "16/16 [==============================] - 0s 3ms/step - loss: 14.7898\n",
            "Epoch 388/1000\n",
            "16/16 [==============================] - 0s 4ms/step - loss: 14.9883\n",
            "Epoch 389/1000\n",
            "16/16 [==============================] - 0s 3ms/step - loss: 16.7142\n",
            "Epoch 390/1000\n",
            "16/16 [==============================] - 0s 2ms/step - loss: 14.9698\n",
            "Epoch 391/1000\n",
            "16/16 [==============================] - 0s 3ms/step - loss: 14.4640\n",
            "Epoch 392/1000\n",
            "16/16 [==============================] - 0s 3ms/step - loss: 14.4926\n",
            "Epoch 393/1000\n",
            "16/16 [==============================] - 0s 3ms/step - loss: 14.3480\n",
            "Epoch 394/1000\n",
            "16/16 [==============================] - 0s 3ms/step - loss: 14.1948\n",
            "Epoch 395/1000\n",
            "16/16 [==============================] - 0s 3ms/step - loss: 14.7793\n",
            "Epoch 396/1000\n",
            "16/16 [==============================] - 0s 3ms/step - loss: 16.7198\n",
            "Epoch 397/1000\n",
            "16/16 [==============================] - 0s 3ms/step - loss: 17.8811\n",
            "Epoch 398/1000\n",
            "16/16 [==============================] - 0s 5ms/step - loss: 14.0124\n",
            "Epoch 399/1000\n",
            "16/16 [==============================] - 0s 5ms/step - loss: 13.3515\n",
            "Epoch 400/1000\n",
            "16/16 [==============================] - 0s 5ms/step - loss: 13.4262\n",
            "Epoch 401/1000\n",
            "16/16 [==============================] - 0s 5ms/step - loss: 13.4236\n",
            "Epoch 402/1000\n",
            "16/16 [==============================] - 0s 4ms/step - loss: 15.8774\n",
            "Epoch 403/1000\n",
            "16/16 [==============================] - 0s 5ms/step - loss: 14.0016\n",
            "Epoch 404/1000\n",
            "16/16 [==============================] - 0s 5ms/step - loss: 14.2654\n",
            "Epoch 405/1000\n",
            "16/16 [==============================] - 0s 4ms/step - loss: 14.1644\n",
            "Epoch 406/1000\n",
            "16/16 [==============================] - 0s 3ms/step - loss: 13.5367\n",
            "Epoch 407/1000\n",
            "16/16 [==============================] - 0s 4ms/step - loss: 12.7874\n",
            "Epoch 408/1000\n",
            "16/16 [==============================] - 0s 5ms/step - loss: 12.3109\n",
            "Epoch 409/1000\n",
            "16/16 [==============================] - 0s 4ms/step - loss: 12.5016\n",
            "Epoch 410/1000\n",
            "16/16 [==============================] - 0s 4ms/step - loss: 12.6600\n",
            "Epoch 411/1000\n",
            "16/16 [==============================] - 0s 3ms/step - loss: 12.7871\n",
            "Epoch 412/1000\n",
            "16/16 [==============================] - 0s 4ms/step - loss: 12.5600\n",
            "Epoch 413/1000\n",
            "16/16 [==============================] - 0s 5ms/step - loss: 11.9277\n",
            "Epoch 414/1000\n",
            "16/16 [==============================] - 0s 5ms/step - loss: 12.1026\n",
            "Epoch 415/1000\n",
            "16/16 [==============================] - 0s 4ms/step - loss: 12.3654\n",
            "Epoch 416/1000\n",
            "16/16 [==============================] - 0s 5ms/step - loss: 11.8715\n",
            "Epoch 417/1000\n",
            "16/16 [==============================] - 0s 5ms/step - loss: 12.0686\n",
            "Epoch 418/1000\n",
            "16/16 [==============================] - 0s 5ms/step - loss: 13.2282\n",
            "Epoch 419/1000\n",
            "16/16 [==============================] - 0s 4ms/step - loss: 12.5503\n",
            "Epoch 420/1000\n",
            "16/16 [==============================] - 0s 4ms/step - loss: 11.5527\n",
            "Epoch 421/1000\n",
            "16/16 [==============================] - 0s 4ms/step - loss: 11.2145\n",
            "Epoch 422/1000\n",
            "16/16 [==============================] - 0s 4ms/step - loss: 11.6331\n",
            "Epoch 423/1000\n",
            "16/16 [==============================] - 0s 4ms/step - loss: 12.0641\n",
            "Epoch 424/1000\n",
            "16/16 [==============================] - 0s 3ms/step - loss: 12.0991\n",
            "Epoch 425/1000\n",
            "16/16 [==============================] - 0s 4ms/step - loss: 13.1558\n",
            "Epoch 426/1000\n",
            "16/16 [==============================] - 0s 4ms/step - loss: 12.4639\n",
            "Epoch 427/1000\n",
            "16/16 [==============================] - 0s 4ms/step - loss: 12.6130\n",
            "Epoch 428/1000\n",
            "16/16 [==============================] - 0s 4ms/step - loss: 12.5669\n",
            "Epoch 429/1000\n",
            "16/16 [==============================] - 0s 4ms/step - loss: 11.3018\n",
            "Epoch 430/1000\n",
            "16/16 [==============================] - 0s 4ms/step - loss: 10.9368\n",
            "Epoch 431/1000\n",
            "16/16 [==============================] - 0s 4ms/step - loss: 10.9713\n",
            "Epoch 432/1000\n",
            "16/16 [==============================] - 0s 5ms/step - loss: 11.4846\n",
            "Epoch 433/1000\n",
            "16/16 [==============================] - 0s 5ms/step - loss: 10.6937\n",
            "Epoch 434/1000\n",
            "16/16 [==============================] - 0s 5ms/step - loss: 11.0167\n",
            "Epoch 435/1000\n",
            "16/16 [==============================] - 0s 5ms/step - loss: 10.7446\n",
            "Epoch 436/1000\n",
            "16/16 [==============================] - 0s 5ms/step - loss: 10.7950\n",
            "Epoch 437/1000\n",
            "16/16 [==============================] - 0s 5ms/step - loss: 11.3964\n",
            "Epoch 438/1000\n",
            "16/16 [==============================] - 0s 5ms/step - loss: 11.2590\n",
            "Epoch 439/1000\n",
            "16/16 [==============================] - 0s 5ms/step - loss: 10.3745\n",
            "Epoch 440/1000\n",
            "16/16 [==============================] - 0s 5ms/step - loss: 10.2873\n",
            "Epoch 441/1000\n",
            "16/16 [==============================] - 0s 6ms/step - loss: 10.2611\n",
            "Epoch 442/1000\n",
            "16/16 [==============================] - 0s 4ms/step - loss: 9.9550\n",
            "Epoch 443/1000\n",
            "16/16 [==============================] - 0s 5ms/step - loss: 9.9788\n",
            "Epoch 444/1000\n",
            "16/16 [==============================] - 0s 5ms/step - loss: 10.0717\n",
            "Epoch 445/1000\n",
            "16/16 [==============================] - 0s 6ms/step - loss: 9.8779\n",
            "Epoch 446/1000\n",
            "16/16 [==============================] - 0s 5ms/step - loss: 9.7332\n",
            "Epoch 447/1000\n",
            "16/16 [==============================] - 0s 4ms/step - loss: 10.0323\n",
            "Epoch 448/1000\n",
            "16/16 [==============================] - 0s 4ms/step - loss: 10.3532\n",
            "Epoch 449/1000\n",
            "16/16 [==============================] - 0s 5ms/step - loss: 10.4674\n",
            "Epoch 450/1000\n",
            "16/16 [==============================] - 0s 5ms/step - loss: 9.5790\n",
            "Epoch 451/1000\n",
            "16/16 [==============================] - 0s 5ms/step - loss: 10.3126\n",
            "Epoch 452/1000\n",
            "16/16 [==============================] - 0s 4ms/step - loss: 10.9122\n",
            "Epoch 453/1000\n",
            "16/16 [==============================] - 0s 4ms/step - loss: 9.6315\n",
            "Epoch 454/1000\n",
            "16/16 [==============================] - 0s 5ms/step - loss: 9.6768\n",
            "Epoch 455/1000\n",
            "16/16 [==============================] - 0s 3ms/step - loss: 8.9314\n",
            "Epoch 456/1000\n",
            "16/16 [==============================] - 0s 3ms/step - loss: 9.3973\n",
            "Epoch 457/1000\n",
            "16/16 [==============================] - 0s 3ms/step - loss: 11.0323\n",
            "Epoch 458/1000\n",
            "16/16 [==============================] - 0s 3ms/step - loss: 9.3303\n",
            "Epoch 459/1000\n",
            "16/16 [==============================] - 0s 3ms/step - loss: 8.7747\n",
            "Epoch 460/1000\n",
            "16/16 [==============================] - 0s 4ms/step - loss: 8.5574\n",
            "Epoch 461/1000\n",
            "16/16 [==============================] - 0s 3ms/step - loss: 9.2117\n",
            "Epoch 462/1000\n",
            "16/16 [==============================] - 0s 3ms/step - loss: 8.5519\n",
            "Epoch 463/1000\n",
            "16/16 [==============================] - 0s 2ms/step - loss: 9.0473\n",
            "Epoch 464/1000\n",
            "16/16 [==============================] - 0s 3ms/step - loss: 8.3870\n",
            "Epoch 465/1000\n",
            "16/16 [==============================] - 0s 3ms/step - loss: 8.5784\n",
            "Epoch 466/1000\n",
            "16/16 [==============================] - 0s 3ms/step - loss: 9.1581\n",
            "Epoch 467/1000\n",
            "16/16 [==============================] - 0s 3ms/step - loss: 8.1765\n",
            "Epoch 468/1000\n",
            "16/16 [==============================] - 0s 3ms/step - loss: 8.0394\n",
            "Epoch 469/1000\n",
            "16/16 [==============================] - 0s 3ms/step - loss: 8.3203\n",
            "Epoch 470/1000\n",
            "16/16 [==============================] - 0s 3ms/step - loss: 8.5113\n",
            "Epoch 471/1000\n",
            "16/16 [==============================] - 0s 3ms/step - loss: 8.0303\n",
            "Epoch 472/1000\n",
            "16/16 [==============================] - 0s 3ms/step - loss: 8.2395\n",
            "Epoch 473/1000\n",
            "16/16 [==============================] - 0s 3ms/step - loss: 8.4377\n",
            "Epoch 474/1000\n",
            "16/16 [==============================] - 0s 3ms/step - loss: 9.5736\n",
            "Epoch 475/1000\n",
            "16/16 [==============================] - 0s 3ms/step - loss: 8.6121\n",
            "Epoch 476/1000\n",
            "16/16 [==============================] - 0s 3ms/step - loss: 9.1368\n",
            "Epoch 477/1000\n",
            "16/16 [==============================] - 0s 3ms/step - loss: 8.5697\n",
            "Epoch 478/1000\n",
            "16/16 [==============================] - 0s 3ms/step - loss: 8.1196\n",
            "Epoch 479/1000\n",
            "16/16 [==============================] - 0s 4ms/step - loss: 8.4037\n",
            "Epoch 480/1000\n",
            "16/16 [==============================] - 0s 3ms/step - loss: 8.9507\n",
            "Epoch 481/1000\n",
            "16/16 [==============================] - 0s 3ms/step - loss: 8.9303\n",
            "Epoch 482/1000\n",
            "16/16 [==============================] - 0s 3ms/step - loss: 8.2657\n",
            "Epoch 483/1000\n",
            "16/16 [==============================] - 0s 3ms/step - loss: 8.3962\n",
            "Epoch 484/1000\n",
            "16/16 [==============================] - 0s 3ms/step - loss: 7.4511\n",
            "Epoch 485/1000\n",
            "16/16 [==============================] - 0s 3ms/step - loss: 7.5767\n",
            "Epoch 486/1000\n",
            "16/16 [==============================] - 0s 3ms/step - loss: 7.4672\n",
            "Epoch 487/1000\n",
            "16/16 [==============================] - 0s 3ms/step - loss: 7.3778\n",
            "Epoch 488/1000\n",
            "16/16 [==============================] - 0s 3ms/step - loss: 7.3631\n",
            "Epoch 489/1000\n",
            "16/16 [==============================] - 0s 3ms/step - loss: 7.7145\n",
            "Epoch 490/1000\n",
            "16/16 [==============================] - 0s 3ms/step - loss: 7.6727\n",
            "Epoch 491/1000\n",
            "16/16 [==============================] - 0s 3ms/step - loss: 7.7982\n",
            "Epoch 492/1000\n",
            "16/16 [==============================] - 0s 3ms/step - loss: 8.2562\n",
            "Epoch 493/1000\n",
            "16/16 [==============================] - 0s 3ms/step - loss: 7.7984\n",
            "Epoch 494/1000\n",
            "16/16 [==============================] - 0s 3ms/step - loss: 7.5038\n",
            "Epoch 495/1000\n",
            "16/16 [==============================] - 0s 3ms/step - loss: 7.2330\n",
            "Epoch 496/1000\n",
            "16/16 [==============================] - 0s 3ms/step - loss: 6.9497\n",
            "Epoch 497/1000\n",
            "16/16 [==============================] - 0s 2ms/step - loss: 7.2413\n",
            "Epoch 498/1000\n",
            "16/16 [==============================] - 0s 4ms/step - loss: 8.0472\n",
            "Epoch 499/1000\n",
            "16/16 [==============================] - 0s 3ms/step - loss: 7.0669\n",
            "Epoch 500/1000\n",
            "16/16 [==============================] - 0s 3ms/step - loss: 6.6285\n",
            "Epoch 501/1000\n",
            "16/16 [==============================] - 0s 3ms/step - loss: 6.7116\n",
            "Epoch 502/1000\n",
            "16/16 [==============================] - 0s 3ms/step - loss: 6.6691\n",
            "Epoch 503/1000\n",
            "16/16 [==============================] - 0s 3ms/step - loss: 6.5209\n",
            "Epoch 504/1000\n",
            "16/16 [==============================] - 0s 3ms/step - loss: 6.8776\n",
            "Epoch 505/1000\n",
            "16/16 [==============================] - 0s 2ms/step - loss: 6.8669\n",
            "Epoch 506/1000\n",
            "16/16 [==============================] - 0s 3ms/step - loss: 7.3179\n",
            "Epoch 507/1000\n",
            "16/16 [==============================] - 0s 3ms/step - loss: 6.9400\n",
            "Epoch 508/1000\n",
            "16/16 [==============================] - 0s 3ms/step - loss: 7.1784\n",
            "Epoch 509/1000\n",
            "16/16 [==============================] - 0s 3ms/step - loss: 6.0325\n",
            "Epoch 510/1000\n",
            "16/16 [==============================] - 0s 3ms/step - loss: 7.3429\n",
            "Epoch 511/1000\n",
            "16/16 [==============================] - 0s 2ms/step - loss: 6.9843\n",
            "Epoch 512/1000\n",
            "16/16 [==============================] - 0s 3ms/step - loss: 5.9945\n",
            "Epoch 513/1000\n",
            "16/16 [==============================] - 0s 3ms/step - loss: 5.7633\n",
            "Epoch 514/1000\n",
            "16/16 [==============================] - 0s 3ms/step - loss: 5.8784\n",
            "Epoch 515/1000\n",
            "16/16 [==============================] - 0s 3ms/step - loss: 5.9780\n",
            "Epoch 516/1000\n",
            "16/16 [==============================] - 0s 3ms/step - loss: 5.9296\n",
            "Epoch 517/1000\n",
            "16/16 [==============================] - 0s 4ms/step - loss: 5.9421\n",
            "Epoch 518/1000\n",
            "16/16 [==============================] - 0s 3ms/step - loss: 5.9441\n",
            "Epoch 519/1000\n",
            "16/16 [==============================] - 0s 3ms/step - loss: 6.4851\n",
            "Epoch 520/1000\n",
            "16/16 [==============================] - 0s 3ms/step - loss: 7.4023\n",
            "Epoch 521/1000\n",
            "16/16 [==============================] - 0s 3ms/step - loss: 6.5734\n",
            "Epoch 522/1000\n",
            "16/16 [==============================] - 0s 3ms/step - loss: 6.1864\n",
            "Epoch 523/1000\n",
            "16/16 [==============================] - 0s 3ms/step - loss: 6.2080\n",
            "Epoch 524/1000\n",
            "16/16 [==============================] - 0s 3ms/step - loss: 5.9683\n",
            "Epoch 525/1000\n",
            "16/16 [==============================] - 0s 3ms/step - loss: 6.8757\n",
            "Epoch 526/1000\n",
            "16/16 [==============================] - 0s 3ms/step - loss: 6.0381\n",
            "Epoch 527/1000\n",
            "16/16 [==============================] - 0s 3ms/step - loss: 6.2024\n",
            "Epoch 528/1000\n",
            "16/16 [==============================] - 0s 3ms/step - loss: 5.9938\n",
            "Epoch 529/1000\n",
            "16/16 [==============================] - 0s 3ms/step - loss: 5.0384\n",
            "Epoch 530/1000\n",
            "16/16 [==============================] - 0s 3ms/step - loss: 5.4722\n",
            "Epoch 531/1000\n",
            "16/16 [==============================] - 0s 3ms/step - loss: 5.6890\n",
            "Epoch 532/1000\n",
            "16/16 [==============================] - 0s 3ms/step - loss: 6.3710\n",
            "Epoch 533/1000\n",
            "16/16 [==============================] - 0s 2ms/step - loss: 5.6410\n",
            "Epoch 534/1000\n",
            "16/16 [==============================] - 0s 3ms/step - loss: 5.6675\n",
            "Epoch 535/1000\n",
            "16/16 [==============================] - 0s 3ms/step - loss: 6.6973\n",
            "Epoch 536/1000\n",
            "16/16 [==============================] - 0s 4ms/step - loss: 6.6634\n",
            "Epoch 537/1000\n",
            "16/16 [==============================] - 0s 3ms/step - loss: 6.0421\n",
            "Epoch 538/1000\n",
            "16/16 [==============================] - 0s 3ms/step - loss: 5.2907\n",
            "Epoch 539/1000\n",
            "16/16 [==============================] - 0s 3ms/step - loss: 5.2755\n",
            "Epoch 540/1000\n",
            "16/16 [==============================] - 0s 3ms/step - loss: 5.2283\n",
            "Epoch 541/1000\n",
            "16/16 [==============================] - 0s 3ms/step - loss: 4.9579\n",
            "Epoch 542/1000\n",
            "16/16 [==============================] - 0s 3ms/step - loss: 5.1214\n",
            "Epoch 543/1000\n",
            "16/16 [==============================] - 0s 3ms/step - loss: 5.0855\n",
            "Epoch 544/1000\n",
            "16/16 [==============================] - 0s 3ms/step - loss: 4.8380\n",
            "Epoch 545/1000\n",
            "16/16 [==============================] - 0s 3ms/step - loss: 5.1052\n",
            "Epoch 546/1000\n",
            "16/16 [==============================] - 0s 3ms/step - loss: 5.9209\n",
            "Epoch 547/1000\n",
            "16/16 [==============================] - 0s 3ms/step - loss: 5.6802\n",
            "Epoch 548/1000\n",
            "16/16 [==============================] - 0s 3ms/step - loss: 5.3850\n",
            "Epoch 549/1000\n",
            "16/16 [==============================] - 0s 3ms/step - loss: 5.8000\n",
            "Epoch 550/1000\n",
            "16/16 [==============================] - 0s 3ms/step - loss: 4.8137\n",
            "Epoch 551/1000\n",
            "16/16 [==============================] - 0s 3ms/step - loss: 4.9214\n",
            "Epoch 552/1000\n",
            "16/16 [==============================] - 0s 3ms/step - loss: 4.9610\n",
            "Epoch 553/1000\n",
            "16/16 [==============================] - 0s 3ms/step - loss: 4.9772\n",
            "Epoch 554/1000\n",
            "16/16 [==============================] - 0s 4ms/step - loss: 5.2446\n",
            "Epoch 555/1000\n",
            "16/16 [==============================] - 0s 3ms/step - loss: 5.2975\n",
            "Epoch 556/1000\n",
            "16/16 [==============================] - 0s 3ms/step - loss: 5.5487\n",
            "Epoch 557/1000\n",
            "16/16 [==============================] - 0s 3ms/step - loss: 4.9685\n",
            "Epoch 558/1000\n",
            "16/16 [==============================] - 0s 3ms/step - loss: 5.8622\n",
            "Epoch 559/1000\n",
            "16/16 [==============================] - 0s 3ms/step - loss: 4.9824\n",
            "Epoch 560/1000\n",
            "16/16 [==============================] - 0s 3ms/step - loss: 5.3324\n",
            "Epoch 561/1000\n",
            "16/16 [==============================] - 0s 3ms/step - loss: 5.5272\n",
            "Epoch 562/1000\n",
            "16/16 [==============================] - 0s 3ms/step - loss: 5.0229\n",
            "Epoch 563/1000\n",
            "16/16 [==============================] - 0s 3ms/step - loss: 5.0996\n",
            "Epoch 564/1000\n",
            "16/16 [==============================] - 0s 3ms/step - loss: 4.5011\n",
            "Epoch 565/1000\n",
            "16/16 [==============================] - 0s 3ms/step - loss: 4.2374\n",
            "Epoch 566/1000\n",
            "16/16 [==============================] - 0s 3ms/step - loss: 4.8099\n",
            "Epoch 567/1000\n",
            "16/16 [==============================] - 0s 3ms/step - loss: 4.4890\n",
            "Epoch 568/1000\n",
            "16/16 [==============================] - 0s 3ms/step - loss: 5.0686\n",
            "Epoch 569/1000\n",
            "16/16 [==============================] - 0s 3ms/step - loss: 4.9884\n",
            "Epoch 570/1000\n",
            "16/16 [==============================] - 0s 2ms/step - loss: 4.7662\n",
            "Epoch 571/1000\n",
            "16/16 [==============================] - 0s 3ms/step - loss: 5.3780\n",
            "Epoch 572/1000\n",
            "16/16 [==============================] - 0s 3ms/step - loss: 4.6346\n",
            "Epoch 573/1000\n",
            "16/16 [==============================] - 0s 4ms/step - loss: 4.6639\n",
            "Epoch 574/1000\n",
            "16/16 [==============================] - 0s 3ms/step - loss: 4.8314\n",
            "Epoch 575/1000\n",
            "16/16 [==============================] - 0s 3ms/step - loss: 4.5446\n",
            "Epoch 576/1000\n",
            "16/16 [==============================] - 0s 3ms/step - loss: 4.7903\n",
            "Epoch 577/1000\n",
            "16/16 [==============================] - 0s 3ms/step - loss: 4.2396\n",
            "Epoch 578/1000\n",
            "16/16 [==============================] - 0s 3ms/step - loss: 4.4095\n",
            "Epoch 579/1000\n",
            "16/16 [==============================] - 0s 3ms/step - loss: 4.3931\n",
            "Epoch 580/1000\n",
            "16/16 [==============================] - 0s 3ms/step - loss: 4.1728\n",
            "Epoch 581/1000\n",
            "16/16 [==============================] - 0s 3ms/step - loss: 4.4311\n",
            "Epoch 582/1000\n",
            "16/16 [==============================] - 0s 3ms/step - loss: 4.6871\n",
            "Epoch 583/1000\n",
            "16/16 [==============================] - 0s 3ms/step - loss: 3.9479\n",
            "Epoch 584/1000\n",
            "16/16 [==============================] - 0s 3ms/step - loss: 4.2070\n",
            "Epoch 585/1000\n",
            "16/16 [==============================] - 0s 3ms/step - loss: 3.9614\n",
            "Epoch 586/1000\n",
            "16/16 [==============================] - 0s 3ms/step - loss: 4.2510\n",
            "Epoch 587/1000\n",
            "16/16 [==============================] - 0s 3ms/step - loss: 4.4103\n",
            "Epoch 588/1000\n",
            "16/16 [==============================] - 0s 3ms/step - loss: 4.6011\n",
            "Epoch 589/1000\n",
            "16/16 [==============================] - 0s 3ms/step - loss: 4.5902\n",
            "Epoch 590/1000\n",
            "16/16 [==============================] - 0s 3ms/step - loss: 4.2317\n",
            "Epoch 591/1000\n",
            "16/16 [==============================] - 0s 4ms/step - loss: 4.2822\n",
            "Epoch 592/1000\n",
            "16/16 [==============================] - 0s 3ms/step - loss: 4.0197\n",
            "Epoch 593/1000\n",
            "16/16 [==============================] - 0s 3ms/step - loss: 3.6590\n",
            "Epoch 594/1000\n",
            "16/16 [==============================] - 0s 3ms/step - loss: 3.5621\n",
            "Epoch 595/1000\n",
            "16/16 [==============================] - 0s 3ms/step - loss: 4.4820\n",
            "Epoch 596/1000\n",
            "16/16 [==============================] - 0s 3ms/step - loss: 3.9739\n",
            "Epoch 597/1000\n",
            "16/16 [==============================] - 0s 3ms/step - loss: 3.7534\n",
            "Epoch 598/1000\n",
            "16/16 [==============================] - 0s 3ms/step - loss: 4.0857\n",
            "Epoch 599/1000\n",
            "16/16 [==============================] - 0s 3ms/step - loss: 3.9848\n",
            "Epoch 600/1000\n",
            "16/16 [==============================] - 0s 4ms/step - loss: 4.4291\n",
            "Epoch 601/1000\n",
            "16/16 [==============================] - 0s 3ms/step - loss: 3.6553\n",
            "Epoch 602/1000\n",
            "16/16 [==============================] - 0s 3ms/step - loss: 3.7965\n",
            "Epoch 603/1000\n",
            "16/16 [==============================] - 0s 3ms/step - loss: 3.6455\n",
            "Epoch 604/1000\n",
            "16/16 [==============================] - 0s 3ms/step - loss: 4.1481\n",
            "Epoch 605/1000\n",
            "16/16 [==============================] - 0s 3ms/step - loss: 4.0813\n",
            "Epoch 606/1000\n",
            "16/16 [==============================] - 0s 3ms/step - loss: 4.4217\n",
            "Epoch 607/1000\n",
            "16/16 [==============================] - 0s 3ms/step - loss: 4.8134\n",
            "Epoch 608/1000\n",
            "16/16 [==============================] - 0s 3ms/step - loss: 3.5840\n",
            "Epoch 609/1000\n",
            "16/16 [==============================] - 0s 4ms/step - loss: 3.7353\n",
            "Epoch 610/1000\n",
            "16/16 [==============================] - 0s 3ms/step - loss: 3.3240\n",
            "Epoch 611/1000\n",
            "16/16 [==============================] - 0s 3ms/step - loss: 3.1717\n",
            "Epoch 612/1000\n",
            "16/16 [==============================] - 0s 3ms/step - loss: 3.5744\n",
            "Epoch 613/1000\n",
            "16/16 [==============================] - 0s 3ms/step - loss: 3.4682\n",
            "Epoch 614/1000\n",
            "16/16 [==============================] - 0s 3ms/step - loss: 3.4758\n",
            "Epoch 615/1000\n",
            "16/16 [==============================] - 0s 3ms/step - loss: 4.0823\n",
            "Epoch 616/1000\n",
            "16/16 [==============================] - 0s 3ms/step - loss: 3.6164\n",
            "Epoch 617/1000\n",
            "16/16 [==============================] - 0s 2ms/step - loss: 4.4907\n",
            "Epoch 618/1000\n",
            "16/16 [==============================] - 0s 2ms/step - loss: 3.7760\n",
            "Epoch 619/1000\n",
            "16/16 [==============================] - 0s 3ms/step - loss: 3.2545\n",
            "Epoch 620/1000\n",
            "16/16 [==============================] - 0s 3ms/step - loss: 3.3246\n",
            "Epoch 621/1000\n",
            "16/16 [==============================] - 0s 3ms/step - loss: 3.2557\n",
            "Epoch 622/1000\n",
            "16/16 [==============================] - 0s 2ms/step - loss: 3.4525\n",
            "Epoch 623/1000\n",
            "16/16 [==============================] - 0s 3ms/step - loss: 3.3239\n",
            "Epoch 624/1000\n",
            "16/16 [==============================] - 0s 3ms/step - loss: 3.2426\n",
            "Epoch 625/1000\n",
            "16/16 [==============================] - 0s 3ms/step - loss: 3.5390\n",
            "Epoch 626/1000\n",
            "16/16 [==============================] - 0s 2ms/step - loss: 3.9520\n",
            "Epoch 627/1000\n",
            "16/16 [==============================] - 0s 2ms/step - loss: 3.6138\n",
            "Epoch 628/1000\n",
            "16/16 [==============================] - 0s 3ms/step - loss: 3.6269\n",
            "Epoch 629/1000\n",
            "16/16 [==============================] - 0s 4ms/step - loss: 3.9115\n",
            "Epoch 630/1000\n",
            "16/16 [==============================] - 0s 3ms/step - loss: 3.4598\n",
            "Epoch 631/1000\n",
            "16/16 [==============================] - 0s 3ms/step - loss: 3.0909\n",
            "Epoch 632/1000\n",
            "16/16 [==============================] - 0s 3ms/step - loss: 3.2859\n",
            "Epoch 633/1000\n",
            "16/16 [==============================] - 0s 2ms/step - loss: 3.3515\n",
            "Epoch 634/1000\n",
            "16/16 [==============================] - 0s 4ms/step - loss: 3.2796\n",
            "Epoch 635/1000\n",
            "16/16 [==============================] - 0s 4ms/step - loss: 3.2994\n",
            "Epoch 636/1000\n",
            "16/16 [==============================] - 0s 4ms/step - loss: 3.2891\n",
            "Epoch 637/1000\n",
            "16/16 [==============================] - 0s 5ms/step - loss: 3.1624\n",
            "Epoch 638/1000\n",
            "16/16 [==============================] - 0s 4ms/step - loss: 3.4631\n",
            "Epoch 639/1000\n",
            "16/16 [==============================] - 0s 4ms/step - loss: 3.0911\n",
            "Epoch 640/1000\n",
            "16/16 [==============================] - 0s 4ms/step - loss: 3.3355\n",
            "Epoch 641/1000\n",
            "16/16 [==============================] - 0s 5ms/step - loss: 2.8474\n",
            "Epoch 642/1000\n",
            "16/16 [==============================] - 0s 5ms/step - loss: 2.8148\n",
            "Epoch 643/1000\n",
            "16/16 [==============================] - 0s 5ms/step - loss: 3.6299\n",
            "Epoch 644/1000\n",
            "16/16 [==============================] - 0s 5ms/step - loss: 2.8438\n",
            "Epoch 645/1000\n",
            "16/16 [==============================] - 0s 5ms/step - loss: 3.2599\n",
            "Epoch 646/1000\n",
            "16/16 [==============================] - 0s 4ms/step - loss: 2.8927\n",
            "Epoch 647/1000\n",
            "16/16 [==============================] - 0s 4ms/step - loss: 3.0402\n",
            "Epoch 648/1000\n",
            "16/16 [==============================] - 0s 5ms/step - loss: 2.9871\n",
            "Epoch 649/1000\n",
            "16/16 [==============================] - 0s 4ms/step - loss: 2.9784\n",
            "Epoch 650/1000\n",
            "16/16 [==============================] - 0s 5ms/step - loss: 2.9848\n",
            "Epoch 651/1000\n",
            "16/16 [==============================] - 0s 5ms/step - loss: 2.7489\n",
            "Epoch 652/1000\n",
            "16/16 [==============================] - 0s 4ms/step - loss: 3.0553\n",
            "Epoch 653/1000\n",
            "16/16 [==============================] - 0s 3ms/step - loss: 2.7918\n",
            "Epoch 654/1000\n",
            "16/16 [==============================] - 0s 4ms/step - loss: 3.0926\n",
            "Epoch 655/1000\n",
            "16/16 [==============================] - 0s 4ms/step - loss: 2.7918\n",
            "Epoch 656/1000\n",
            "16/16 [==============================] - 0s 3ms/step - loss: 3.0238\n",
            "Epoch 657/1000\n",
            "16/16 [==============================] - 0s 3ms/step - loss: 2.7181\n",
            "Epoch 658/1000\n",
            "16/16 [==============================] - 0s 5ms/step - loss: 3.4178\n",
            "Epoch 659/1000\n",
            "16/16 [==============================] - 0s 4ms/step - loss: 3.1247\n",
            "Epoch 660/1000\n",
            "16/16 [==============================] - 0s 5ms/step - loss: 3.1232\n",
            "Epoch 661/1000\n",
            "16/16 [==============================] - 0s 5ms/step - loss: 3.2911\n",
            "Epoch 662/1000\n",
            "16/16 [==============================] - 0s 4ms/step - loss: 2.8958\n",
            "Epoch 663/1000\n",
            "16/16 [==============================] - 0s 4ms/step - loss: 2.7668\n",
            "Epoch 664/1000\n",
            "16/16 [==============================] - 0s 4ms/step - loss: 2.9812\n",
            "Epoch 665/1000\n",
            "16/16 [==============================] - 0s 4ms/step - loss: 2.7075\n",
            "Epoch 666/1000\n",
            "16/16 [==============================] - 0s 4ms/step - loss: 3.2106\n",
            "Epoch 667/1000\n",
            "16/16 [==============================] - 0s 4ms/step - loss: 2.8987\n",
            "Epoch 668/1000\n",
            "16/16 [==============================] - 0s 5ms/step - loss: 2.9314\n",
            "Epoch 669/1000\n",
            "16/16 [==============================] - 0s 6ms/step - loss: 2.6800\n",
            "Epoch 670/1000\n",
            "16/16 [==============================] - 0s 5ms/step - loss: 2.4159\n",
            "Epoch 671/1000\n",
            "16/16 [==============================] - 0s 5ms/step - loss: 2.7300\n",
            "Epoch 672/1000\n",
            "16/16 [==============================] - 0s 4ms/step - loss: 3.4355\n",
            "Epoch 673/1000\n",
            "16/16 [==============================] - 0s 5ms/step - loss: 3.3598\n",
            "Epoch 674/1000\n",
            "16/16 [==============================] - 0s 3ms/step - loss: 2.9065\n",
            "Epoch 675/1000\n",
            "16/16 [==============================] - 0s 4ms/step - loss: 2.8417\n",
            "Epoch 676/1000\n",
            "16/16 [==============================] - 0s 4ms/step - loss: 2.5356\n",
            "Epoch 677/1000\n",
            "16/16 [==============================] - 0s 3ms/step - loss: 2.5179\n",
            "Epoch 678/1000\n",
            "16/16 [==============================] - 0s 3ms/step - loss: 2.1954\n",
            "Epoch 679/1000\n",
            "16/16 [==============================] - 0s 3ms/step - loss: 2.2061\n",
            "Epoch 680/1000\n",
            "16/16 [==============================] - 0s 3ms/step - loss: 2.6679\n",
            "Epoch 681/1000\n",
            "16/16 [==============================] - 0s 3ms/step - loss: 3.2263\n",
            "Epoch 682/1000\n",
            "16/16 [==============================] - 0s 4ms/step - loss: 3.4509\n",
            "Epoch 683/1000\n",
            "16/16 [==============================] - 0s 3ms/step - loss: 2.7123\n",
            "Epoch 684/1000\n",
            "16/16 [==============================] - 0s 3ms/step - loss: 2.7055\n",
            "Epoch 685/1000\n",
            "16/16 [==============================] - 0s 3ms/step - loss: 2.6670\n",
            "Epoch 686/1000\n",
            "16/16 [==============================] - 0s 3ms/step - loss: 2.7257\n",
            "Epoch 687/1000\n",
            "16/16 [==============================] - 0s 3ms/step - loss: 2.7877\n",
            "Epoch 688/1000\n",
            "16/16 [==============================] - 0s 3ms/step - loss: 2.4406\n",
            "Epoch 689/1000\n",
            "16/16 [==============================] - 0s 4ms/step - loss: 2.3376\n",
            "Epoch 690/1000\n",
            "16/16 [==============================] - 0s 4ms/step - loss: 2.5678\n",
            "Epoch 691/1000\n",
            "16/16 [==============================] - 0s 5ms/step - loss: 3.1821\n",
            "Epoch 692/1000\n",
            "16/16 [==============================] - 0s 5ms/step - loss: 3.0786\n",
            "Epoch 693/1000\n",
            "16/16 [==============================] - 0s 5ms/step - loss: 2.8235\n",
            "Epoch 694/1000\n",
            "16/16 [==============================] - 0s 4ms/step - loss: 2.7725\n",
            "Epoch 695/1000\n",
            "16/16 [==============================] - 0s 5ms/step - loss: 3.1805\n",
            "Epoch 696/1000\n",
            "16/16 [==============================] - 0s 5ms/step - loss: 3.5790\n",
            "Epoch 697/1000\n",
            "16/16 [==============================] - 0s 5ms/step - loss: 2.5633\n",
            "Epoch 698/1000\n",
            "16/16 [==============================] - 0s 4ms/step - loss: 2.3696\n",
            "Epoch 699/1000\n",
            "16/16 [==============================] - 0s 5ms/step - loss: 2.6436\n",
            "Epoch 700/1000\n",
            "16/16 [==============================] - 0s 5ms/step - loss: 2.3450\n",
            "Epoch 701/1000\n",
            "16/16 [==============================] - 0s 3ms/step - loss: 2.1209\n",
            "Epoch 702/1000\n",
            "16/16 [==============================] - 0s 5ms/step - loss: 2.3403\n",
            "Epoch 703/1000\n",
            "16/16 [==============================] - 0s 4ms/step - loss: 2.3508\n",
            "Epoch 704/1000\n",
            "16/16 [==============================] - 0s 3ms/step - loss: 2.3709\n",
            "Epoch 705/1000\n",
            "16/16 [==============================] - 0s 3ms/step - loss: 2.2227\n",
            "Epoch 706/1000\n",
            "16/16 [==============================] - 0s 3ms/step - loss: 2.3150\n",
            "Epoch 707/1000\n",
            "16/16 [==============================] - 0s 3ms/step - loss: 2.4843\n",
            "Epoch 708/1000\n",
            "16/16 [==============================] - 0s 3ms/step - loss: 2.3079\n",
            "Epoch 709/1000\n",
            "16/16 [==============================] - 0s 4ms/step - loss: 2.3116\n",
            "Epoch 710/1000\n",
            "16/16 [==============================] - 0s 5ms/step - loss: 2.3348\n",
            "Epoch 711/1000\n",
            "16/16 [==============================] - 0s 4ms/step - loss: 1.9279\n",
            "Epoch 712/1000\n",
            "16/16 [==============================] - 0s 4ms/step - loss: 2.0310\n",
            "Epoch 713/1000\n",
            "16/16 [==============================] - 0s 3ms/step - loss: 2.2193\n",
            "Epoch 714/1000\n",
            "16/16 [==============================] - 0s 3ms/step - loss: 2.0725\n",
            "Epoch 715/1000\n",
            "16/16 [==============================] - 0s 3ms/step - loss: 2.2827\n",
            "Epoch 716/1000\n",
            "16/16 [==============================] - 0s 3ms/step - loss: 2.2544\n",
            "Epoch 717/1000\n",
            "16/16 [==============================] - 0s 4ms/step - loss: 2.1411\n",
            "Epoch 718/1000\n",
            "16/16 [==============================] - 0s 5ms/step - loss: 2.0621\n",
            "Epoch 719/1000\n",
            "16/16 [==============================] - 0s 5ms/step - loss: 1.7571\n",
            "Epoch 720/1000\n",
            "16/16 [==============================] - 0s 4ms/step - loss: 1.8537\n",
            "Epoch 721/1000\n",
            "16/16 [==============================] - 0s 4ms/step - loss: 1.8708\n",
            "Epoch 722/1000\n",
            "16/16 [==============================] - 0s 4ms/step - loss: 1.7990\n",
            "Epoch 723/1000\n",
            "16/16 [==============================] - 0s 4ms/step - loss: 1.9865\n",
            "Epoch 724/1000\n",
            "16/16 [==============================] - 0s 4ms/step - loss: 2.1238\n",
            "Epoch 725/1000\n",
            "16/16 [==============================] - 0s 4ms/step - loss: 2.2352\n",
            "Epoch 726/1000\n",
            "16/16 [==============================] - 0s 4ms/step - loss: 1.9889\n",
            "Epoch 727/1000\n",
            "16/16 [==============================] - 0s 5ms/step - loss: 1.8471\n",
            "Epoch 728/1000\n",
            "16/16 [==============================] - 0s 5ms/step - loss: 2.3854\n",
            "Epoch 729/1000\n",
            "16/16 [==============================] - 0s 4ms/step - loss: 2.1231\n",
            "Epoch 730/1000\n",
            "16/16 [==============================] - 0s 4ms/step - loss: 2.2704\n",
            "Epoch 731/1000\n",
            "16/16 [==============================] - 0s 4ms/step - loss: 2.1991\n",
            "Epoch 732/1000\n",
            "16/16 [==============================] - 0s 3ms/step - loss: 2.3504\n",
            "Epoch 733/1000\n",
            "16/16 [==============================] - 0s 5ms/step - loss: 2.3459\n",
            "Epoch 734/1000\n",
            "16/16 [==============================] - 0s 4ms/step - loss: 2.2664\n",
            "Epoch 735/1000\n",
            "16/16 [==============================] - 0s 3ms/step - loss: 2.7387\n",
            "Epoch 736/1000\n",
            "16/16 [==============================] - 0s 3ms/step - loss: 2.7401\n",
            "Epoch 737/1000\n",
            "16/16 [==============================] - 0s 3ms/step - loss: 2.3167\n",
            "Epoch 738/1000\n",
            "16/16 [==============================] - 0s 3ms/step - loss: 1.9469\n",
            "Epoch 739/1000\n",
            "16/16 [==============================] - 0s 4ms/step - loss: 2.3469\n",
            "Epoch 740/1000\n",
            "16/16 [==============================] - 0s 3ms/step - loss: 2.1709\n",
            "Epoch 741/1000\n",
            "16/16 [==============================] - 0s 3ms/step - loss: 1.8746\n",
            "Epoch 742/1000\n",
            "16/16 [==============================] - 0s 3ms/step - loss: 1.9726\n",
            "Epoch 743/1000\n",
            "16/16 [==============================] - 0s 3ms/step - loss: 1.9869\n",
            "Epoch 744/1000\n",
            "16/16 [==============================] - 0s 4ms/step - loss: 2.0395\n",
            "Epoch 745/1000\n",
            "16/16 [==============================] - 0s 4ms/step - loss: 1.8615\n",
            "Epoch 746/1000\n",
            "16/16 [==============================] - 0s 3ms/step - loss: 1.4962\n",
            "Epoch 747/1000\n",
            "16/16 [==============================] - 0s 3ms/step - loss: 1.6606\n",
            "Epoch 748/1000\n",
            "16/16 [==============================] - 0s 3ms/step - loss: 1.9116\n",
            "Epoch 749/1000\n",
            "16/16 [==============================] - 0s 4ms/step - loss: 1.5658\n",
            "Epoch 750/1000\n",
            "16/16 [==============================] - 0s 4ms/step - loss: 2.2355\n",
            "Epoch 751/1000\n",
            "16/16 [==============================] - 0s 3ms/step - loss: 1.9487\n",
            "Epoch 752/1000\n",
            "16/16 [==============================] - 0s 3ms/step - loss: 1.8610\n",
            "Epoch 753/1000\n",
            "16/16 [==============================] - 0s 4ms/step - loss: 1.6000\n",
            "Epoch 754/1000\n",
            "16/16 [==============================] - 0s 3ms/step - loss: 1.9939\n",
            "Epoch 755/1000\n",
            "16/16 [==============================] - 0s 3ms/step - loss: 1.6913\n",
            "Epoch 756/1000\n",
            "16/16 [==============================] - 0s 3ms/step - loss: 1.6920\n",
            "Epoch 757/1000\n",
            "16/16 [==============================] - 0s 3ms/step - loss: 1.9953\n",
            "Epoch 758/1000\n",
            "16/16 [==============================] - 0s 3ms/step - loss: 2.0197\n",
            "Epoch 759/1000\n",
            "16/16 [==============================] - 0s 3ms/step - loss: 1.5638\n",
            "Epoch 760/1000\n",
            "16/16 [==============================] - 0s 3ms/step - loss: 1.6653\n",
            "Epoch 761/1000\n",
            "16/16 [==============================] - 0s 3ms/step - loss: 1.7290\n",
            "Epoch 762/1000\n",
            "16/16 [==============================] - 0s 3ms/step - loss: 1.6668\n",
            "Epoch 763/1000\n",
            "16/16 [==============================] - 0s 3ms/step - loss: 1.5974\n",
            "Epoch 764/1000\n",
            "16/16 [==============================] - 0s 3ms/step - loss: 1.5440\n",
            "Epoch 765/1000\n",
            "16/16 [==============================] - 0s 4ms/step - loss: 1.8368\n",
            "Epoch 766/1000\n",
            "16/16 [==============================] - 0s 4ms/step - loss: 1.6696\n",
            "Epoch 767/1000\n",
            "16/16 [==============================] - 0s 5ms/step - loss: 1.4421\n",
            "Epoch 768/1000\n",
            "16/16 [==============================] - 0s 3ms/step - loss: 1.6712\n",
            "Epoch 769/1000\n",
            "16/16 [==============================] - 0s 3ms/step - loss: 1.4905\n",
            "Epoch 770/1000\n",
            "16/16 [==============================] - 0s 4ms/step - loss: 1.5629\n",
            "Epoch 771/1000\n",
            "16/16 [==============================] - 0s 4ms/step - loss: 2.2709\n",
            "Epoch 772/1000\n",
            "16/16 [==============================] - 0s 3ms/step - loss: 2.3365\n",
            "Epoch 773/1000\n",
            "16/16 [==============================] - 0s 3ms/step - loss: 1.7498\n",
            "Epoch 774/1000\n",
            "16/16 [==============================] - 0s 4ms/step - loss: 1.7469\n",
            "Epoch 775/1000\n",
            "16/16 [==============================] - 0s 3ms/step - loss: 1.9763\n",
            "Epoch 776/1000\n",
            "16/16 [==============================] - 0s 3ms/step - loss: 1.9642\n",
            "Epoch 777/1000\n",
            "16/16 [==============================] - 0s 3ms/step - loss: 2.0761\n",
            "Epoch 778/1000\n",
            "16/16 [==============================] - 0s 3ms/step - loss: 1.9033\n",
            "Epoch 779/1000\n",
            "16/16 [==============================] - 0s 4ms/step - loss: 1.4791\n",
            "Epoch 780/1000\n",
            "16/16 [==============================] - 0s 3ms/step - loss: 1.6165\n",
            "Epoch 781/1000\n",
            "16/16 [==============================] - 0s 3ms/step - loss: 1.6022\n",
            "Epoch 782/1000\n",
            "16/16 [==============================] - 0s 3ms/step - loss: 1.8974\n",
            "Epoch 783/1000\n",
            "16/16 [==============================] - 0s 3ms/step - loss: 1.6694\n",
            "Epoch 784/1000\n",
            "16/16 [==============================] - 0s 3ms/step - loss: 1.4963\n",
            "Epoch 785/1000\n",
            "16/16 [==============================] - 0s 2ms/step - loss: 1.4951\n",
            "Epoch 786/1000\n",
            "16/16 [==============================] - 0s 3ms/step - loss: 1.7569\n",
            "Epoch 787/1000\n",
            "16/16 [==============================] - 0s 3ms/step - loss: 1.8895\n",
            "Epoch 788/1000\n",
            "16/16 [==============================] - 0s 3ms/step - loss: 1.8692\n",
            "Epoch 789/1000\n",
            "16/16 [==============================] - 0s 3ms/step - loss: 1.7543\n",
            "Epoch 790/1000\n",
            "16/16 [==============================] - 0s 3ms/step - loss: 1.7016\n",
            "Epoch 791/1000\n",
            "16/16 [==============================] - 0s 2ms/step - loss: 1.6877\n",
            "Epoch 792/1000\n",
            "16/16 [==============================] - 0s 3ms/step - loss: 1.5660\n",
            "Epoch 793/1000\n",
            "16/16 [==============================] - 0s 3ms/step - loss: 2.0545\n",
            "Epoch 794/1000\n",
            "16/16 [==============================] - 0s 3ms/step - loss: 2.2003\n",
            "Epoch 795/1000\n",
            "16/16 [==============================] - 0s 3ms/step - loss: 1.9978\n",
            "Epoch 796/1000\n",
            "16/16 [==============================] - 0s 3ms/step - loss: 1.5866\n",
            "Epoch 797/1000\n",
            "16/16 [==============================] - 0s 3ms/step - loss: 1.9580\n",
            "Epoch 798/1000\n",
            "16/16 [==============================] - 0s 3ms/step - loss: 2.4477\n",
            "Epoch 799/1000\n",
            "16/16 [==============================] - 0s 3ms/step - loss: 2.5295\n",
            "Epoch 800/1000\n",
            "16/16 [==============================] - 0s 3ms/step - loss: 2.1591\n",
            "Epoch 801/1000\n",
            "16/16 [==============================] - 0s 3ms/step - loss: 1.7486\n",
            "Epoch 802/1000\n",
            "16/16 [==============================] - 0s 3ms/step - loss: 1.4295\n",
            "Epoch 803/1000\n",
            "16/16 [==============================] - 0s 3ms/step - loss: 1.4314\n",
            "Epoch 804/1000\n",
            "16/16 [==============================] - 0s 4ms/step - loss: 1.2286\n",
            "Epoch 805/1000\n",
            "16/16 [==============================] - 0s 3ms/step - loss: 1.2210\n",
            "Epoch 806/1000\n",
            "16/16 [==============================] - 0s 3ms/step - loss: 1.2994\n",
            "Epoch 807/1000\n",
            "16/16 [==============================] - 0s 4ms/step - loss: 1.3313\n",
            "Epoch 808/1000\n",
            "16/16 [==============================] - 0s 3ms/step - loss: 1.4726\n",
            "Epoch 809/1000\n",
            "16/16 [==============================] - 0s 3ms/step - loss: 1.3945\n",
            "Epoch 810/1000\n",
            "16/16 [==============================] - 0s 3ms/step - loss: 1.3748\n",
            "Epoch 811/1000\n",
            "16/16 [==============================] - 0s 5ms/step - loss: 1.8705\n",
            "Epoch 812/1000\n",
            "16/16 [==============================] - 0s 4ms/step - loss: 1.5764\n",
            "Epoch 813/1000\n",
            "16/16 [==============================] - 0s 4ms/step - loss: 1.3478\n",
            "Epoch 814/1000\n",
            "16/16 [==============================] - 0s 3ms/step - loss: 1.3781\n",
            "Epoch 815/1000\n",
            "16/16 [==============================] - 0s 3ms/step - loss: 1.7232\n",
            "Epoch 816/1000\n",
            "16/16 [==============================] - 0s 5ms/step - loss: 1.7880\n",
            "Epoch 817/1000\n",
            "16/16 [==============================] - 0s 3ms/step - loss: 1.5269\n",
            "Epoch 818/1000\n",
            "16/16 [==============================] - 0s 3ms/step - loss: 1.3606\n",
            "Epoch 819/1000\n",
            "16/16 [==============================] - 0s 3ms/step - loss: 1.3521\n",
            "Epoch 820/1000\n",
            "16/16 [==============================] - 0s 4ms/step - loss: 2.1199\n",
            "Epoch 821/1000\n",
            "16/16 [==============================] - 0s 4ms/step - loss: 1.7872\n",
            "Epoch 822/1000\n",
            "16/16 [==============================] - 0s 3ms/step - loss: 1.6886\n",
            "Epoch 823/1000\n",
            "16/16 [==============================] - 0s 4ms/step - loss: 1.4234\n",
            "Epoch 824/1000\n",
            "16/16 [==============================] - 0s 3ms/step - loss: 1.3370\n",
            "Epoch 825/1000\n",
            "16/16 [==============================] - 0s 4ms/step - loss: 1.2265\n",
            "Epoch 826/1000\n",
            "16/16 [==============================] - 0s 4ms/step - loss: 1.2942\n",
            "Epoch 827/1000\n",
            "16/16 [==============================] - 0s 3ms/step - loss: 1.1498\n",
            "Epoch 828/1000\n",
            "16/16 [==============================] - 0s 3ms/step - loss: 1.2315\n",
            "Epoch 829/1000\n",
            "16/16 [==============================] - 0s 3ms/step - loss: 1.2907\n",
            "Epoch 830/1000\n",
            "16/16 [==============================] - 0s 3ms/step - loss: 1.3637\n",
            "Epoch 831/1000\n",
            "16/16 [==============================] - 0s 3ms/step - loss: 1.4346\n",
            "Epoch 832/1000\n",
            "16/16 [==============================] - 0s 4ms/step - loss: 1.7390\n",
            "Epoch 833/1000\n",
            "16/16 [==============================] - 0s 4ms/step - loss: 1.2510\n",
            "Epoch 834/1000\n",
            "16/16 [==============================] - 0s 3ms/step - loss: 1.4513\n",
            "Epoch 835/1000\n",
            "16/16 [==============================] - 0s 4ms/step - loss: 1.1579\n",
            "Epoch 836/1000\n",
            "16/16 [==============================] - 0s 5ms/step - loss: 1.0644\n",
            "Epoch 837/1000\n",
            "16/16 [==============================] - 0s 3ms/step - loss: 1.2792\n",
            "Epoch 838/1000\n",
            "16/16 [==============================] - 0s 3ms/step - loss: 1.3220\n",
            "Epoch 839/1000\n",
            "16/16 [==============================] - 0s 4ms/step - loss: 1.6761\n",
            "Epoch 840/1000\n",
            "16/16 [==============================] - 0s 4ms/step - loss: 1.6151\n",
            "Epoch 841/1000\n",
            "16/16 [==============================] - 0s 4ms/step - loss: 1.5542\n",
            "Epoch 842/1000\n",
            "16/16 [==============================] - 0s 4ms/step - loss: 1.5852\n",
            "Epoch 843/1000\n",
            "16/16 [==============================] - 0s 3ms/step - loss: 1.8985\n",
            "Epoch 844/1000\n",
            "16/16 [==============================] - 0s 4ms/step - loss: 1.8428\n",
            "Epoch 845/1000\n",
            "16/16 [==============================] - 0s 3ms/step - loss: 1.5331\n",
            "Epoch 846/1000\n",
            "16/16 [==============================] - 0s 3ms/step - loss: 1.3082\n",
            "Epoch 847/1000\n",
            "16/16 [==============================] - 0s 3ms/step - loss: 1.2430\n",
            "Epoch 848/1000\n",
            "16/16 [==============================] - 0s 4ms/step - loss: 1.1984\n",
            "Epoch 849/1000\n",
            "16/16 [==============================] - 0s 3ms/step - loss: 1.5239\n",
            "Epoch 850/1000\n",
            "16/16 [==============================] - 0s 3ms/step - loss: 1.8001\n",
            "Epoch 851/1000\n",
            "16/16 [==============================] - 0s 3ms/step - loss: 1.5976\n",
            "Epoch 852/1000\n",
            "16/16 [==============================] - 0s 4ms/step - loss: 1.3961\n",
            "Epoch 853/1000\n",
            "16/16 [==============================] - 0s 5ms/step - loss: 1.2141\n",
            "Epoch 854/1000\n",
            "16/16 [==============================] - 0s 4ms/step - loss: 1.3571\n",
            "Epoch 855/1000\n",
            "16/16 [==============================] - 0s 4ms/step - loss: 1.3091\n",
            "Epoch 856/1000\n",
            "16/16 [==============================] - 0s 3ms/step - loss: 1.2749\n",
            "Epoch 857/1000\n",
            "16/16 [==============================] - 0s 3ms/step - loss: 1.0344\n",
            "Epoch 858/1000\n",
            "16/16 [==============================] - 0s 6ms/step - loss: 1.0832\n",
            "Epoch 859/1000\n",
            "16/16 [==============================] - 0s 4ms/step - loss: 1.3284\n",
            "Epoch 860/1000\n",
            "16/16 [==============================] - 0s 4ms/step - loss: 1.2194\n",
            "Epoch 861/1000\n",
            "16/16 [==============================] - 0s 4ms/step - loss: 1.0732\n",
            "Epoch 862/1000\n",
            "16/16 [==============================] - 0s 4ms/step - loss: 1.3598\n",
            "Epoch 863/1000\n",
            "16/16 [==============================] - 0s 5ms/step - loss: 1.3055\n",
            "Epoch 864/1000\n",
            "16/16 [==============================] - 0s 5ms/step - loss: 1.4813\n",
            "Epoch 865/1000\n",
            "16/16 [==============================] - 0s 5ms/step - loss: 1.3407\n",
            "Epoch 866/1000\n",
            "16/16 [==============================] - 0s 6ms/step - loss: 1.1092\n",
            "Epoch 867/1000\n",
            "16/16 [==============================] - 0s 5ms/step - loss: 1.0731\n",
            "Epoch 868/1000\n",
            "16/16 [==============================] - 0s 3ms/step - loss: 0.9324\n",
            "Epoch 869/1000\n",
            "16/16 [==============================] - 0s 5ms/step - loss: 1.1059\n",
            "Epoch 870/1000\n",
            "16/16 [==============================] - 0s 4ms/step - loss: 1.3705\n",
            "Epoch 871/1000\n",
            "16/16 [==============================] - 0s 3ms/step - loss: 1.6770\n",
            "Epoch 872/1000\n",
            "16/16 [==============================] - 0s 3ms/step - loss: 1.5184\n",
            "Epoch 873/1000\n",
            "16/16 [==============================] - 0s 4ms/step - loss: 1.4185\n",
            "Epoch 874/1000\n",
            "16/16 [==============================] - 0s 5ms/step - loss: 1.2014\n",
            "Epoch 875/1000\n",
            "16/16 [==============================] - 0s 4ms/step - loss: 1.5466\n",
            "Epoch 876/1000\n",
            "16/16 [==============================] - 0s 3ms/step - loss: 1.2075\n",
            "Epoch 877/1000\n",
            "16/16 [==============================] - 0s 4ms/step - loss: 1.5380\n",
            "Epoch 878/1000\n",
            "16/16 [==============================] - 0s 5ms/step - loss: 1.4253\n",
            "Epoch 879/1000\n",
            "16/16 [==============================] - 0s 3ms/step - loss: 1.3672\n",
            "Epoch 880/1000\n",
            "16/16 [==============================] - 0s 4ms/step - loss: 1.2922\n",
            "Epoch 881/1000\n",
            "16/16 [==============================] - 0s 3ms/step - loss: 1.2149\n",
            "Epoch 882/1000\n",
            "16/16 [==============================] - 0s 4ms/step - loss: 1.2161\n",
            "Epoch 883/1000\n",
            "16/16 [==============================] - 0s 4ms/step - loss: 1.0044\n",
            "Epoch 884/1000\n",
            "16/16 [==============================] - 0s 6ms/step - loss: 1.1432\n",
            "Epoch 885/1000\n",
            "16/16 [==============================] - 0s 5ms/step - loss: 1.1649\n",
            "Epoch 886/1000\n",
            "16/16 [==============================] - 0s 3ms/step - loss: 1.2075\n",
            "Epoch 887/1000\n",
            "16/16 [==============================] - 0s 4ms/step - loss: 1.2218\n",
            "Epoch 888/1000\n",
            "16/16 [==============================] - 0s 4ms/step - loss: 1.1090\n",
            "Epoch 889/1000\n",
            "16/16 [==============================] - 0s 4ms/step - loss: 1.0246\n",
            "Epoch 890/1000\n",
            "16/16 [==============================] - 0s 4ms/step - loss: 0.9482\n",
            "Epoch 891/1000\n",
            "16/16 [==============================] - 0s 5ms/step - loss: 1.0850\n",
            "Epoch 892/1000\n",
            "16/16 [==============================] - 0s 5ms/step - loss: 1.1039\n",
            "Epoch 893/1000\n",
            "16/16 [==============================] - 0s 4ms/step - loss: 1.0759\n",
            "Epoch 894/1000\n",
            "16/16 [==============================] - 0s 5ms/step - loss: 1.3503\n",
            "Epoch 895/1000\n",
            "16/16 [==============================] - 0s 6ms/step - loss: 1.3573\n",
            "Epoch 896/1000\n",
            "16/16 [==============================] - 0s 5ms/step - loss: 1.2038\n",
            "Epoch 897/1000\n",
            "16/16 [==============================] - 0s 4ms/step - loss: 1.2551\n",
            "Epoch 898/1000\n",
            "16/16 [==============================] - 0s 3ms/step - loss: 1.2771\n",
            "Epoch 899/1000\n",
            "16/16 [==============================] - 0s 5ms/step - loss: 1.3785\n",
            "Epoch 900/1000\n",
            "16/16 [==============================] - 0s 5ms/step - loss: 1.1272\n",
            "Epoch 901/1000\n",
            "16/16 [==============================] - 0s 5ms/step - loss: 1.6559\n",
            "Epoch 902/1000\n",
            "16/16 [==============================] - 0s 5ms/step - loss: 1.7799\n",
            "Epoch 903/1000\n",
            "16/16 [==============================] - 0s 5ms/step - loss: 1.2829\n",
            "Epoch 904/1000\n",
            "16/16 [==============================] - 0s 4ms/step - loss: 1.4023\n",
            "Epoch 905/1000\n",
            "16/16 [==============================] - 0s 4ms/step - loss: 1.1133\n",
            "Epoch 906/1000\n",
            "16/16 [==============================] - 0s 6ms/step - loss: 0.9890\n",
            "Epoch 907/1000\n",
            "16/16 [==============================] - 0s 6ms/step - loss: 0.9145\n",
            "Epoch 908/1000\n",
            "16/16 [==============================] - 0s 6ms/step - loss: 0.9017\n",
            "Epoch 909/1000\n",
            "16/16 [==============================] - 0s 5ms/step - loss: 1.0411\n",
            "Epoch 910/1000\n",
            "16/16 [==============================] - 0s 3ms/step - loss: 1.1399\n",
            "Epoch 911/1000\n",
            "16/16 [==============================] - 0s 6ms/step - loss: 1.6195\n",
            "Epoch 912/1000\n",
            "16/16 [==============================] - 0s 5ms/step - loss: 3.2565\n",
            "Epoch 913/1000\n",
            "16/16 [==============================] - 0s 5ms/step - loss: 2.9024\n",
            "Epoch 914/1000\n",
            "16/16 [==============================] - 0s 5ms/step - loss: 2.6648\n",
            "Epoch 915/1000\n",
            "16/16 [==============================] - 0s 6ms/step - loss: 1.5996\n",
            "Epoch 916/1000\n",
            "16/16 [==============================] - 0s 5ms/step - loss: 1.1602\n",
            "Epoch 917/1000\n",
            "16/16 [==============================] - 0s 6ms/step - loss: 1.0335\n",
            "Epoch 918/1000\n",
            "16/16 [==============================] - 0s 5ms/step - loss: 1.0889\n",
            "Epoch 919/1000\n",
            "16/16 [==============================] - 0s 5ms/step - loss: 1.3563\n",
            "Epoch 920/1000\n",
            "16/16 [==============================] - 0s 4ms/step - loss: 1.3198\n",
            "Epoch 921/1000\n",
            "16/16 [==============================] - 0s 5ms/step - loss: 1.2080\n",
            "Epoch 922/1000\n",
            "16/16 [==============================] - 0s 4ms/step - loss: 1.0845\n",
            "Epoch 923/1000\n",
            "16/16 [==============================] - 0s 3ms/step - loss: 0.9772\n",
            "Epoch 924/1000\n",
            "16/16 [==============================] - 0s 3ms/step - loss: 0.9995\n",
            "Epoch 925/1000\n",
            "16/16 [==============================] - 0s 6ms/step - loss: 1.0132\n",
            "Epoch 926/1000\n",
            "16/16 [==============================] - 0s 15ms/step - loss: 1.0090\n",
            "Epoch 927/1000\n",
            "16/16 [==============================] - 0s 22ms/step - loss: 0.9477\n",
            "Epoch 928/1000\n",
            "16/16 [==============================] - 0s 18ms/step - loss: 1.1205\n",
            "Epoch 929/1000\n",
            "16/16 [==============================] - 0s 15ms/step - loss: 1.2642\n",
            "Epoch 930/1000\n",
            "16/16 [==============================] - 0s 8ms/step - loss: 1.3205\n",
            "Epoch 931/1000\n",
            "16/16 [==============================] - 0s 13ms/step - loss: 1.2286\n",
            "Epoch 932/1000\n",
            "16/16 [==============================] - 0s 7ms/step - loss: 1.4469\n",
            "Epoch 933/1000\n",
            "16/16 [==============================] - 0s 4ms/step - loss: 1.1735\n",
            "Epoch 934/1000\n",
            "16/16 [==============================] - 0s 6ms/step - loss: 1.1107\n",
            "Epoch 935/1000\n",
            "16/16 [==============================] - 0s 4ms/step - loss: 1.0385\n",
            "Epoch 936/1000\n",
            "16/16 [==============================] - 0s 3ms/step - loss: 0.8164\n",
            "Epoch 937/1000\n",
            "16/16 [==============================] - 0s 4ms/step - loss: 0.9510\n",
            "Epoch 938/1000\n",
            "16/16 [==============================] - 0s 4ms/step - loss: 1.1926\n",
            "Epoch 939/1000\n",
            "16/16 [==============================] - 0s 5ms/step - loss: 1.3368\n",
            "Epoch 940/1000\n",
            "16/16 [==============================] - 0s 4ms/step - loss: 1.2596\n",
            "Epoch 941/1000\n",
            "16/16 [==============================] - 0s 5ms/step - loss: 1.0627\n",
            "Epoch 942/1000\n",
            "16/16 [==============================] - 0s 4ms/step - loss: 1.1044\n",
            "Epoch 943/1000\n",
            "16/16 [==============================] - 0s 4ms/step - loss: 0.9746\n",
            "Epoch 944/1000\n",
            "16/16 [==============================] - 0s 3ms/step - loss: 1.0780\n",
            "Epoch 945/1000\n",
            "16/16 [==============================] - 0s 4ms/step - loss: 0.9659\n",
            "Epoch 946/1000\n",
            "16/16 [==============================] - 0s 3ms/step - loss: 0.8915\n",
            "Epoch 947/1000\n",
            "16/16 [==============================] - 0s 3ms/step - loss: 0.8148\n",
            "Epoch 948/1000\n",
            "16/16 [==============================] - 0s 4ms/step - loss: 0.8364\n",
            "Epoch 949/1000\n",
            "16/16 [==============================] - 0s 5ms/step - loss: 0.8126\n",
            "Epoch 950/1000\n",
            "16/16 [==============================] - 0s 5ms/step - loss: 0.7862\n",
            "Epoch 951/1000\n",
            "16/16 [==============================] - 0s 4ms/step - loss: 0.8118\n",
            "Epoch 952/1000\n",
            "16/16 [==============================] - 0s 4ms/step - loss: 0.8510\n",
            "Epoch 953/1000\n",
            "16/16 [==============================] - 0s 4ms/step - loss: 0.8041\n",
            "Epoch 954/1000\n",
            "16/16 [==============================] - 0s 4ms/step - loss: 0.7970\n",
            "Epoch 955/1000\n",
            "16/16 [==============================] - 0s 3ms/step - loss: 0.9543\n",
            "Epoch 956/1000\n",
            "16/16 [==============================] - 0s 3ms/step - loss: 0.9008\n",
            "Epoch 957/1000\n",
            "16/16 [==============================] - 0s 3ms/step - loss: 0.8952\n",
            "Epoch 958/1000\n",
            "16/16 [==============================] - 0s 4ms/step - loss: 0.9715\n",
            "Epoch 959/1000\n",
            "16/16 [==============================] - 0s 4ms/step - loss: 1.0247\n",
            "Epoch 960/1000\n",
            "16/16 [==============================] - 0s 4ms/step - loss: 1.2774\n",
            "Epoch 961/1000\n",
            "16/16 [==============================] - 0s 3ms/step - loss: 1.0388\n",
            "Epoch 962/1000\n",
            "16/16 [==============================] - 0s 3ms/step - loss: 0.9527\n",
            "Epoch 963/1000\n",
            "16/16 [==============================] - 0s 5ms/step - loss: 0.7549\n",
            "Epoch 964/1000\n",
            "16/16 [==============================] - 0s 6ms/step - loss: 0.6953\n",
            "Epoch 965/1000\n",
            "16/16 [==============================] - 0s 3ms/step - loss: 0.6820\n",
            "Epoch 966/1000\n",
            "16/16 [==============================] - 0s 3ms/step - loss: 0.9393\n",
            "Epoch 967/1000\n",
            "16/16 [==============================] - 0s 5ms/step - loss: 0.9227\n",
            "Epoch 968/1000\n",
            "16/16 [==============================] - 0s 4ms/step - loss: 0.9931\n",
            "Epoch 969/1000\n",
            "16/16 [==============================] - 0s 4ms/step - loss: 1.0857\n",
            "Epoch 970/1000\n",
            "16/16 [==============================] - 0s 5ms/step - loss: 1.5684\n",
            "Epoch 971/1000\n",
            "16/16 [==============================] - 0s 5ms/step - loss: 1.4812\n",
            "Epoch 972/1000\n",
            "16/16 [==============================] - 0s 5ms/step - loss: 1.4029\n",
            "Epoch 973/1000\n",
            "16/16 [==============================] - 0s 4ms/step - loss: 1.6736\n",
            "Epoch 974/1000\n",
            "16/16 [==============================] - 0s 4ms/step - loss: 1.2252\n",
            "Epoch 975/1000\n",
            "16/16 [==============================] - 0s 5ms/step - loss: 1.1032\n",
            "Epoch 976/1000\n",
            "16/16 [==============================] - 0s 4ms/step - loss: 1.3888\n",
            "Epoch 977/1000\n",
            "16/16 [==============================] - 0s 4ms/step - loss: 1.5872\n",
            "Epoch 978/1000\n",
            "16/16 [==============================] - 0s 5ms/step - loss: 1.3724\n",
            "Epoch 979/1000\n",
            "16/16 [==============================] - 0s 5ms/step - loss: 1.5275\n",
            "Epoch 980/1000\n",
            "16/16 [==============================] - 0s 4ms/step - loss: 0.9077\n",
            "Epoch 981/1000\n",
            "16/16 [==============================] - 0s 4ms/step - loss: 0.7913\n",
            "Epoch 982/1000\n",
            "16/16 [==============================] - 0s 4ms/step - loss: 0.9569\n",
            "Epoch 983/1000\n",
            "16/16 [==============================] - 0s 4ms/step - loss: 0.8734\n",
            "Epoch 984/1000\n",
            "16/16 [==============================] - 0s 5ms/step - loss: 1.1080\n",
            "Epoch 985/1000\n",
            "16/16 [==============================] - 0s 8ms/step - loss: 1.3903\n",
            "Epoch 986/1000\n",
            "16/16 [==============================] - 0s 6ms/step - loss: 1.2976\n",
            "Epoch 987/1000\n",
            "16/16 [==============================] - 0s 4ms/step - loss: 1.2408\n",
            "Epoch 988/1000\n",
            "16/16 [==============================] - 0s 8ms/step - loss: 0.9982\n",
            "Epoch 989/1000\n",
            "16/16 [==============================] - 0s 12ms/step - loss: 1.0379\n",
            "Epoch 990/1000\n",
            "16/16 [==============================] - 0s 8ms/step - loss: 0.9460\n",
            "Epoch 991/1000\n",
            "16/16 [==============================] - 0s 10ms/step - loss: 1.0894\n",
            "Epoch 992/1000\n",
            "16/16 [==============================] - 0s 12ms/step - loss: 1.0296\n",
            "Epoch 993/1000\n",
            "16/16 [==============================] - 0s 16ms/step - loss: 1.2745\n",
            "Epoch 994/1000\n",
            "16/16 [==============================] - 0s 6ms/step - loss: 1.3279\n",
            "Epoch 995/1000\n",
            "16/16 [==============================] - 0s 5ms/step - loss: 1.7067\n",
            "Epoch 996/1000\n",
            "16/16 [==============================] - 0s 6ms/step - loss: 1.1163\n",
            "Epoch 997/1000\n",
            "16/16 [==============================] - 0s 4ms/step - loss: 1.2134\n",
            "Epoch 998/1000\n",
            "16/16 [==============================] - 0s 6ms/step - loss: 1.0193\n",
            "Epoch 999/1000\n",
            "16/16 [==============================] - 0s 17ms/step - loss: 0.9064\n",
            "Epoch 1000/1000\n",
            "16/16 [==============================] - 0s 18ms/step - loss: 0.8057\n"
          ]
        },
        {
          "output_type": "execute_result",
          "data": {
            "text/plain": [
              "<keras.src.callbacks.History at 0x7bf485b48700>"
            ]
          },
          "metadata": {},
          "execution_count": 31
        }
      ]
    },
    {
      "cell_type": "markdown",
      "source": [
        "Step 6: Evaluate the model"
      ],
      "metadata": {
        "id": "aGAsGw_0BKlf"
      }
    },
    {
      "cell_type": "code",
      "source": [
        "from sklearn.metrics import mean_squared_error\n",
        "\n",
        "# Make predictions\n",
        "predictions = model.predict(features)\n",
        "\n",
        "# Calculate RMSE\n",
        "rmse = mean_squared_error(y_values, predictions, squared=False)\n",
        "print(f'RMSE: {rmse}')\n"
      ],
      "metadata": {
        "colab": {
          "base_uri": "https://localhost:8080/"
        },
        "id": "s-qAbGF-BKVe",
        "outputId": "d7841f89-b244-4a6f-80d8-675278419ffb"
      },
      "execution_count": 32,
      "outputs": [
        {
          "output_type": "stream",
          "name": "stdout",
          "text": [
            "16/16 [==============================] - 0s 2ms/step\n",
            "RMSE: 0.9340233121559095\n"
          ]
        }
      ]
    },
    {
      "cell_type": "code",
      "source": [
        "import numpy as np\n",
        "import pandas as pd\n",
        "import matplotlib.pyplot as plt\n",
        "from mpl_toolkits.mplot3d import Axes3D\n",
        "\n",
        "# Seed for reproducibility\n",
        "np.random.seed(42)\n",
        "\n",
        "# Generate features\n",
        "a_values = np.random.normal(0, 2, 500)\n",
        "b_values = np.random.normal(0, 2, 500)\n",
        "c_values = np.random.normal(0, 2, 500)\n",
        "\n",
        "# Non-linear equation for target variable y\n",
        "y_values = 5 * a_values**2 + 2 * b_values**3 - 3 * c_values + 7\n",
        "\n",
        "# Create a DataFrame to hold the synthetic data\n",
        "df = pd.DataFrame({'a': a_values, 'b': b_values, 'c': c_values, 'y': y_values})\n",
        "\n",
        "# Prepare the 4D plot\n",
        "fig = plt.figure(figsize=(10, 8))\n",
        "ax = fig.add_subplot(111, projection='3d')\n",
        "\n",
        "# Scatter plot with color as the fourth dimension\n",
        "scat = ax.scatter(df['a'], df['b'], df['c'], c=df['y'], cmap='viridis')\n",
        "\n",
        "# Color bar indicating the scale of 'y'\n",
        "cbar = fig.colorbar(scat, shrink=0.5, aspect=5)\n",
        "cbar.set_label('Value of y')\n",
        "\n",
        "# Label the axes\n",
        "ax.set_xlabel('Variable a')\n",
        "ax.set_ylabel('Variable b')\n",
        "ax.set_zlabel('Variable c')\n",
        "\n",
        "# Title of the plot\n",
        "plt.title('4D plot with variable a, b, c and color representing y')\n",
        "\n",
        "# Show plot\n",
        "plt.show()\n"
      ],
      "metadata": {
        "colab": {
          "base_uri": "https://localhost:8080/",
          "height": 675
        },
        "id": "t4yHGKYOBRUV",
        "outputId": "1b00e6a6-eab6-49d9-d8f2-68656802695e"
      },
      "execution_count": 33,
      "outputs": [
        {
          "output_type": "display_data",
          "data": {
            "text/plain": [
              "<Figure size 1000x800 with 2 Axes>"
            ],
            "image/png": "[encoded data removed]"
          },
          "metadata": {}
        }
      ]
    },
    {
      "cell_type": "markdown",
      "source": [
        "### Conclusion\n",
        "\n",
        "we successfully built and trained a neural network using TensorFlow to predict outcomes based on a nonlinear equation with three input features. The model's learning process, reflected by the decreasing loss over epochs, suggests it was effectively capturing the underlying patterns in the data. The close alignment of training and validation loss indicates the model generalized well and did not suffer from overfitting. The test RMSE provides a quantitative measure of the model's prediction accuracy, which, depending on the context of the problem and the scale of the target variable, suggests the model performs adequately. The 4D scatter plot visualizes the dataset and the relationship between input features and the target variable, offering a valuable perspective for further data analysis and model evaluation. Overall, the model appears to perform well and meet the basic criteria for a predictive tool, assuming the RMSE is within an acceptable range for the specific application."
      ],
      "metadata": {
        "id": "BcRlASNLCj9u"
      }
    },
    {
      "cell_type": "markdown",
      "source": [
        "# Part A: numpy only from scratch 3 layer deep neural network for non linear regression"
      ],
      "metadata": {
        "id": "-bdVOlEcE7VU"
      }
    },
    {
      "cell_type": "markdown",
      "source": [
        "Step 1: Import NumPy\n"
      ],
      "metadata": {
        "id": "0pKb8f5BFKPG"
      }
    },
    {
      "cell_type": "code",
      "source": [
        "import numpy as np"
      ],
      "metadata": {
        "id": "JVepfwCcFPOw"
      },
      "execution_count": 35,
      "outputs": []
    },
    {
      "cell_type": "markdown",
      "source": [
        "Step 2: Initialize Parameters"
      ],
      "metadata": {
        "id": "2I4dkM8bFKNS"
      }
    },
    {
      "cell_type": "markdown",
      "source": [
        "We initialize the weights using Xavier initialization to prevent vanishing or exploding gradients."
      ],
      "metadata": {
        "id": "6Pciw4ejFYVX"
      }
    },
    {
      "cell_type": "code",
      "source": [
        "np.random.seed(42)\n",
        "\n",
        "input_size = 3\n",
        "hidden_size1 = 64\n",
        "hidden_size2 = 64\n",
        "output_size = 1\n",
        "\n",
        "# Use Xavier initialization for weights\n",
        "W1 = np.random.randn(input_size, hidden_size1) * np.sqrt(2 / input_size)\n",
        "b1 = np.zeros((1, hidden_size1))\n",
        "W2 = np.random.randn(hidden_size1, hidden_size2) * np.sqrt(2 / hidden_size1)\n",
        "b2 = np.zeros((1, hidden_size2))\n",
        "W3 = np.random.randn(hidden_size2, output_size) * np.sqrt(2 / hidden_size2)\n",
        "b3 = np.zeros((1, output_size))"
      ],
      "metadata": {
        "id": "yJCwKrkhFSxB"
      },
      "execution_count": 46,
      "outputs": []
    },
    {
      "cell_type": "markdown",
      "source": [
        "Step 3: Define Activation Functions"
      ],
      "metadata": {
        "id": "poVNbx_ZFZ57"
      }
    },
    {
      "cell_type": "markdown",
      "source": [
        "ReLU (Rectified Linear Unit) is chosen as the non-linear activation function for the hidden layers because of its simplicity and efficiency. The derivative is needed for the backpropagation step."
      ],
      "metadata": {
        "id": "HVNDJbqaFdzA"
      }
    },
    {
      "cell_type": "code",
      "source": [
        "def relu(Z):\n",
        "    return np.maximum(0, Z)\n",
        "\n",
        "def relu_derivative(Z):\n",
        "    return (Z > 0).astype(float)"
      ],
      "metadata": {
        "id": "LbbOyTNuFcFy"
      },
      "execution_count": 45,
      "outputs": []
    },
    {
      "cell_type": "markdown",
      "source": [
        "Step 4: Forward Propagation\n"
      ],
      "metadata": {
        "id": "Iw_69TzLFkiF"
      }
    },
    {
      "cell_type": "markdown",
      "source": [
        "During forward propagation, we compute the pre-activation (Z) and post-activation (A) for each layer. We use a linear activation for the output since this is a regression problem."
      ],
      "metadata": {
        "id": "1QdsAIGCFoGD"
      }
    },
    {
      "cell_type": "code",
      "source": [
        "def forward_propagation(X, W1, b1, W2, b2, W3, b3):\n",
        "    Z1 = X.dot(W1) + b1\n",
        "    A1 = relu(Z1)\n",
        "    Z2 = A1.dot(W2) + b2\n",
        "    A2 = relu(Z2)\n",
        "    Z3 = A2.dot(W3) + b3\n",
        "    A3 = Z3\n",
        "    cache = (Z1, A1, Z2, A2, Z3, A3)\n",
        "    return A3, cache"
      ],
      "metadata": {
        "id": "-0jWFx1zFkM8"
      },
      "execution_count": 47,
      "outputs": []
    },
    {
      "cell_type": "markdown",
      "source": [
        "Step 5: Compute Loss"
      ],
      "metadata": {
        "id": "FsPKuLPnFo59"
      }
    },
    {
      "cell_type": "markdown",
      "source": [
        "The loss function is Mean Squared Error (MSE), commonly used for regression tasks. It averages the squared differences between the predicted and actual values."
      ],
      "metadata": {
        "id": "asL7viQSFuhR"
      }
    },
    {
      "cell_type": "code",
      "source": [
        "def compute_loss(Y, Y_hat):\n",
        "    return ((Y - Y_hat) ** 2).mean()"
      ],
      "metadata": {
        "id": "gDB2Svl5FpQQ"
      },
      "execution_count": 48,
      "outputs": []
    },
    {
      "cell_type": "markdown",
      "source": [
        "Step 6: Backpropagation\n",
        "\n",
        "Backpropagation involves computing gradients for each layer starting from the output and working back through the network (chain rule). dZ3 is the derivative of the loss with respect to the output activation, and we continue back through the network, applying the chain rule and the derivatives of the ReLU activation function."
      ],
      "metadata": {
        "id": "roSpBaE3Fw1-"
      }
    },
    {
      "cell_type": "code",
      "source": [
        "def backpropagation(Y, cache):\n",
        "    Z1, A1, Z2, A2, Z3, A3 = cache\n",
        "    dZ3 = 2 * (A3 - Y) / Y.size\n",
        "    dW3 = A2.T.dot(dZ3)\n",
        "    db3 = dZ3.sum(axis=0, keepdims=True)\n",
        "    dZ2 = dZ3.dot(W3.T) * relu_derivative(Z2)\n",
        "    dW2 = A1.T.dot(dZ2)\n",
        "    db2 = dZ2.sum(axis=0, keepdims=True)\n",
        "    dZ1 = dZ2.dot(W2.T) * relu_derivative(Z1)\n",
        "    dW1 = X.T.dot(dZ1)\n",
        "    db1 = dZ1.sum(axis=0, keepdims=True)\n",
        "    return dW1, db1, dW2, db2, dW3, db3"
      ],
      "metadata": {
        "id": "0sQqLKdTFxE5"
      },
      "execution_count": 49,
      "outputs": []
    },
    {
      "cell_type": "markdown",
      "source": [
        "Step 7: Update Parameters\n",
        "\n",
        "Parameter update is done using gradient descent. We subtract the product of the learning rate and the gradient from each parameter."
      ],
      "metadata": {
        "id": "5bATvIx3F3qd"
      }
    },
    {
      "cell_type": "code",
      "source": [
        "def update_parameters(params, grads, learning_rate):\n",
        "    W1, b1, W2, b2, W3, b3 = params\n",
        "    dW1, db1, dW2, db2, dW3, db3 = grads\n",
        "    W1 -= learning_rate * dW1\n",
        "    b1 -= learning_rate * db1\n",
        "    W2 -= learning_rate * dW2\n",
        "    b2 -= learning_rate * db2\n",
        "    W3 -= learning_rate * dW3\n",
        "    b3 -= learning_rate * db3\n",
        "    return W1, b1, W2, b2, W3, b3"
      ],
      "metadata": {
        "id": "ktLaQDHHF3Bl"
      },
      "execution_count": 50,
      "outputs": []
    },
    {
      "cell_type": "markdown",
      "source": [
        "Step 8: Training Loop\n",
        "\n",
        "This is the main training loop. We run forward propagation to get predictions, compute the loss, run backpropagation to get gradients, and then update our parameters using those gradients. We print the loss every 100 epochs to monitor the training process."
      ],
      "metadata": {
        "id": "4wJYjThsF_Ak"
      }
    },
    {
      "cell_type": "code",
      "source": [
        "learning_rate = 0.001  # Reduce learning rate\n",
        "epochs = 1000\n",
        "m = len(y_values)\n",
        "\n",
        "for i in range(epochs):\n",
        "    Y_hat, cache = forward_propagation(X, W1, b1, W2, b2, W3, b3)\n",
        "    loss = compute_loss(Y, Y_hat)\n",
        "    grads = backpropagation(Y, cache)\n",
        "    params = (W1, b1, W2, b2, W3, b3)\n",
        "    W1, b1, W2, b2, W3, b3 = update_parameters(params, grads, learning_rate)\n",
        "\n",
        "    if i % 100 == 0:\n",
        "        print(f\"Epoch {i}, Loss: {loss}\")\n",
        "\n"
      ],
      "metadata": {
        "colab": {
          "base_uri": "https://localhost:8080/"
        },
        "id": "mqwcdGeLGCO3",
        "outputId": "f2a736bf-62f2-4361-b17d-762336bfef4a"
      },
      "execution_count": 51,
      "outputs": [
        {
          "output_type": "stream",
          "name": "stdout",
          "text": [
            "Epoch 0, Loss: 4757.184222391572\n",
            "Epoch 100, Loss: 506.3618948831006\n",
            "Epoch 200, Loss: 292.503785589085\n",
            "Epoch 300, Loss: 190.61150356578938\n",
            "Epoch 400, Loss: 130.57865703225642\n",
            "Epoch 500, Loss: 110.47166758156757\n",
            "Epoch 600, Loss: 84.31899111909208\n",
            "Epoch 700, Loss: 69.1848519222474\n",
            "Epoch 800, Loss: 66.22452149837508\n",
            "Epoch 900, Loss: 53.968319727508174\n"
          ]
        }
      ]
    },
    {
      "cell_type": "code",
      "source": [
        "import matplotlib.pyplot as plt\n",
        "\n",
        "# Training loss values\n",
        "epochs = range(0, 1000, 100)  # Epochs\n",
        "loss_values = [4757.184222391572, 506.3618948831006, 292.503785589085, 190.61150356578938,\n",
        "               130.57865703225642, 110.47166758156757, 84.31899111909208, 69.1848519222474,\n",
        "               66.22452149837508, 53.968319727508174]  # Loss values\n",
        "\n",
        "# Plotting the training loss\n",
        "plt.figure(figsize=(10, 6))\n",
        "plt.plot(epochs, loss_values, marker='o', linestyle='-')\n",
        "plt.title('Training Loss over Epochs')\n",
        "plt.xlabel('Epochs')\n",
        "plt.ylabel('Loss')\n",
        "plt.grid(True)\n",
        "plt.show()\n"
      ],
      "metadata": {
        "colab": {
          "base_uri": "https://localhost:8080/",
          "height": 564
        },
        "id": "R04zkAt8HzPb",
        "outputId": "dc59cf3b-a488-4425-d31c-8c47dbc90561"
      },
      "execution_count": 52,
      "outputs": [
        {
          "output_type": "display_data",
          "data": {
            "text/plain": [
              "<Figure size 1000x600 with 1 Axes>"
            ],
            "image/png": "[encoded data removed]"
          },
          "metadata": {}
        }
      ]
    },
    {
      "cell_type": "markdown",
      "source": [
        "### Inference from a graph:\n",
        "\n",
        "Decreasing Loss: The loss decreases consistently over the epochs, indicating that the model is learning and improving its predictions.\n",
        "\n",
        "Convergence: The loss decreases rapidly initially and then stabilizes as the training progresses. This suggests that the model is converging towards a minimum, and further training might have diminishing returns.\n",
        "\n",
        "Steady Improvement: The rate of decrease in loss slows down over time, but the model continues to make progress. This indicates that the model is still learning and refining its predictions.\n",
        "\n",
        "Final Loss: The final loss value is relatively low, indicating that the model performs well on the training data. However, it's essential to evaluate the model on a separate test set to assess its generalization performance.\n",
        "\n",
        "Overall, these training loss values suggest that the model is effectively learning the underlying patterns in the data and making progress towards minimizing the prediction errors."
      ],
      "metadata": {
        "id": "eQJgui-IIwU5"
      }
    },
    {
      "cell_type": "markdown",
      "source": [
        "# PartB: scratch - 3 layer deep neural network for non linear regression using pytorch  "
      ],
      "metadata": {
        "id": "43aSCL8nLJJ-"
      }
    },
    {
      "cell_type": "markdown",
      "source": [
        "Step 1: Setting Up Your Environment"
      ],
      "metadata": {
        "id": "sB2LGDI2Lavq"
      }
    },
    {
      "cell_type": "code",
      "source": [
        "!pip install torch torchvision\n"
      ],
      "metadata": {
        "colab": {
          "base_uri": "https://localhost:8080/"
        },
        "id": "WSUJcFuQLSq2",
        "outputId": "269bed1f-4a11-4942-e1c5-0ade183c9396"
      },
      "execution_count": 55,
      "outputs": [
        {
          "output_type": "stream",
          "name": "stdout",
          "text": [
            "Requirement already satisfied: torch in /usr/local/lib/python3.10/dist-packages (2.2.1+cu121)\n",
            "Requirement already satisfied: torchvision in /usr/local/lib/python3.10/dist-packages (0.17.1+cu121)\n",
            "Requirement already satisfied: filelock in /usr/local/lib/python3.10/dist-packages (from torch) (3.13.3)\n",
            "Requirement already satisfied: typing-extensions>=4.8.0 in /usr/local/lib/python3.10/dist-packages (from torch) (4.10.0)\n",
            "Requirement already satisfied: sympy in /usr/local/lib/python3.10/dist-packages (from torch) (1.12)\n",
            "Requirement already satisfied: networkx in /usr/local/lib/python3.10/dist-packages (from torch) (3.2.1)\n",
            "Requirement already satisfied: jinja2 in /usr/local/lib/python3.10/dist-packages (from torch) (3.1.3)\n",
            "Requirement already satisfied: fsspec in /usr/local/lib/python3.10/dist-packages (from torch) (2023.6.0)\n",
            "Collecting nvidia-cuda-nvrtc-cu12==12.1.105 (from torch)\n",
            "  Downloading nvidia_cuda_nvrtc_cu12-12.1.105-py3-none-manylinux1_x86_64.whl (23.7 MB)\n",
            "\u001b[2K     \u001b[90m━━━━━━━━━━━━━━━━━━━━━━━━━━━━━━━━━━━━━━━━\u001b[0m \u001b[32m23.7/23.7 MB\u001b[0m \u001b[31m24.4 MB/s\u001b[0m eta \u001b[36m0:00:00\u001b[0m\n",
            "\u001b[?25hCollecting nvidia-cuda-runtime-cu12==12.1.105 (from torch)\n",
            "  Downloading nvidia_cuda_runtime_cu12-12.1.105-py3-none-manylinux1_x86_64.whl (823 kB)\n",
            "\u001b[2K     \u001b[90m━━━━━━━━━━━━━━━━━━━━━━━━━━━━━━━━━━━━━━━━\u001b[0m \u001b[32m823.6/823.6 kB\u001b[0m \u001b[31m29.5 MB/s\u001b[0m eta \u001b[36m0:00:00\u001b[0m\n",
            "\u001b[?25hCollecting nvidia-cuda-cupti-cu12==12.1.105 (from torch)\n",
            "  Downloading nvidia_cuda_cupti_cu12-12.1.105-py3-none-manylinux1_x86_64.whl (14.1 MB)\n",
            "\u001b[2K     \u001b[90m━━━━━━━━━━━━━━━━━━━━━━━━━━━━━━━━━━━━━━━━\u001b[0m \u001b[32m14.1/14.1 MB\u001b[0m \u001b[31m23.9 MB/s\u001b[0m eta \u001b[36m0:00:00\u001b[0m\n",
            "\u001b[?25hCollecting nvidia-cudnn-cu12==8.9.2.26 (from torch)\n",
            "  Downloading nvidia_cudnn_cu12-8.9.2.26-py3-none-manylinux1_x86_64.whl (731.7 MB)\n",
            "\u001b[2K     \u001b[90m━━━━━━━━━━━━━━━━━━━━━━━━━━━━━━━━━━━━━━━━\u001b[0m \u001b[32m731.7/731.7 MB\u001b[0m \u001b[31m1.3 MB/s\u001b[0m eta \u001b[36m0:00:00\u001b[0m\n",
            "\u001b[?25hCollecting nvidia-cublas-cu12==12.1.3.1 (from torch)\n",
            "  Downloading nvidia_cublas_cu12-12.1.3.1-py3-none-manylinux1_x86_64.whl (410.6 MB)\n",
            "\u001b[2K     \u001b[90m━━━━━━━━━━━━━━━━━━━━━━━━━━━━━━━━━━━━━━━━\u001b[0m \u001b[32m410.6/410.6 MB\u001b[0m \u001b[31m2.7 MB/s\u001b[0m eta \u001b[36m0:00:00\u001b[0m\n",
            "\u001b[?25hCollecting nvidia-cufft-cu12==11.0.2.54 (from torch)\n",
            "  Downloading nvidia_cufft_cu12-11.0.2.54-py3-none-manylinux1_x86_64.whl (121.6 MB)\n",
            "\u001b[2K     \u001b[90m━━━━━━━━━━━━━━━━━━━━━━━━━━━━━━━━━━━━━━━━\u001b[0m \u001b[32m121.6/121.6 MB\u001b[0m \u001b[31m8.8 MB/s\u001b[0m eta \u001b[36m0:00:00\u001b[0m\n",
            "\u001b[?25hCollecting nvidia-curand-cu12==10.3.2.106 (from torch)\n",
            "  Downloading nvidia_curand_cu12-10.3.2.106-py3-none-manylinux1_x86_64.whl (56.5 MB)\n",
            "\u001b[2K     \u001b[90m━━━━━━━━━━━━━━━━━━━━━━━━━━━━━━━━━━━━━━━━\u001b[0m \u001b[32m56.5/56.5 MB\u001b[0m \u001b[31m7.8 MB/s\u001b[0m eta \u001b[36m0:00:00\u001b[0m\n",
            "\u001b[?25hCollecting nvidia-cusolver-cu12==11.4.5.107 (from torch)\n",
            "  Downloading nvidia_cusolver_cu12-11.4.5.107-py3-none-manylinux1_x86_64.whl (124.2 MB)\n",
            "\u001b[2K     \u001b[90m━━━━━━━━━━━━━━━━━━━━━━━━━━━━━━━━━━━━━━━━\u001b[0m \u001b[32m124.2/124.2 MB\u001b[0m \u001b[31m5.3 MB/s\u001b[0m eta \u001b[36m0:00:00\u001b[0m\n",
            "\u001b[?25hCollecting nvidia-cusparse-cu12==12.1.0.106 (from torch)\n",
            "  Downloading nvidia_cusparse_cu12-12.1.0.106-py3-none-manylinux1_x86_64.whl (196.0 MB)\n",
            "\u001b[2K     \u001b[90m━━━━━━━━━━━━━━━━━━━━━━━━━━━━━━━━━━━━━━━━\u001b[0m \u001b[32m196.0/196.0 MB\u001b[0m \u001b[31m4.2 MB/s\u001b[0m eta \u001b[36m0:00:00\u001b[0m\n",
            "\u001b[?25hCollecting nvidia-nccl-cu12==2.19.3 (from torch)\n",
            "  Downloading nvidia_nccl_cu12-2.19.3-py3-none-manylinux1_x86_64.whl (166.0 MB)\n",
            "\u001b[2K     \u001b[90m━━━━━━━━━━━━━━━━━━━━━━━━━━━━━━━━━━━━━━━━\u001b[0m \u001b[32m166.0/166.0 MB\u001b[0m \u001b[31m2.9 MB/s\u001b[0m eta \u001b[36m0:00:00\u001b[0m\n",
            "\u001b[?25hCollecting nvidia-nvtx-cu12==12.1.105 (from torch)\n",
            "  Downloading nvidia_nvtx_cu12-12.1.105-py3-none-manylinux1_x86_64.whl (99 kB)\n",
            "\u001b[2K     \u001b[90m━━━━━━━━━━━━━━━━━━━━━━━━━━━━━━━━━━━━━━━━\u001b[0m \u001b[32m99.1/99.1 kB\u001b[0m \u001b[31m10.6 MB/s\u001b[0m eta \u001b[36m0:00:00\u001b[0m\n",
            "\u001b[?25hRequirement already satisfied: triton==2.2.0 in /usr/local/lib/python3.10/dist-packages (from torch) (2.2.0)\n",
            "Collecting nvidia-nvjitlink-cu12 (from nvidia-cusolver-cu12==11.4.5.107->torch)\n",
            "  Downloading nvidia_nvjitlink_cu12-12.4.99-py3-none-manylinux2014_x86_64.whl (21.1 MB)\n",
            "\u001b[2K     \u001b[90m━━━━━━━━━━━━━━━━━━━━━━━━━━━━━━━━━━━━━━━━\u001b[0m \u001b[32m21.1/21.1 MB\u001b[0m \u001b[31m32.3 MB/s\u001b[0m eta \u001b[36m0:00:00\u001b[0m\n",
            "\u001b[?25hRequirement already satisfied: numpy in /usr/local/lib/python3.10/dist-packages (from torchvision) (1.25.2)\n",
            "Requirement already satisfied: pillow!=8.3.*,>=5.3.0 in /usr/local/lib/python3.10/dist-packages (from torchvision) (9.4.0)\n",
            "Requirement already satisfied: MarkupSafe>=2.0 in /usr/local/lib/python3.10/dist-packages (from jinja2->torch) (2.1.5)\n",
            "Requirement already satisfied: mpmath>=0.19 in /usr/local/lib/python3.10/dist-packages (from sympy->torch) (1.3.0)\n",
            "Installing collected packages: nvidia-nvtx-cu12, nvidia-nvjitlink-cu12, nvidia-nccl-cu12, nvidia-curand-cu12, nvidia-cufft-cu12, nvidia-cuda-runtime-cu12, nvidia-cuda-nvrtc-cu12, nvidia-cuda-cupti-cu12, nvidia-cublas-cu12, nvidia-cusparse-cu12, nvidia-cudnn-cu12, nvidia-cusolver-cu12\n",
            "Successfully installed nvidia-cublas-cu12-12.1.3.1 nvidia-cuda-cupti-cu12-12.1.105 nvidia-cuda-nvrtc-cu12-12.1.105 nvidia-cuda-runtime-cu12-12.1.105 nvidia-cudnn-cu12-8.9.2.26 nvidia-cufft-cu12-11.0.2.54 nvidia-curand-cu12-10.3.2.106 nvidia-cusolver-cu12-11.4.5.107 nvidia-cusparse-cu12-12.1.0.106 nvidia-nccl-cu12-2.19.3 nvidia-nvjitlink-cu12-12.4.99 nvidia-nvtx-cu12-12.1.105\n"
          ]
        }
      ]
    },
    {
      "cell_type": "markdown",
      "source": [
        "Step 2: Import Necessary Libraries"
      ],
      "metadata": {
        "id": "w1VC7gp-LdYk"
      }
    },
    {
      "cell_type": "code",
      "source": [
        "import torch\n",
        "import torch.nn.functional as F\n",
        "import numpy as np\n",
        "import matplotlib.pyplot as plt\n",
        "from mpl_toolkits.mplot3d import Axes3D\n"
      ],
      "metadata": {
        "id": "LVmR9L-YLT7G"
      },
      "execution_count": 56,
      "outputs": []
    },
    {
      "cell_type": "markdown",
      "source": [
        "Step 3: Generate Synthetic Data\n",
        "\n",
        "Here, we generate a simple non-linear dataset using a cubic function and add some Gaussian noise. torch.linspace creates a tensor with values from -3 to 3, and torch.unsqueeze adds an extra dimension to make it a 2D tensor, suitable for our model inputs. We add noise to make the problem more realistic and challenging."
      ],
      "metadata": {
        "id": "hiHq5esSLdtw"
      }
    },
    {
      "cell_type": "code",
      "source": [
        "# Set seed for reproducibility\n",
        "torch.manual_seed(42)\n",
        "\n",
        "# Features and labels\n",
        "X = torch.unsqueeze(torch.linspace(-3, 3, 100), dim=1)  # X data (tensor), shape=(100, 1)\n",
        "Y = X.pow(3) + 0.1*torch.randn(X.size())               # noisy Y data (tensor), shape=(100, 1)\n",
        "\n",
        "# Plotting the data\n",
        "plt.scatter(X.numpy(), Y.numpy())\n",
        "plt.title('Synthetic non-linear data')\n",
        "plt.xlabel('X')\n",
        "plt.ylabel('Y')\n",
        "plt.show()\n"
      ],
      "metadata": {
        "colab": {
          "base_uri": "https://localhost:8080/",
          "height": 472
        },
        "id": "8E3mmNVzLT47",
        "outputId": "822976ec-c1e7-40f9-cb28-16468b358a6e"
      },
      "execution_count": 57,
      "outputs": [
        {
          "output_type": "display_data",
          "data": {
            "text/plain": [
              "<Figure size 640x480 with 1 Axes>"
            ],
            "image/png": "[encoded data removed]"
          },
          "metadata": {}
        }
      ]
    },
    {
      "cell_type": "markdown",
      "source": [
        "For negative values of X, as X decreases, Y also decreases sharply.\n",
        "There is an inflection point around X = 0, where the curve changes its direction of curvature.\n",
        "For positive values of X, as X increases, Y increases at an increasing rate, suggesting a cubic relationship."
      ],
      "metadata": {
        "id": "7YCd609YMMLn"
      }
    },
    {
      "cell_type": "markdown",
      "source": [
        "Step 4: Define the Model\n",
        "\n",
        "initialize_parameters: Initializes weights and biases for each layer. We use random values for weights and zeroes for biases, with requires_grad=True to enable automatic differentiation.\n",
        "forward: Defines the forward pass of the network. It takes input X and parameters, computes the pre-activation (Z) and activation (A) for each layer using matrix multiplication (torch.mm) and ReLU activation, respectively, and produces the output Y_hat."
      ],
      "metadata": {
        "id": "JTpfmwW7LeBT"
      }
    },
    {
      "cell_type": "code",
      "source": [
        "def initialize_parameters(input_size, hidden_size, output_size):\n",
        "    # Weights and biases for the first layer\n",
        "    W1 = torch.randn(input_size, hidden_size, requires_grad=True)\n",
        "    b1 = torch.zeros(hidden_size, requires_grad=True)\n",
        "\n",
        "    # Weights and biases for the second layer\n",
        "    W2 = torch.randn(hidden_size, hidden_size, requires_grad=True)\n",
        "    b2 = torch.zeros(hidden_size, requires_grad=True)\n",
        "\n",
        "    # Weights and biases for the output layer\n",
        "    W3 = torch.randn(hidden_size, output_size, requires_grad=True)\n",
        "    b3 = torch.zeros(output_size, requires_grad=True)\n",
        "\n",
        "    return W1, b1, W2, b2, W3, b3\n",
        "\n",
        "def forward(X, W1, b1, W2, b2, W3, b3):\n",
        "    Z1 = torch.mm(X, W1) + b1\n",
        "    A1 = F.relu(Z1)\n",
        "    Z2 = torch.mm(A1, W2) + b2\n",
        "    A2 = F.relu(Z2)\n",
        "    Z3 = torch.mm(A2, W3) + b3\n",
        "    Y_hat = Z3\n",
        "    return Y_hat\n"
      ],
      "metadata": {
        "id": "ZCn08Q_uLT22"
      },
      "execution_count": 58,
      "outputs": []
    },
    {
      "cell_type": "markdown",
      "source": [
        "Step 5: Training the Model"
      ],
      "metadata": {
        "id": "XAmQ5aevMS1g"
      }
    },
    {
      "cell_type": "markdown",
      "source": [
        "We'll define a simple training loop that performs the following steps:\n",
        "\n",
        "Forward pass: Compute the predicted values using the current parameters.\n",
        "Compute loss: Use Mean Squared Error (MSE) as the loss function.\n",
        "Backward pass: Compute gradients of the loss with respect to the parameters.\n",
        "Update parameters: Adjust the parameters with gradient descent.\n",
        "Visualize the training progress."
      ],
      "metadata": {
        "id": "P6NzPTuNMX2Y"
      }
    },
    {
      "cell_type": "code",
      "source": [
        "# Initialize model parameters\n",
        "input_size = 1   # Since we have 1 feature\n",
        "hidden_size = 10 # Number of neurons in hidden layers\n",
        "output_size = 1  # Since we want to predict a single value\n",
        "\n",
        "# Initialize weights and biases\n",
        "W1, b1, W2, b2, W3, b3 = initialize_parameters(input_size, hidden_size, output_size)\n",
        "\n",
        "# Training hyperparameters\n",
        "learning_rate = 0.01\n",
        "epochs = 1000\n",
        "\n",
        "# Store losses for visualization\n",
        "losses = []\n",
        "\n",
        "# Training loop\n",
        "for epoch in range(epochs):\n",
        "    # Forward pass\n",
        "    Y_pred = forward(X, W1, b1, W2, b2, W3, b3)\n",
        "\n",
        "    # Compute loss\n",
        "    loss = torch.mean((Y_pred - Y) ** 2)\n",
        "    losses.append(loss.item())\n",
        "\n",
        "    # Backward pass\n",
        "    loss.backward()\n",
        "\n",
        "    # Update parameters\n",
        "    with torch.no_grad():\n",
        "        W1 -= learning_rate * W1.grad\n",
        "        b1 -= learning_rate * b1.grad\n",
        "        W2 -= learning_rate * W2.grad\n",
        "        b2 -= learning_rate * b2.grad\n",
        "        W3 -= learning_rate * W3.grad\n",
        "        b3 -= learning_rate * b3.grad\n",
        "\n",
        "        # Zero gradients after updating\n",
        "        W1.grad.zero_()\n",
        "        b1.grad.zero_()\n",
        "        W2.grad.zero_()\n",
        "        b2.grad.zero_()\n",
        "        W3.grad.zero_()\n",
        "        b3.grad.zero_()\n",
        "\n",
        "    # Print loss every 100 epochs\n",
        "    if epoch % 100 == 0:\n",
        "        print(f'Epoch {epoch+1}/{epochs}, Loss: {loss.item()}')\n",
        "\n",
        "# Plotting the loss over epochs\n",
        "plt.plot(losses)\n",
        "plt.title('Training Loss')\n",
        "plt.xlabel('Epoch')\n",
        "plt.ylabel('Loss')\n",
        "plt.show()\n"
      ],
      "metadata": {
        "colab": {
          "base_uri": "https://localhost:8080/",
          "height": 646
        },
        "id": "EvxiLPw0MTJG",
        "outputId": "a116a3ac-f2a9-4bde-88ae-3944c8114f71"
      },
      "execution_count": 59,
      "outputs": [
        {
          "output_type": "stream",
          "name": "stdout",
          "text": [
            "Epoch 1/1000, Loss: 89.94795989990234\n",
            "Epoch 101/1000, Loss: 6.232554912567139\n",
            "Epoch 201/1000, Loss: 2.290806770324707\n",
            "Epoch 301/1000, Loss: 1.4294052124023438\n",
            "Epoch 401/1000, Loss: 1.3697006702423096\n",
            "Epoch 501/1000, Loss: 0.9326872229576111\n",
            "Epoch 601/1000, Loss: 0.6361788511276245\n",
            "Epoch 701/1000, Loss: 0.6329518556594849\n",
            "Epoch 801/1000, Loss: 0.5632126331329346\n",
            "Epoch 901/1000, Loss: 0.504190981388092\n"
          ]
        },
        {
          "output_type": "display_data",
          "data": {
            "text/plain": [
              "<Figure size 640x480 with 1 Axes>"
            ],
            "image/png": "[encoded data removed]"
          },
          "metadata": {}
        }
      ]
    },
    {
      "cell_type": "markdown",
      "source": [
        "Plot the model's predictions along with the actual data\n",
        "\n",
        "We use torch.no_grad() context manager to turn off gradient tracking since we're only doing a forward pass for inference, not training.\n",
        "forward() function is called with the input features X and the trained parameters to get Y_pred, the predicted values."
      ],
      "metadata": {
        "id": "hYDip6htM-8t"
      }
    },
    {
      "cell_type": "code",
      "source": [
        "# Predict values with the trained model\n",
        "with torch.no_grad():  # We don't need to track gradients here\n",
        "    Y_pred = forward(X, W1, b1, W2, b2, W3, b3)\n",
        "\n",
        "# Plot the actual data\n",
        "plt.scatter(X.numpy(), Y.numpy(), label='Actual Data')\n",
        "\n",
        "# Plot the model's predictions\n",
        "plt.plot(X.numpy(), Y_pred.numpy(), label='Model Predictions', color='red')\n",
        "\n",
        "# Label the plot\n",
        "plt.title('Model Predictions vs Actual Data')\n",
        "plt.xlabel('X')\n",
        "plt.ylabel('Y')\n",
        "plt.legend()\n",
        "\n",
        "# Show the plot\n",
        "plt.show()\n"
      ],
      "metadata": {
        "colab": {
          "base_uri": "https://localhost:8080/",
          "height": 472
        },
        "id": "0EAYNkwNM_Pq",
        "outputId": "808acad0-134c-439c-9bae-690863034fe1"
      },
      "execution_count": 60,
      "outputs": [
        {
          "output_type": "display_data",
          "data": {
            "text/plain": [
              "<Figure size 640x480 with 1 Axes>"
            ],
            "image/png": "[encoded data removed]"
          },
          "metadata": {}
        }
      ]
    },
    {
      "cell_type": "markdown",
      "source": [
        "### Conclusion\n",
        "\n",
        "The red curve, representing the model's predictions, closely follows the distribution of the actual data points in blue. This suggests that the model has learned the underlying cubic relationship between X and Y.\n",
        "The model appears to generalize well across the entire range of X values shown, from -3 to 3, without showing signs of overfitting or underfitting.\n",
        "Noise Tolerance: Despite the presence of noise in the data, as seen by the scatter of the actual data points around the cubic curve, the model does not overfit to this noise and instead captures the general trend.\n",
        "\n",
        "In summary, the neural network you've trained from scratch performs well on this synthetic non-linear regression task. It demonstrates the capability of relatively simple neural network architectures to capture complex patterns when trained appropriately."
      ],
      "metadata": {
        "id": "bnh4kiZLN1ew"
      }
    },
    {
      "cell_type": "markdown",
      "source": [
        "# Part C: pytorch classes based - 3 layer deep neural network for non linear regression\n",
        "\n",
        "\n",
        "To create a 3-layer neural network using PyTorch's built-in functionality, we'll make use of the torch.nn module which provides predefined layers, activation functions, and loss functions. We will also use the torch.optim module for optimization algorithms like SGD or Adam."
      ],
      "metadata": {
        "id": "coBZb5-1OGbW"
      }
    },
    {
      "cell_type": "markdown",
      "source": [
        "Step 1: Import the Necessary Libraries"
      ],
      "metadata": {
        "id": "S0bWPzNQO1fI"
      }
    },
    {
      "cell_type": "code",
      "source": [
        "import torch\n",
        "import torch.nn as nn\n",
        "import torch.optim as optim"
      ],
      "metadata": {
        "id": "z7OdvzquO4xG"
      },
      "execution_count": 61,
      "outputs": []
    },
    {
      "cell_type": "markdown",
      "source": [
        "Step 2: Define the Neural Network Class"
      ],
      "metadata": {
        "id": "YQQFjxqWO6xw"
      }
    },
    {
      "cell_type": "code",
      "source": [
        "class ThreeLayerNet(nn.Module):\n",
        "    def __init__(self, input_size, hidden_size, output_size):\n",
        "        super(ThreeLayerNet, self).__init__()\n",
        "        self.fc1 = nn.Linear(input_size, hidden_size)  # Input to hidden layer\n",
        "        self.fc2 = nn.Linear(hidden_size, hidden_size) # Hidden to hidden layer\n",
        "        self.fc3 = nn.Linear(hidden_size, output_size) # Hidden to output layer\n",
        "\n",
        "    def forward(self, x):\n",
        "        x = torch.relu(self.fc1(x))\n",
        "        x = torch.relu(self.fc2(x))\n",
        "        x = self.fc3(x)\n",
        "        return x\n"
      ],
      "metadata": {
        "id": "AhuKQnO8O8ZN"
      },
      "execution_count": 62,
      "outputs": []
    },
    {
      "cell_type": "markdown",
      "source": [
        "We define a class called ThreeLayerNet that inherits from nn.Module, which is a base class for all neural network modules in PyTorch.\n",
        "The __init__ function sets up three fully connected layers (nn.Linear modules).\n",
        "The forward method defines the forward pass of the network, applying the ReLU activation function after the first two layers."
      ],
      "metadata": {
        "id": "GvxXH2NWO_mF"
      }
    },
    {
      "cell_type": "markdown",
      "source": [
        "Step 3: Create an Instance of the Network"
      ],
      "metadata": {
        "id": "5RkaqDkWPCGr"
      }
    },
    {
      "cell_type": "code",
      "source": [
        "input_size = 1   # Our input size is 1 (one feature)\n",
        "hidden_size = 10 # You can tweak this as needed\n",
        "output_size = 1  # Output size is 1 (we're predicting a single value)\n",
        "\n",
        "model = ThreeLayerNet(input_size, hidden_size, output_size)"
      ],
      "metadata": {
        "id": "30sritUmPBp4"
      },
      "execution_count": 63,
      "outputs": []
    },
    {
      "cell_type": "markdown",
      "source": [
        "Step 4: Define the Loss Function and Optimizer"
      ],
      "metadata": {
        "id": "e0tjN-erPGAa"
      }
    },
    {
      "cell_type": "code",
      "source": [
        "criterion = nn.MSELoss()  # Mean Squared Error Loss\n",
        "optimizer = optim.Adam(model.parameters(), lr=0.01)  # Adam optimizer"
      ],
      "metadata": {
        "id": "yKv3TEgwPFxM"
      },
      "execution_count": 64,
      "outputs": []
    },
    {
      "cell_type": "markdown",
      "source": [
        "criterion: This is the loss function. We're using Mean Squared Error, which is commonly used for regression problems.\n",
        "optimizer: This is the optimization algorithm that will update the model's weights. optim.Adam is a popular choice."
      ],
      "metadata": {
        "id": "ivq9jspjPLDk"
      }
    },
    {
      "cell_type": "markdown",
      "source": [
        "Step 5: Train the Model"
      ],
      "metadata": {
        "id": "ieIEvKPMPeUs"
      }
    },
    {
      "cell_type": "code",
      "source": [
        "epochs = 1000  # Number of iterations for training\n",
        "losses = []    # List to store loss values for visualization\n",
        "\n",
        "for epoch in range(epochs):\n",
        "    optimizer.zero_grad()   # Clear gradients for this training step\n",
        "    outputs = model(X)      # Forward pass to get output\n",
        "    loss = criterion(outputs, Y)  # Calculate loss\n",
        "    loss.backward()         # Backward pass to calculate gradients\n",
        "    optimizer.step()        # Update weights\n",
        "\n",
        "    losses.append(loss.item())  # Store the loss value\n",
        "\n",
        "    if epoch % 100 == 0:\n",
        "        print(f'Epoch {epoch+1}/{epochs}, Loss: {loss.item()}')\n",
        "\n"
      ],
      "metadata": {
        "colab": {
          "base_uri": "https://localhost:8080/"
        },
        "id": "cxoFIPVqPgT3",
        "outputId": "2db73aa5-dcf3-4019-d806-05bbf7904aef"
      },
      "execution_count": 68,
      "outputs": [
        {
          "output_type": "stream",
          "name": "stdout",
          "text": [
            "Epoch 1/1000, Loss: 5.4763970375061035\n",
            "Epoch 101/1000, Loss: 4.911371231079102\n",
            "Epoch 201/1000, Loss: 4.400514125823975\n",
            "Epoch 301/1000, Loss: 3.9435651302337646\n",
            "Epoch 401/1000, Loss: 3.5320208072662354\n",
            "Epoch 501/1000, Loss: 3.1640002727508545\n",
            "Epoch 601/1000, Loss: 2.83708119392395\n",
            "Epoch 701/1000, Loss: 2.5527048110961914\n",
            "Epoch 801/1000, Loss: 2.273334503173828\n",
            "Epoch 901/1000, Loss: 2.0341522693634033\n"
          ]
        }
      ]
    },
    {
      "cell_type": "code",
      "source": [
        "# Plotting the training loss\n",
        "plt.plot(losses)\n",
        "plt.title('Training Loss')\n",
        "plt.xlabel('Epoch')\n",
        "plt.ylabel('Loss')\n",
        "plt.show()"
      ],
      "metadata": {
        "colab": {
          "base_uri": "https://localhost:8080/",
          "height": 472
        },
        "id": "XIFkpx5FPkD4",
        "outputId": "462afc04-9efb-452e-d1b9-c6af9a28d091"
      },
      "execution_count": 66,
      "outputs": [
        {
          "output_type": "display_data",
          "data": {
            "text/plain": [
              "<Figure size 640x480 with 1 Axes>"
            ],
            "image/png": "[encoded data removed]"
          },
          "metadata": {}
        }
      ]
    },
    {
      "cell_type": "code",
      "source": [
        "# Step 1: Define the enhanced neural network class with more neurons\n",
        "class EnhancedThreeLayerNet(nn.Module):\n",
        "    def __init__(self, input_size, hidden_size, output_size):\n",
        "        super(EnhancedThreeLayerNet, self).__init__()\n",
        "        self.fc1 = nn.Linear(input_size, hidden_size)\n",
        "        self.fc2 = nn.Linear(hidden_size, hidden_size * 2)  # More neurons in the second layer\n",
        "        self.fc3 = nn.Linear(hidden_size * 2, output_size)\n",
        "\n",
        "    def forward(self, x):\n",
        "        x = torch.relu(self.fc1(x))\n",
        "        x = torch.relu(self.fc2(x))\n",
        "        x = self.fc3(x)\n",
        "        return x\n",
        "\n",
        "# Step 2: Initialize the enhanced model\n",
        "hidden_size = 20  # Increased hidden size\n",
        "model = EnhancedThreeLayerNet(input_size, hidden_size, output_size)\n",
        "\n",
        "# Step 3: Define the loss function and optimizer with weight decay for L2 regularization\n",
        "criterion = nn.MSELoss()\n",
        "optimizer = optim.Adam(model.parameters(), lr=0.01, weight_decay=1e-5)\n",
        "\n",
        "# Step 4: Define a learning rate scheduler\n",
        "scheduler = optim.lr_scheduler.StepLR(optimizer, step_size=100, gamma=0.9)\n",
        "\n",
        "# Step 5: Train the model with a learning rate scheduler\n",
        "epochs = 1000\n",
        "losses = []\n",
        "\n",
        "for epoch in range(epochs):\n",
        "    optimizer.zero_grad()\n",
        "    outputs = model(X)\n",
        "    loss = criterion(outputs, Y)\n",
        "    loss.backward()\n",
        "    optimizer.step()\n",
        "    scheduler.step()  # Adjust the learning rate based on scheduler\n",
        "\n",
        "    losses.append(loss.item())\n",
        "\n",
        "    if epoch % 100 == 0:\n",
        "        current_lr = scheduler.get_last_lr()[0]\n",
        "        print(f'Epoch {epoch+1}/{epochs}, Loss: {loss.item()}, LR: {current_lr}')\n",
        "\n",
        "# Plot the enhanced training loss\n",
        "plt.plot(losses)\n",
        "plt.title('Enhanced Training Loss')\n",
        "plt.xlabel('Epoch')\n",
        "plt.ylabel('Loss')\n",
        "plt.show()\n"
      ],
      "metadata": {
        "colab": {
          "base_uri": "https://localhost:8080/",
          "height": 646
        },
        "id": "xy6r2JLRbRFR",
        "outputId": "a060e61b-851c-4c2d-d3ef-5580058e89d5"
      },
      "execution_count": 69,
      "outputs": [
        {
          "output_type": "stream",
          "name": "stdout",
          "text": [
            "Epoch 1/1000, Loss: 108.708984375, LR: 0.01\n",
            "Epoch 101/1000, Loss: 1.7222697734832764, LR: 0.009000000000000001\n",
            "Epoch 201/1000, Loss: 0.11982978880405426, LR: 0.008100000000000001\n",
            "Epoch 301/1000, Loss: 0.043915823101997375, LR: 0.007290000000000001\n",
            "Epoch 401/1000, Loss: 0.032099030911922455, LR: 0.006561000000000002\n",
            "Epoch 501/1000, Loss: 0.027102800086140633, LR: 0.005904900000000002\n",
            "Epoch 601/1000, Loss: 0.025172406807541847, LR: 0.005314410000000002\n",
            "Epoch 701/1000, Loss: 0.023884007707238197, LR: 0.004782969000000002\n",
            "Epoch 801/1000, Loss: 0.022793980315327644, LR: 0.004304672100000002\n",
            "Epoch 901/1000, Loss: 0.0219675712287426, LR: 0.003874204890000002\n"
          ]
        },
        {
          "output_type": "display_data",
          "data": {
            "text/plain": [
              "<Figure size 640x480 with 1 Axes>"
            ],
            "image/png": "[encoded data removed]"
          },
          "metadata": {}
        }
      ]
    },
    {
      "cell_type": "markdown",
      "source": [
        "### Conclusion:\n",
        "\n",
        "We've modified the EnhancedThreeLayerNet to have more neurons in the second hidden layer (hidden_size * 2).\n",
        "The optimizer now includes weight_decay, which applies L2 regularization.\n",
        "We added a learning rate scheduler that decays the learning rate by a factor of 0.9 every 100 epochs."
      ],
      "metadata": {
        "id": "uvta6KHKbW-7"
      }
    },
    {
      "cell_type": "markdown",
      "source": [
        "The loss has decreased compared to the previous version, it suggests that the model's performance has improved."
      ],
      "metadata": {
        "id": "EPr1nR3LbbgP"
      }
    },
    {
      "cell_type": "markdown",
      "source": [
        "# Part D: Pytorch lightening version of the same"
      ],
      "metadata": {
        "id": "flkfJZCLfCr5"
      }
    },
    {
      "cell_type": "markdown",
      "source": [
        "Step 1: Install PyTorch Lightning"
      ],
      "metadata": {
        "id": "Fuue2CgDiZ8k"
      }
    },
    {
      "cell_type": "code",
      "source": [
        "!pip install pytorch-lightning"
      ],
      "metadata": {
        "colab": {
          "base_uri": "https://localhost:8080/"
        },
        "id": "KO83UTIcfHiG",
        "outputId": "540ca56c-360a-4efe-f50b-fb8cb290feb3"
      },
      "execution_count": 70,
      "outputs": [
        {
          "output_type": "stream",
          "name": "stdout",
          "text": [
            "Collecting pytorch-lightning\n",
            "  Downloading pytorch_lightning-2.2.1-py3-none-any.whl (801 kB)\n",
            "\u001b[2K     \u001b[90m━━━━━━━━━━━━━━━━━━━━━━━━━━━━━━━━━━━━━━━━\u001b[0m \u001b[32m801.6/801.6 kB\u001b[0m \u001b[31m7.0 MB/s\u001b[0m eta \u001b[36m0:00:00\u001b[0m\n",
            "\u001b[?25hRequirement already satisfied: numpy>=1.17.2 in /usr/local/lib/python3.10/dist-packages (from pytorch-lightning) (1.25.2)\n",
            "Requirement already satisfied: torch>=1.13.0 in /usr/local/lib/python3.10/dist-packages (from pytorch-lightning) (2.2.1+cu121)\n",
            "Requirement already satisfied: tqdm>=4.57.0 in /usr/local/lib/python3.10/dist-packages (from pytorch-lightning) (4.66.2)\n",
            "Requirement already satisfied: PyYAML>=5.4 in /usr/local/lib/python3.10/dist-packages (from pytorch-lightning) (6.0.1)\n",
            "Requirement already satisfied: fsspec[http]>=2022.5.0 in /usr/local/lib/python3.10/dist-packages (from pytorch-lightning) (2023.6.0)\n",
            "Collecting torchmetrics>=0.7.0 (from pytorch-lightning)\n",
            "  Downloading torchmetrics-1.3.2-py3-none-any.whl (841 kB)\n",
            "\u001b[2K     \u001b[90m━━━━━━━━━━━━━━━━━━━━━━━━━━━━━━━━━━━━━━━━\u001b[0m \u001b[32m841.5/841.5 kB\u001b[0m \u001b[31m13.5 MB/s\u001b[0m eta \u001b[36m0:00:00\u001b[0m\n",
            "\u001b[?25hRequirement already satisfied: packaging>=20.0 in /usr/local/lib/python3.10/dist-packages (from pytorch-lightning) (24.0)\n",
            "Requirement already satisfied: typing-extensions>=4.4.0 in /usr/local/lib/python3.10/dist-packages (from pytorch-lightning) (4.10.0)\n",
            "Collecting lightning-utilities>=0.8.0 (from pytorch-lightning)\n",
            "  Downloading lightning_utilities-0.11.2-py3-none-any.whl (26 kB)\n",
            "Requirement already satisfied: requests in /usr/local/lib/python3.10/dist-packages (from fsspec[http]>=2022.5.0->pytorch-lightning) (2.31.0)\n",
            "Requirement already satisfied: aiohttp!=4.0.0a0,!=4.0.0a1 in /usr/local/lib/python3.10/dist-packages (from fsspec[http]>=2022.5.0->pytorch-lightning) (3.9.3)\n",
            "Requirement already satisfied: setuptools in /usr/local/lib/python3.10/dist-packages (from lightning-utilities>=0.8.0->pytorch-lightning) (67.7.2)\n",
            "Requirement already satisfied: filelock in /usr/local/lib/python3.10/dist-packages (from torch>=1.13.0->pytorch-lightning) (3.13.3)\n",
            "Requirement already satisfied: sympy in /usr/local/lib/python3.10/dist-packages (from torch>=1.13.0->pytorch-lightning) (1.12)\n",
            "Requirement already satisfied: networkx in /usr/local/lib/python3.10/dist-packages (from torch>=1.13.0->pytorch-lightning) (3.2.1)\n",
            "Requirement already satisfied: jinja2 in /usr/local/lib/python3.10/dist-packages (from torch>=1.13.0->pytorch-lightning) (3.1.3)\n",
            "Requirement already satisfied: nvidia-cuda-nvrtc-cu12==12.1.105 in /usr/local/lib/python3.10/dist-packages (from torch>=1.13.0->pytorch-lightning) (12.1.105)\n",
            "Requirement already satisfied: nvidia-cuda-runtime-cu12==12.1.105 in /usr/local/lib/python3.10/dist-packages (from torch>=1.13.0->pytorch-lightning) (12.1.105)\n",
            "Requirement already satisfied: nvidia-cuda-cupti-cu12==12.1.105 in /usr/local/lib/python3.10/dist-packages (from torch>=1.13.0->pytorch-lightning) (12.1.105)\n",
            "Requirement already satisfied: nvidia-cudnn-cu12==8.9.2.26 in /usr/local/lib/python3.10/dist-packages (from torch>=1.13.0->pytorch-lightning) (8.9.2.26)\n",
            "Requirement already satisfied: nvidia-cublas-cu12==12.1.3.1 in /usr/local/lib/python3.10/dist-packages (from torch>=1.13.0->pytorch-lightning) (12.1.3.1)\n",
            "Requirement already satisfied: nvidia-cufft-cu12==11.0.2.54 in /usr/local/lib/python3.10/dist-packages (from torch>=1.13.0->pytorch-lightning) (11.0.2.54)\n",
            "Requirement already satisfied: nvidia-curand-cu12==10.3.2.106 in /usr/local/lib/python3.10/dist-packages (from torch>=1.13.0->pytorch-lightning) (10.3.2.106)\n",
            "Requirement already satisfied: nvidia-cusolver-cu12==11.4.5.107 in /usr/local/lib/python3.10/dist-packages (from torch>=1.13.0->pytorch-lightning) (11.4.5.107)\n",
            "Requirement already satisfied: nvidia-cusparse-cu12==12.1.0.106 in /usr/local/lib/python3.10/dist-packages (from torch>=1.13.0->pytorch-lightning) (12.1.0.106)\n",
            "Requirement already satisfied: nvidia-nccl-cu12==2.19.3 in /usr/local/lib/python3.10/dist-packages (from torch>=1.13.0->pytorch-lightning) (2.19.3)\n",
            "Requirement already satisfied: nvidia-nvtx-cu12==12.1.105 in /usr/local/lib/python3.10/dist-packages (from torch>=1.13.0->pytorch-lightning) (12.1.105)\n",
            "Requirement already satisfied: triton==2.2.0 in /usr/local/lib/python3.10/dist-packages (from torch>=1.13.0->pytorch-lightning) (2.2.0)\n",
            "Requirement already satisfied: nvidia-nvjitlink-cu12 in /usr/local/lib/python3.10/dist-packages (from nvidia-cusolver-cu12==11.4.5.107->torch>=1.13.0->pytorch-lightning) (12.4.99)\n",
            "Requirement already satisfied: aiosignal>=1.1.2 in /usr/local/lib/python3.10/dist-packages (from aiohttp!=4.0.0a0,!=4.0.0a1->fsspec[http]>=2022.5.0->pytorch-lightning) (1.3.1)\n",
            "Requirement already satisfied: attrs>=17.3.0 in /usr/local/lib/python3.10/dist-packages (from aiohttp!=4.0.0a0,!=4.0.0a1->fsspec[http]>=2022.5.0->pytorch-lightning) (23.2.0)\n",
            "Requirement already satisfied: frozenlist>=1.1.1 in /usr/local/lib/python3.10/dist-packages (from aiohttp!=4.0.0a0,!=4.0.0a1->fsspec[http]>=2022.5.0->pytorch-lightning) (1.4.1)\n",
            "Requirement already satisfied: multidict<7.0,>=4.5 in /usr/local/lib/python3.10/dist-packages (from aiohttp!=4.0.0a0,!=4.0.0a1->fsspec[http]>=2022.5.0->pytorch-lightning) (6.0.5)\n",
            "Requirement already satisfied: yarl<2.0,>=1.0 in /usr/local/lib/python3.10/dist-packages (from aiohttp!=4.0.0a0,!=4.0.0a1->fsspec[http]>=2022.5.0->pytorch-lightning) (1.9.4)\n",
            "Requirement already satisfied: async-timeout<5.0,>=4.0 in /usr/local/lib/python3.10/dist-packages (from aiohttp!=4.0.0a0,!=4.0.0a1->fsspec[http]>=2022.5.0->pytorch-lightning) (4.0.3)\n",
            "Requirement already satisfied: MarkupSafe>=2.0 in /usr/local/lib/python3.10/dist-packages (from jinja2->torch>=1.13.0->pytorch-lightning) (2.1.5)\n",
            "Requirement already satisfied: charset-normalizer<4,>=2 in /usr/local/lib/python3.10/dist-packages (from requests->fsspec[http]>=2022.5.0->pytorch-lightning) (3.3.2)\n",
            "Requirement already satisfied: idna<4,>=2.5 in /usr/local/lib/python3.10/dist-packages (from requests->fsspec[http]>=2022.5.0->pytorch-lightning) (3.6)\n",
            "Requirement already satisfied: urllib3<3,>=1.21.1 in /usr/local/lib/python3.10/dist-packages (from requests->fsspec[http]>=2022.5.0->pytorch-lightning) (2.0.7)\n",
            "Requirement already satisfied: certifi>=2017.4.17 in /usr/local/lib/python3.10/dist-packages (from requests->fsspec[http]>=2022.5.0->pytorch-lightning) (2024.2.2)\n",
            "Requirement already satisfied: mpmath>=0.19 in /usr/local/lib/python3.10/dist-packages (from sympy->torch>=1.13.0->pytorch-lightning) (1.3.0)\n",
            "Installing collected packages: lightning-utilities, torchmetrics, pytorch-lightning\n",
            "Successfully installed lightning-utilities-0.11.2 pytorch-lightning-2.2.1 torchmetrics-1.3.2\n"
          ]
        }
      ]
    },
    {
      "cell_type": "markdown",
      "source": [
        "Step 2: Import Libraries"
      ],
      "metadata": {
        "id": "BI-gA5dribtd"
      }
    },
    {
      "cell_type": "code",
      "source": [
        "import pytorch_lightning as pl\n",
        "from pytorch_lightning import Trainer\n",
        "import torch\n",
        "from torch import nn\n",
        "from torch import optim"
      ],
      "metadata": {
        "id": "AjsjkAOfieyH"
      },
      "execution_count": 71,
      "outputs": []
    },
    {
      "cell_type": "markdown",
      "source": [
        "Step 3: Define the PyTorch Lightning Model\n",
        "Define a PyTorch Lightning class that encapsulates the model, training step, validation step, etc."
      ],
      "metadata": {
        "id": "x-_RaY6liiQn"
      }
    },
    {
      "cell_type": "code",
      "source": [
        "class LitThreeLayerNet(pl.LightningModule):\n",
        "    def __init__(self, input_size, hidden_size, output_size):\n",
        "        super(LitThreeLayerNet, self).__init__()\n",
        "        self.fc1 = nn.Linear(input_size, hidden_size)\n",
        "        self.fc2 = nn.Linear(hidden_size, hidden_size * 2)  # Assuming enhanced model\n",
        "        self.fc3 = nn.Linear(hidden_size * 2, output_size)\n",
        "\n",
        "    def forward(self, x):\n",
        "        x = torch.relu(self.fc1(x))\n",
        "        x = torch.relu(self.fc2(x))\n",
        "        x = self.fc3(x)\n",
        "        return x\n",
        "\n",
        "    def configure_optimizers(self):\n",
        "        optimizer = optim.Adam(self.parameters(), lr=0.01, weight_decay=1e-5)\n",
        "        scheduler = optim.lr_scheduler.StepLR(optimizer, step_size=100, gamma=0.9)\n",
        "        return [optimizer], [scheduler]\n",
        "\n",
        "    def training_step(self, batch, batch_idx):\n",
        "        x, y = batch\n",
        "        y_pred = self(x)\n",
        "        loss = nn.MSELoss()(y_pred, y)\n",
        "        self.log('train_loss', loss)\n",
        "        return loss"
      ],
      "metadata": {
        "id": "Hw7R4kGTikBR"
      },
      "execution_count": 72,
      "outputs": []
    },
    {
      "cell_type": "markdown",
      "source": [
        "Step 4: Prepare Data Module\n",
        "Define a PyTorch Lightning Data Module for handling the dataset:"
      ],
      "metadata": {
        "id": "Xt86EOsTirdU"
      }
    },
    {
      "cell_type": "code",
      "source": [
        "class RegressionDataModule(pl.LightningDataModule):\n",
        "    def __init__(self, X, Y):\n",
        "        super().__init__()\n",
        "        self.X = X\n",
        "        self.Y = Y\n",
        "\n",
        "    def train_dataloader(self):\n",
        "        train_dataset = torch.utils.data.TensorDataset(self.X, self.Y)\n",
        "        return torch.utils.data.DataLoader(train_dataset, batch_size=32, shuffle=True)"
      ],
      "metadata": {
        "id": "5buOqY0NiswN"
      },
      "execution_count": 73,
      "outputs": []
    },
    {
      "cell_type": "markdown",
      "source": [
        "Step 5: Initialize and Train the Model"
      ],
      "metadata": {
        "id": "C5zZEU1gixot"
      }
    },
    {
      "cell_type": "code",
      "source": [
        "input_size = 1\n",
        "hidden_size = 20\n",
        "output_size = 1\n",
        "\n",
        "# Instantiate the model\n",
        "model = LitThreeLayerNet(input_size, hidden_size, output_size)\n",
        "\n",
        "# Prepare the data\n",
        "X = torch.unsqueeze(torch.linspace(-3, 3, 100), dim=1)\n",
        "Y = X.pow(3) + 0.1*torch.randn(X.size())\n",
        "\n",
        "# Instantiate the data module\n",
        "data_module = RegressionDataModule(X, Y)\n",
        "\n",
        "# Initialize the trainer\n",
        "# Initialize the trainer without progress_bar_refresh_rate\n",
        "trainer = Trainer(max_epochs=1000)\n",
        "\n",
        "# Train the model\n",
        "trainer.fit(model, data_module)"
      ],
      "metadata": {
        "colab": {
          "base_uri": "https://localhost:8080/",
          "height": 381,
          "referenced_widgets": [
            "e6c846e896b04de3aaadefa57f987d3d",
            "47d2cc0f934549b5b54c25e4b64f15de",
            "6f3a17a32145423ea8c86694266e0101",
            "4f5fcd0077f44f03a7fb5379b08a39f9",
            "5c550ddab4f748d68c47c7f6eff28ce3",
            "2967df6c9b3f4ec88eee8f91acbf72e2",
            "fc5c7fa707734b229bf8c375e668bf19",
            "f78d464f3ee64fc6ae27a78f969bfebc",
            "50e67e67a69e4f528b3d150d8fdf006f",
            "bc65d099cb4044e08334d17637f22a92",
            "2699eca308454dba93800d4721c933ce"
          ]
        },
        "id": "TLB41tlMiyEp",
        "outputId": "e0f9bb9d-099a-48d7-b94b-3491b5ec31fa"
      },
      "execution_count": 75,
      "outputs": [
        {
          "output_type": "stream",
          "name": "stderr",
          "text": [
            "INFO:pytorch_lightning.utilities.rank_zero:GPU available: False, used: False\n",
            "INFO:pytorch_lightning.utilities.rank_zero:TPU available: False, using: 0 TPU cores\n",
            "INFO:pytorch_lightning.utilities.rank_zero:IPU available: False, using: 0 IPUs\n",
            "INFO:pytorch_lightning.utilities.rank_zero:HPU available: False, using: 0 HPUs\n",
            "WARNING:pytorch_lightning.loggers.tensorboard:Missing logger folder: /content/lightning_logs\n",
            "INFO:pytorch_lightning.callbacks.model_summary:\n",
            "  | Name | Type   | Params\n",
            "--------------------------------\n",
            "0 | fc1  | Linear | 40    \n",
            "1 | fc2  | Linear | 840   \n",
            "2 | fc3  | Linear | 41    \n",
            "--------------------------------\n",
            "921       Trainable params\n",
            "0         Non-trainable params\n",
            "921       Total params\n",
            "0.004     Total estimated model params size (MB)\n",
            "/usr/local/lib/python3.10/dist-packages/pytorch_lightning/loops/fit_loop.py:298: The number of training batches (4) is smaller than the logging interval Trainer(log_every_n_steps=50). Set a lower value for log_every_n_steps if you want to see logs for the training epoch.\n"
          ]
        },
        {
          "output_type": "display_data",
          "data": {
            "text/plain": [
              "Training: |          | 0/? [00:00<?, ?it/s]"
            ],
            "application/vnd.jupyter.widget-view+json": {
              "version_major": 2,
              "version_minor": 0,
              "model_id": "e6c846e896b04de3aaadefa57f987d3d"
            }
          },
          "metadata": {}
        },
        {
          "output_type": "stream",
          "name": "stderr",
          "text": [
            "INFO:pytorch_lightning.utilities.rank_zero:`Trainer.fit` stopped: `max_epochs=1000` reached.\n"
          ]
        }
      ]
    },
    {
      "cell_type": "code",
      "source": [
        "import matplotlib.pyplot as plt\n",
        "from mpl_toolkits.mplot3d import Axes3D\n",
        "import numpy as np\n"
      ],
      "metadata": {
        "id": "jXwPiaL4l_ZB"
      },
      "execution_count": 76,
      "outputs": []
    },
    {
      "cell_type": "code",
      "source": [
        "# Assuming you have the trained model from PyTorch Lightning\n",
        "# and the X and Y tensors ready\n",
        "\n",
        "# Move the model to eval mode\n",
        "model.eval()\n",
        "\n",
        "# Compute predictions\n",
        "with torch.no_grad():\n",
        "    predictions = model(X).flatten()\n",
        "\n",
        "# Compute errors\n",
        "errors = (predictions - Y.flatten()).abs()\n"
      ],
      "metadata": {
        "id": "_O9Ur9skl_Wz"
      },
      "execution_count": 77,
      "outputs": []
    },
    {
      "cell_type": "code",
      "source": [
        "# Create a new figure\n",
        "fig = plt.figure()\n",
        "\n",
        "# Create a 3D axis\n",
        "ax = fig.add_subplot(111, projection='3d')\n",
        "\n",
        "# Plot using scatter, with the error as color\n",
        "# We'll normalize the error for better color mapping\n",
        "error_normalized = (errors - errors.min()) / (errors.max() - errors.min())\n",
        "sc = ax.scatter(X.numpy().flatten(), Y.numpy().flatten(), predictions.numpy(), c=error_normalized, cmap='viridis')\n",
        "\n",
        "# Add a color bar which maps values to colors\n",
        "cbar = plt.colorbar(sc, ax=ax)\n",
        "cbar.set_label('Error Magnitude')\n",
        "\n",
        "# Set labels for axes\n",
        "ax.set_xlabel('X')\n",
        "ax.set_ylabel('Actual Y')\n",
        "ax.set_zlabel('Predicted Y')\n",
        "\n",
        "# Show the plot\n",
        "plt.show()\n"
      ],
      "metadata": {
        "colab": {
          "base_uri": "https://localhost:8080/",
          "height": 421
        },
        "id": "sr1tWO0amD44",
        "outputId": "5e0141cd-85c8-4908-88c1-3f91fdac380b"
      },
      "execution_count": 78,
      "outputs": [
        {
          "output_type": "display_data",
          "data": {
            "text/plain": [
              "<Figure size 640x480 with 2 Axes>"
            ],
            "image/png": "[encoded data removed]"
          },
          "metadata": {}
        }
      ]
    },
    {
      "cell_type": "markdown",
      "source": [
        "### Conclusion\n",
        "\n",
        "we constructed a three-layer neural network to tackle non-linear regression, starting from scratch and gradually integrating PyTorch's built-in functionalities and PyTorch Lightning. The iterative refinement process, underpinned by hands-on coding and high-level abstractions, led to a robust model adept at predicting complex patterns. A 4D visualization showcased the model's accuracy and areas for potential improvement, particularly at the data range's extremes"
      ],
      "metadata": {
        "id": "JQ7NtikUwyH6"
      }
    }
  ]
}