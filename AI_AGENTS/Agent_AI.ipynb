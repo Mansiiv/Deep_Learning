{
  "nbformat": 4,
  "nbformat_minor": 0,
  "metadata": {
    "colab": {
      "provenance": [],
      "toc_visible": true
    },
    "kernelspec": {
      "name": "python3",
      "display_name": "Python 3"
    },
    "language_info": {
      "name": "python"
    }
  },
  "cells": [
    {
      "cell_type": "markdown",
      "source": [
        "### **AI AGENT Assignment**:\n",
        "\n",
        "A software agent that recommends movies based on genres or actors using the TMDB API.\n",
        "\n",
        "[**TMBD WEBSITE LINK**](https://www.themoviedb.org/?language=en-US)\n"
      ],
      "metadata": {
        "id": "rN4sU7mYG0NG"
      }
    },
    {
      "cell_type": "markdown",
      "source": [
        "Installed the requests library to make HTTP requests to the TMDB API."
      ],
      "metadata": {
        "id": "JUkCucbhHbbn"
      }
    },
    {
      "cell_type": "code",
      "execution_count": null,
      "metadata": {
        "colab": {
          "base_uri": "https://localhost:8080/"
        },
        "id": "4IoawhdUZGN9",
        "outputId": "5ed74834-1c63-4b63-99e3-4f391d56e77f"
      },
      "outputs": [
        {
          "output_type": "stream",
          "name": "stdout",
          "text": [
            "Requirement already satisfied: requests in /usr/local/lib/python3.10/dist-packages (2.31.0)\n",
            "Requirement already satisfied: charset-normalizer<4,>=2 in /usr/local/lib/python3.10/dist-packages (from requests) (3.3.2)\n",
            "Requirement already satisfied: idna<4,>=2.5 in /usr/local/lib/python3.10/dist-packages (from requests) (3.6)\n",
            "Requirement already satisfied: urllib3<3,>=1.21.1 in /usr/local/lib/python3.10/dist-packages (from requests) (2.0.7)\n",
            "Requirement already satisfied: certifi>=2017.4.17 in /usr/local/lib/python3.10/dist-packages (from requests) (2024.2.2)\n"
          ]
        }
      ],
      "source": [
        "!pip install requests\n",
        "import requests"
      ]
    },
    {
      "cell_type": "markdown",
      "source": [
        "### MovieRecommender Class\n",
        "\n",
        " A Python class that encapsulates the functionality needed to interact with the TMDB API. It included methods to:\n",
        "\n",
        "Fetch and list all available genres from TMDB.\n",
        "Obtain an actor's ID by name.\n",
        "Recommend movies based on a specific genre.\n",
        "Recommend movies associated with a given actor."
      ],
      "metadata": {
        "id": "ffUis6PyLMNd"
      }
    },
    {
      "cell_type": "code",
      "source": [
        "import requests\n",
        "\n",
        "class MovieRecommender:\n",
        "    def __init__(self, api_key):\n",
        "        self.api_key = api_key\n",
        "        self.base_url = \"https://api.themoviedb.org/3\"\n",
        "\n",
        "    def get_genres_list(self):\n",
        "        \"\"\"Fetch and return the list of available movie genres.\"\"\"\n",
        "        url = f\"{self.base_url}/genre/movie/list?api_key={self.api_key}&language=en-US\"\n",
        "        response = requests.get(url)\n",
        "        genres = response.json().get('genres', [])\n",
        "        return genres\n",
        "\n",
        "    def get_actor_id(self, actor_name):\n",
        "        \"\"\"Fetch the actor's ID based on the actor's name.\"\"\"\n",
        "        url = f\"{self.base_url}/search/person?api_key={self.api_key}&query={actor_name}\"\n",
        "        response = requests.get(url)\n",
        "        results = response.json().get('results', [])\n",
        "        if results:\n",
        "            return results[0]['id']  # Assume the first result is the correct actor\n",
        "        return None\n",
        "\n",
        "    def recommend_by_genre(self, genre_name, number_of_recommendations=5):\n",
        "        \"\"\"Recommend movies based on the genre.\"\"\"\n",
        "        genres = self.get_genres_list()\n",
        "        genre_id = next((genre['id'] for genre in genres if genre['name'].lower() == genre_name.lower()), None)\n",
        "        if not genre_id:\n",
        "            return \"Genre not found.\"\n",
        "\n",
        "        url = f\"{self.base_url}/discover/movie?api_key={self.api_key}&with_genres={genre_id}&sort_by=popularity.desc\"\n",
        "        response = requests.get(url)\n",
        "        movies = response.json().get('results', [])[:number_of_recommendations]\n",
        "        return movies\n",
        "\n",
        "    def recommend_by_actor(self, actor_name, number_of_recommendations=5):\n",
        "        \"\"\"Recommend movies based on the actor.\"\"\"\n",
        "        actor_id = self.get_actor_id(actor_name)\n",
        "        if not actor_id:\n",
        "            return \"Actor not found.\"\n",
        "\n",
        "        url = f\"{self.base_url}/discover/movie?api_key={self.api_key}&with_cast={actor_id}&sort_by=popularity.desc\"\n",
        "        response = requests.get(url)\n",
        "        movies = response.json().get('results', [])[:number_of_recommendations]\n",
        "        return movies\n"
      ],
      "metadata": {
        "id": "__42SAnWJB3G"
      },
      "execution_count": null,
      "outputs": []
    },
    {
      "cell_type": "markdown",
      "source": [
        "### interact_with_recommender class\n",
        "\n",
        "An interaction function was provided to support user inputs and display movie recommendations. This function first presented a list of available genres to inform users of their options. Then, it prompted users to choose between searching by genre or actor, processed their input, and displayed a list of recommended movies based on their selection."
      ],
      "metadata": {
        "id": "wyQ8bgspLWx3"
      }
    },
    {
      "cell_type": "code",
      "source": [
        "def interact_with_recommender(api_key):\n",
        "    recommender = MovieRecommender(api_key)\n",
        "\n",
        "    # Display available genres\n",
        "    genres = recommender.get_genres_list()\n",
        "    print(\"Available genres:\")\n",
        "    for genre in genres:\n",
        "        print(f\"- {genre['name']}\")\n",
        "    print(\"\\nYou can make recommendations based on these genres or by specifying an actor's name.\")\n",
        "\n",
        "    while True:\n",
        "        choice = input(\"\\nDo you want to search by 'genre' or 'actor'? (type 'exit' to quit): \").lower()\n",
        "        if choice == 'exit':\n",
        "            break\n",
        "\n",
        "        if choice == 'genre':\n",
        "            genre = input(\"Enter a movie genre: \")\n",
        "            recommendations = recommender.recommend_by_genre(genre)\n",
        "        elif choice == 'actor':\n",
        "            actor = input(\"Enter an actor's name: \")\n",
        "            recommendations = recommender.recommend_by_actor(actor)\n",
        "        else:\n",
        "            print(\"Invalid choice. Please type 'genre' or 'actor'.\")\n",
        "            continue\n",
        "\n",
        "        if isinstance(recommendations, str):\n",
        "            print(recommendations)  # Error message, e.g., \"Genre not found.\"\n",
        "        else:\n",
        "            print(f\"\\nRecommended movies:\")\n",
        "            for movie in recommendations:\n",
        "                print(f\"- {movie['title']} (Rating: {movie.get('vote_average', 'N/A')})\")\n"
      ],
      "metadata": {
        "id": "n_-LUDwdJEYQ"
      },
      "execution_count": null,
      "outputs": []
    },
    {
      "cell_type": "code",
      "source": [
        "api_key = \"06b407e6f031f529afd93627668d017b\"  # This is a placeholder; use your actual TMDB API key\n",
        "interact_with_recommender(api_key)\n"
      ],
      "metadata": {
        "colab": {
          "base_uri": "https://localhost:8080/"
        },
        "id": "56pjDD3SKDoC",
        "outputId": "fc604f3b-ee7b-4d41-948a-63af1e94ff43"
      },
      "execution_count": null,
      "outputs": [
        {
          "name": "stdout",
          "output_type": "stream",
          "text": [
            "Available genres:\n",
            "- Action\n",
            "- Adventure\n",
            "- Animation\n",
            "- Comedy\n",
            "- Crime\n",
            "- Documentary\n",
            "- Drama\n",
            "- Family\n",
            "- Fantasy\n",
            "- History\n",
            "- Horror\n",
            "- Music\n",
            "- Mystery\n",
            "- Romance\n",
            "- Science Fiction\n",
            "- TV Movie\n",
            "- Thriller\n",
            "- War\n",
            "- Western\n",
            "\n",
            "You can make recommendations based on these genres or by specifying an actor's name.\n",
            "\n",
            "Do you want to search by 'genre' or 'actor'? (type 'exit' to quit): genre\n",
            "Enter a movie genre: comedy\n",
            "\n",
            "Recommended movies:\n",
            "- Kung Fu Panda 4 (Rating: 6.873)\n",
            "- Argylle (Rating: 6.149)\n",
            "- Megamind vs. the Doom Syndicate (Rating: 5.659)\n",
            "- Migration (Rating: 7.566)\n",
            "- Poor Things (Rating: 7.859)\n",
            "\n",
            "Do you want to search by 'genre' or 'actor'? (type 'exit' to quit): actor\n",
            "Enter an actor's name: alia bhatt\n",
            "\n",
            "Recommended movies:\n",
            "- Darlings (Rating: 6.908)\n",
            "- Heart of Stone (Rating: 6.852)\n",
            "- RRR (Rating: 7.8)\n",
            "- Brahmāstra Part One: Shiva (Rating: 6.517)\n",
            "- Zero (Rating: 5.244)\n",
            "\n",
            "Do you want to search by 'genre' or 'actor'? (type 'exit' to quit): actor\n",
            "Enter an actor's name: brad pitt\n",
            "\n",
            "Recommended movies:\n",
            "- Bullet Train (Rating: 7.482)\n",
            "- Megamind (Rating: 6.975)\n",
            "- Fight Club (Rating: 8.441)\n",
            "- Deadpool 2 (Rating: 7.489)\n",
            "- Babylon (Rating: 7.418)\n",
            "\n",
            "Do you want to search by 'genre' or 'actor'? (type 'exit' to quit): actor\n",
            "Enter an actor's name: deepika padukone\n",
            "\n",
            "Recommended movies:\n",
            "- Jawan (Rating: 7.236)\n",
            "- xXx: Return of Xander Cage (Rating: 6.1)\n",
            "- Fighter (Rating: 5.8)\n",
            "- Om Shanti Om (Rating: 7.058)\n",
            "- Pathaan (Rating: 6.617)\n",
            "\n",
            "Do you want to search by 'genre' or 'actor'? (type 'exit' to quit): genre\n",
            "Enter a movie genre: drama\n",
            "\n",
            "Recommended movies:\n",
            "- Sri Asih (Rating: 6.444)\n",
            "- Bob Marley: One Love (Rating: 6.944)\n",
            "- Oppenheimer (Rating: 8.112)\n",
            "- Art of Love (Rating: 7.1)\n",
            "- The Beekeeper (Rating: 7.477)\n",
            "\n",
            "Do you want to search by 'genre' or 'actor'? (type 'exit' to quit): genre\n",
            "Enter a movie genre: thriller\n",
            "\n",
            "Recommended movies:\n",
            "- No Way Up (Rating: 6.15)\n",
            "- Air Force One Down (Rating: 6.076)\n",
            "- Land of Bad (Rating: 7.065)\n",
            "- Ruthless (Rating: 6.6)\n",
            "- Meteor (Rating: 5.418)\n",
            "\n",
            "Do you want to search by 'genre' or 'actor'? (type 'exit' to quit): exit\n"
          ]
        }
      ]
    },
    {
      "cell_type": "markdown",
      "source": [
        "### Conclusion:\n",
        "\n",
        "* This movie recommender system assignment/project demonstrated the power of combining API data with Python programming to create an interactive, user-friendly application.\n",
        "\n",
        "* It provided a foundation that can be built upon with more sophisticated features, including personalization, complex querying capabilities, and integration with other data sources or services.\n",
        "\n",
        "* The assignment serves as an excellent example of how to leverage external APIs to enrich applications with dynamic content and functionality.\n",
        "\n",
        "\n",
        "\n"
      ],
      "metadata": {
        "id": "dMo5ijH2KsOA"
      }
    }
  ]
}